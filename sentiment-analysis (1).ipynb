{
 "cells": [
  {
   "cell_type": "markdown",
   "id": "cf2199e6-ed1e-4b6c-89cc-654134f1469c",
   "metadata": {},
   "source": [
    "SST2 dataset is being used for model training in sentiment analysis, as it is suggested. The dataset ahs labels of 0 and 1 , as negative and positive respectively."
   ]
  },
  {
   "cell_type": "code",
   "execution_count": 61,
   "id": "7f614b3c-0aa7-4b42-b932-3e2aaf79451a",
   "metadata": {},
   "outputs": [],
   "source": [
    "import torch.nn as nn\n",
    "\n"
   ]
  },
  {
   "cell_type": "code",
   "execution_count": 62,
   "id": "a21bb29c-d630-4ce7-8189-94e3405b698a",
   "metadata": {},
   "outputs": [
    {
     "name": "stdout",
     "output_type": "stream",
     "text": [
      "Requirement already satisfied: torchdata in c:\\users\\paramik\\anaconda3\\lib\\site-packages (0.5.1)\n",
      "Requirement already satisfied: urllib3>=1.25 in c:\\users\\paramik\\anaconda3\\lib\\site-packages (from torchdata) (1.26.11)\n",
      "Requirement already satisfied: portalocker>=2.0.0 in c:\\users\\paramik\\anaconda3\\lib\\site-packages (from torchdata) (2.7.0)\n",
      "Requirement already satisfied: torch==1.13.1 in c:\\users\\paramik\\anaconda3\\lib\\site-packages (from torchdata) (1.13.1)\n",
      "Requirement already satisfied: requests in c:\\users\\paramik\\anaconda3\\lib\\site-packages (from torchdata) (2.28.1)\n",
      "Requirement already satisfied: typing-extensions in c:\\users\\paramik\\anaconda3\\lib\\site-packages (from torch==1.13.1->torchdata) (4.3.0)\n",
      "Requirement already satisfied: pywin32>=226 in c:\\users\\paramik\\anaconda3\\lib\\site-packages (from portalocker>=2.0.0->torchdata) (302)\n",
      "Requirement already satisfied: charset-normalizer<3,>=2 in c:\\users\\paramik\\anaconda3\\lib\\site-packages (from requests->torchdata) (2.0.4)\n",
      "Requirement already satisfied: certifi>=2017.4.17 in c:\\users\\paramik\\anaconda3\\lib\\site-packages (from requests->torchdata) (2022.9.14)\n",
      "Requirement already satisfied: idna<4,>=2.5 in c:\\users\\paramik\\anaconda3\\lib\\site-packages (from requests->torchdata) (3.3)\n",
      "Note: you may need to restart the kernel to use updated packages.\n"
     ]
    }
   ],
   "source": [
    "pip install torchdata"
   ]
  },
  {
   "cell_type": "code",
   "execution_count": 63,
   "id": "6248964e-9101-47d5-9977-2062ce5ec2ee",
   "metadata": {},
   "outputs": [],
   "source": [
    "import torchdata"
   ]
  },
  {
   "cell_type": "code",
   "execution_count": 64,
   "id": "e3edb2c5-bb61-484a-af88-5f0c23a63cac",
   "metadata": {},
   "outputs": [],
   "source": [
    "import torchtext"
   ]
  },
  {
   "cell_type": "code",
   "execution_count": 65,
   "id": "9ce8481c-aff5-4c91-8fb5-76b5ed082974",
   "metadata": {},
   "outputs": [],
   "source": [
    "import time\n",
    "import torch"
   ]
  },
  {
   "cell_type": "code",
   "execution_count": 66,
   "id": "e0254242-5aad-4378-adc2-0a841c2b19fa",
   "metadata": {},
   "outputs": [],
   "source": [
    "SEED=1234\n",
    "torch.manual_seed(SEED)\n",
    "torch.backends.cudnn.deterministic=True"
   ]
  },
  {
   "cell_type": "markdown",
   "id": "02a210e4-4873-4563-b6eb-da64087e0146",
   "metadata": {},
   "source": [
    "Load https://nlp.stanford.edu/sentiment/treebank.html, which is the given data"
   ]
  },
  {
   "cell_type": "code",
   "execution_count": 67,
   "id": "89ca4efd-76a9-4459-a287-293d4ee13aa6",
   "metadata": {},
   "outputs": [],
   "source": [
    "from torchtext.datasets import SST2"
   ]
  },
  {
   "cell_type": "code",
   "execution_count": 68,
   "id": "94227959-353b-45a3-be37-692e32e2d03e",
   "metadata": {},
   "outputs": [],
   "source": [
    "train_part=SST2(split='train')\n",
    "test_part=SST2(split='dev')"
   ]
  },
  {
   "cell_type": "markdown",
   "id": "510fd075-f2ad-4d8b-863f-3da52c7fe8c1",
   "metadata": {},
   "source": [
    "EDA"
   ]
  },
  {
   "cell_type": "code",
   "execution_count": 69,
   "id": "a6b454c7-0031-4c28-ba86-3bd499d54003",
   "metadata": {},
   "outputs": [
    {
     "data": {
      "text/plain": [
       "('in memory', 1)"
      ]
     },
     "execution_count": 69,
     "metadata": {},
     "output_type": "execute_result"
    }
   ],
   "source": [
    "list(iter(train_part))[100]\n"
   ]
  },
  {
   "cell_type": "code",
   "execution_count": 70,
   "id": "85079319-7269-47c3-9708-6d31a0cf2586",
   "metadata": {},
   "outputs": [
    {
     "data": {
      "text/plain": [
       "{0, 1}"
      ]
     },
     "execution_count": 70,
     "metadata": {},
     "output_type": "execute_result"
    }
   ],
   "source": [
    "set([y for x, y in list(iter(train_part))])\n"
   ]
  },
  {
   "cell_type": "code",
   "execution_count": 71,
   "id": "0123c525-24f6-48af-b385-2eab972cb0df",
   "metadata": {},
   "outputs": [
    {
     "data": {
      "text/plain": [
       "67349"
      ]
     },
     "execution_count": 71,
     "metadata": {},
     "output_type": "execute_result"
    }
   ],
   "source": [
    "train_size = len(list(iter(train_part)))\n",
    "train_size"
   ]
  },
  {
   "cell_type": "code",
   "execution_count": 72,
   "id": "944930c2-ba2c-4308-ab48-f7c3fc8810d5",
   "metadata": {},
   "outputs": [],
   "source": [
    "train_part, val = train_part.random_split(total_length=train_size, \n",
    "                                            weights = {\"train\": 0.99, \n",
    "                                                       \"val\": 0.01},\n",
    "                                            seed = SEED)"
   ]
  },
  {
   "cell_type": "code",
   "execution_count": 73,
   "id": "34b357ed-d321-49ec-92f8-2096a1cd36f4",
   "metadata": {},
   "outputs": [],
   "source": [
    "train_size = len(list(iter(train_part)))\n",
    "val_size   = len(list(iter(val)))\n",
    "test_size  = len(list(iter(test_part)))"
   ]
  },
  {
   "cell_type": "code",
   "execution_count": 74,
   "id": "4a8a28cc-775e-4331-b112-7cf2d3b8f24d",
   "metadata": {},
   "outputs": [
    {
     "data": {
      "text/plain": [
       "(66675, 674, 872)"
      ]
     },
     "execution_count": 74,
     "metadata": {},
     "output_type": "execute_result"
    }
   ],
   "source": [
    "train_size, val_size, test_size\n"
   ]
  },
  {
   "cell_type": "markdown",
   "id": "ea711bc7-f0b5-4597-b7ca-7b106e651de6",
   "metadata": {},
   "source": [
    "Preprocessing"
   ]
  },
  {
   "cell_type": "code",
   "execution_count": null,
   "id": "ef07ed5b-d093-4f21-8fb3-6c1f876dd1d4",
   "metadata": {},
   "outputs": [],
   "source": []
  },
  {
   "cell_type": "code",
   "execution_count": 75,
   "id": "e5f9c26f-8f1f-48c9-9d8b-e99dee085d57",
   "metadata": {},
   "outputs": [],
   "source": [
    "from torchtext.data.utils import get_tokenizer\n",
    "tokenizer = get_tokenizer('spacy', language='en_core_web_md')\n"
   ]
  },
  {
   "cell_type": "code",
   "execution_count": 76,
   "id": "2f5c029a-6286-47a9-bf12-d7cf2c432c74",
   "metadata": {},
   "outputs": [
    {
     "data": {
      "text/plain": [
       "('hide new secretions from the parental units', 0)"
      ]
     },
     "execution_count": 76,
     "metadata": {},
     "output_type": "execute_result"
    }
   ],
   "source": [
    "next(iter(train_part))\n"
   ]
  },
  {
   "cell_type": "code",
   "execution_count": 77,
   "id": "392c5800-d0f4-4a60-9c5c-5e403bffab3f",
   "metadata": {},
   "outputs": [],
   "source": [
    "## 3.2 Numericalization\n",
    "\n",
    "from torchtext.vocab import build_vocab_from_iterator\n",
    "\n",
    "def yield_tokens(data_iter):  #data_iter, e.g., train\n",
    "    for text,_, in data_iter:\n",
    "        yield tokenizer(text)\n",
    "        \n",
    "vocab = build_vocab_from_iterator(yield_tokens(train_part), specials=['<unk>', '<pad>','<bos>', '<eos>'])"
   ]
  },
  {
   "cell_type": "code",
   "execution_count": 78,
   "id": "7ab30e15-e256-4b04-bcfe-12263d87dbcf",
   "metadata": {},
   "outputs": [],
   "source": [
    "vocab.set_default_index(vocab[\"<unk>\"])"
   ]
  },
  {
   "cell_type": "code",
   "execution_count": 79,
   "id": "2a22a54f-9eb7-448b-927d-865e2949871e",
   "metadata": {},
   "outputs": [
    {
     "data": {
      "text/plain": [
       "[0, 935, 42, 3491, 11, 27, 956, 2974, 9]"
      ]
     },
     "execution_count": 79,
     "metadata": {},
     "output_type": "execute_result"
    }
   ],
   "source": [
    "vocab(['Chaky', 'wants', 'his', 'student', 'to', 'be', 'number', '1', '.'])\n"
   ]
  },
  {
   "cell_type": "markdown",
   "id": "4e20ecb3-b023-41b3-b741-af8e2aeefcc6",
   "metadata": {},
   "source": [
    "FastText embedding"
   ]
  },
  {
   "cell_type": "code",
   "execution_count": 80,
   "id": "131a8afe-40fe-43a8-bba0-0a965ed04623",
   "metadata": {},
   "outputs": [],
   "source": [
    "from torchtext.vocab import FastText\n",
    "fast_vectors = FastText(language='simple')"
   ]
  },
  {
   "cell_type": "code",
   "execution_count": 81,
   "id": "d1fb0340-60fa-4d72-a68f-6a5ad97736b3",
   "metadata": {},
   "outputs": [
    {
     "name": "stdout",
     "output_type": "stream",
     "text": [
      "cpu\n"
     ]
    }
   ],
   "source": [
    "device = torch.device('cuda' if torch.cuda.is_available() else 'cpu')\n",
    "print(device)"
   ]
  },
  {
   "cell_type": "code",
   "execution_count": 82,
   "id": "34f789ad-dcf3-4c9b-85a2-d68434a1fb38",
   "metadata": {},
   "outputs": [],
   "source": [
    "fast_embedding = fast_vectors.get_vecs_by_tokens(vocab.get_itos()).to(device)\n"
   ]
  },
  {
   "cell_type": "code",
   "execution_count": 83,
   "id": "a4776c5d-e737-4c2a-a285-c0f55b7e1906",
   "metadata": {},
   "outputs": [
    {
     "data": {
      "text/plain": [
       "torch.Size([13882, 300])"
      ]
     },
     "execution_count": 83,
     "metadata": {},
     "output_type": "execute_result"
    }
   ],
   "source": [
    "fast_embedding.shape #(vocab size, 300) == (52k, 300)\n"
   ]
  },
  {
   "cell_type": "code",
   "execution_count": 84,
   "id": "cc980f7c-9844-4de8-ad5c-eb1adbed13d1",
   "metadata": {},
   "outputs": [
    {
     "data": {
      "text/plain": [
       "tensor([-0.0129, -0.3870,  0.4670,  0.0256,  0.1554, -0.0399, -0.2793,  0.0717,\n",
       "        -0.4365,  0.2239])"
      ]
     },
     "execution_count": 84,
     "metadata": {},
     "output_type": "execute_result"
    }
   ],
   "source": [
    "fast_embedding[100][:10]"
   ]
  },
  {
   "cell_type": "markdown",
   "id": "10d9e741-1ce6-4669-89a0-24cf8238c084",
   "metadata": {},
   "source": [
    "preparing dataloader"
   ]
  },
  {
   "cell_type": "code",
   "execution_count": 85,
   "id": "b91f66df-2145-4f1d-b124-44c894f1c0f8",
   "metadata": {},
   "outputs": [],
   "source": [
    "text_pipeline  = lambda x: vocab(tokenizer(x))\n",
    "label_pipeline = lambda x: int(x)  #1, 2, 3, 4 ---> 0, 1, 2, 3"
   ]
  },
  {
   "cell_type": "code",
   "execution_count": 86,
   "id": "5f8134f5-2185-445c-a47c-b076341ba7ea",
   "metadata": {},
   "outputs": [],
   "source": [
    "from torch.utils.data import DataLoader\n",
    "from torch.nn.utils.rnn import pad_sequence #making each batch same length\n",
    "\n",
    "pad_ix = vocab['<pad>']\n",
    "\n",
    "#this function gonna be called by DataLoader\n",
    "def collate_batch(batch):\n",
    "    label_list, text_list, length_list = [], [], []\n",
    "    for (_text, _label) in batch:\n",
    "        label_list.append(label_pipeline(_label))  #[3, 1, 0, 2, ]\n",
    "        processed_text = torch.tensor(text_pipeline(_text), dtype=torch.int64) #[0, 44, 21, 2]\n",
    "        text_list.append(processed_text)\n",
    "        length_list.append(processed_text.size(0)) #for padding\n",
    "        \n",
    "    return torch.tensor(label_list, dtype=torch.int64), \\\n",
    "        pad_sequence(text_list, padding_value=pad_ix, batch_first=True), \\\n",
    "        torch.tensor(length_list, dtype=torch.int64)"
   ]
  },
  {
   "cell_type": "code",
   "execution_count": 87,
   "id": "dfe53504-f887-481a-9819-2de8b837a9db",
   "metadata": {},
   "outputs": [],
   "source": [
    "batch_size = 64\n",
    "\n",
    "train_loader = DataLoader(train_part, batch_size = batch_size,\n",
    "                          shuffle=True, collate_fn=collate_batch)\n",
    "\n",
    "val_loader   = DataLoader(val, batch_size = batch_size,\n",
    "                          shuffle=True, collate_fn=collate_batch)\n",
    "\n",
    "test_loader  = DataLoader(test_part, batch_size = batch_size,\n",
    "                          shuffle=True, collate_fn=collate_batch)"
   ]
  },
  {
   "cell_type": "code",
   "execution_count": null,
   "id": "05f527be-3d0b-4e84-b282-c666aee3c72b",
   "metadata": {},
   "outputs": [],
   "source": []
  },
  {
   "cell_type": "code",
   "execution_count": 88,
   "id": "8fdfa6c3-0421-48f2-86db-913db3ad835a",
   "metadata": {},
   "outputs": [],
   "source": [
    "class LSTM(nn.Module):\n",
    "    \n",
    "    def __init__(self, input_dim, emb_dim, hid_dim, output_dim, num_layers, bidirectional, \n",
    "                 dropout):\n",
    "        super().__init__()\n",
    "        #input dim = how many vocab you have\n",
    "        #emb dim = 300 --> we use fasttext\n",
    "        #padding_idx tells this lookup table to ignore, and just randomize....\n",
    "        #<unk>, <bos>, <eos>\n",
    "        self.embedding_layer = nn.Embedding(input_dim, emb_dim, padding_idx=pad_ix)\n",
    "        self.lstm            = nn.LSTM(emb_dim,\n",
    "                                       hid_dim,\n",
    "                                       num_layers = num_layers,\n",
    "                                       bidirectional = bidirectional,\n",
    "                                       dropout = dropout,  #dropout is applied between layers....\n",
    "                                       batch_first=True)\n",
    "        \n",
    "        self.fc              = nn.Linear(hid_dim * 2, output_dim)\n",
    "        \n",
    "    def forward(self, x, lengths):\n",
    "        #x: [batch size, seq len]\n",
    "        \n",
    "        embedded_x = self.embedding_layer(x)\n",
    "        #x: [batch size, seq len, emb dim]\n",
    "        \n",
    "        #pack this embedded_x in such a way that RNN knows to ignore padding....\n",
    "        #without batch_first = True; things will become [seq len, batch size, emb dim]\n",
    "        pack_embedded = nn.utils.rnn.pack_padded_sequence(embedded_x, lengths.to('cpu'),\n",
    "                                                          enforce_sorted=False,\n",
    "                                                          batch_first = True\n",
    "                                                          )\n",
    "        \n",
    "        #packed_outputs is basically all hidden states\n",
    "        #h is the last hidden state\n",
    "        #c is the last cell state\n",
    "        packed_outputs, (h, _) = self.lstm(pack_embedded)\n",
    "        \n",
    "        #h: [num_layers * num_directions, batch_size, hidden dim]\n",
    "        \n",
    "        #it happens that because packed_outputs is all hidden states....some hidden states near the end is\n",
    "        #hidden state for padding, pytorch guys help you\n",
    "        #by using this pad_packed_sequence, then all the hidden states will only be not padding....\n",
    "        output, output_lengths = nn.utils.rnn.pad_packed_sequence(packed_outputs, batch_first = True)\n",
    "        #output: [batch size, seq len, direction * hidden sim]\n",
    "        \n",
    "        #last hidden state - concat last forward and backward states\n",
    "        last_hidden_state = torch.cat((h[-1, :, :], h[-2, :, :]), dim = 1)\n",
    "        #last_hidden_state: [batch_size, hidden_dim * 2]\n",
    "        \n",
    "        #for sentiment analysis.....what should i sent to my linear layer...\n",
    "        return self.fc(last_hidden_state)  #[batch_size, output_dim]==> [batch_size, 4]"
   ]
  },
  {
   "cell_type": "markdown",
   "id": "8cf844e1-60d2-4bbd-823d-6e46dee43644",
   "metadata": {},
   "source": [
    "Training the model"
   ]
  },
  {
   "cell_type": "code",
   "execution_count": 89,
   "id": "aee2a9f5-1dbb-480c-a746-f988aca13a47",
   "metadata": {},
   "outputs": [],
   "source": [
    "#explicitly initialize weights for better learning\n",
    "def initialize_weights(m):\n",
    "    if isinstance(m, nn.Linear):\n",
    "        nn.init.xavier_normal_(m.weight)\n",
    "        nn.init.zeros_(m.bias)\n",
    "    elif isinstance(m, nn.LSTM):\n",
    "        for name, param in m.named_parameters():\n",
    "            if 'bias' in name:\n",
    "                nn.init.zeros_(param)\n",
    "            elif 'weight' in name:\n",
    "                nn.init.orthogonal_(param)"
   ]
  },
  {
   "cell_type": "code",
   "execution_count": 90,
   "id": "a3a39d02-7e4f-472a-9ac6-1cbdc5b1aea4",
   "metadata": {},
   "outputs": [],
   "source": [
    "input_dim  = len(vocab)\n",
    "hid_dim    = 256\n",
    "emb_dim    = 300\n",
    "output_dim = 2 # two classes\n",
    "\n",
    "#for biLSTM\n",
    "num_layers = 2\n",
    "bidirectional = True\n",
    "dropout = 0.5\n",
    "\n",
    "model = LSTM(input_dim, emb_dim, hid_dim, output_dim, num_layers, bidirectional, dropout).to(device)\n",
    "model.apply(initialize_weights)\n",
    "model.embedding_layer.weight.data = fast_embedding #**<------applied the fast text embedding as the initial weights"
   ]
  },
  {
   "cell_type": "code",
   "execution_count": 91,
   "id": "db4e3789-a90d-4882-a3f9-d4644b6ac1dc",
   "metadata": {},
   "outputs": [
    {
     "name": "stdout",
     "output_type": "stream",
     "text": [
      "4164600\n",
      "307200\n",
      "262144\n",
      "  1024\n",
      "  1024\n",
      "307200\n",
      "262144\n",
      "  1024\n",
      "  1024\n",
      "524288\n",
      "262144\n",
      "  1024\n",
      "  1024\n",
      "524288\n",
      "262144\n",
      "  1024\n",
      "  1024\n",
      "  1024\n",
      "     2\n",
      "______\n",
      "6885370\n"
     ]
    }
   ],
   "source": [
    "#we can print the complexity by the number of parameters\n",
    "def count_parameters(model):\n",
    "    params = [p.numel() for p in model.parameters() if p.requires_grad]\n",
    "    for item in params:\n",
    "        print(f'{item:>6}')\n",
    "    print(f'______\\n{sum(params):>6}')\n",
    "    \n",
    "count_parameters(model)"
   ]
  },
  {
   "cell_type": "code",
   "execution_count": 92,
   "id": "fa691839-1a21-40ae-a89f-d0fbd83fcbf6",
   "metadata": {},
   "outputs": [],
   "source": [
    "import torch.optim as optim\n",
    "\n",
    "lr=1e-3\n",
    "\n",
    "#training hyperparameters\n",
    "optimizer = optim.Adam(model.parameters(), lr=lr)\n",
    "criterion = nn.CrossEntropyLoss() #combine softmax with cross entropy"
   ]
  },
  {
   "cell_type": "code",
   "execution_count": 93,
   "id": "4c2586d4-31d9-46c4-a2b0-e5234fe32271",
   "metadata": {},
   "outputs": [],
   "source": [
    "def accuracy(preds, y):\n",
    "    \n",
    "    predicted = torch.max(preds.data, 1)[1]\n",
    "    batch_corr = (predicted == y).sum()\n",
    "    acc = batch_corr / len(y)\n",
    "    \n",
    "    return acc"
   ]
  },
  {
   "cell_type": "code",
   "execution_count": 94,
   "id": "13e0430e-6514-4ad8-9489-25a1ed319bd6",
   "metadata": {},
   "outputs": [],
   "source": [
    "def train(model, loader, optimizer, criterion, loader_length):\n",
    "    epoch_loss = 0\n",
    "    epoch_acc = 0\n",
    "    model.train() #useful for batchnorm and dropout\n",
    "    \n",
    "    for i, (label, text, text_length) in enumerate(loader): \n",
    "        label = label.to(device) #(batch_size, )\n",
    "        text = text.to(device) #(batch_size, seq len)\n",
    "                \n",
    "        #predict\n",
    "        predictions = model(text, text_length).squeeze(1) #output by the fc is (batch_size, 1), thus need to remove this 1\n",
    "        \n",
    "        #calculate loss\n",
    "        loss = criterion(predictions, label)\n",
    "        acc  = accuracy(predictions, label)\n",
    "        \n",
    "        #backprop\n",
    "        optimizer.zero_grad()\n",
    "        loss.backward()\n",
    "        optimizer.step()\n",
    "        \n",
    "        epoch_loss += loss.item()\n",
    "        epoch_acc += acc.item()\n",
    "                        \n",
    "    return epoch_loss / loader_length, epoch_acc / loader_length"
   ]
  },
  {
   "cell_type": "code",
   "execution_count": 95,
   "id": "2c12f6c8-6b56-4ea1-b405-339ee7528f2f",
   "metadata": {},
   "outputs": [],
   "source": [
    "def evaluate(model, loader, criterion, loader_length):\n",
    "    epoch_loss = 0\n",
    "    epoch_acc = 0\n",
    "    model.eval()\n",
    "    \n",
    "    with torch.no_grad():\n",
    "        for i, (label, text, text_length) in enumerate(loader): \n",
    "            label = label.to(device) #(batch_size, )\n",
    "            text  = text.to(device)  #(seq len, batch_size)\n",
    "\n",
    "            predictions = model(text, text_length).squeeze(1) \n",
    "            \n",
    "            loss = criterion(predictions, label)\n",
    "            acc  = accuracy(predictions, label)\n",
    "\n",
    "            epoch_loss += loss.item()\n",
    "            epoch_acc += acc.item()\n",
    "        \n",
    "    return epoch_loss / loader_length, epoch_acc / loader_length"
   ]
  },
  {
   "cell_type": "code",
   "execution_count": 96,
   "id": "41ec9adc-16bf-45bb-bff8-2244603d967a",
   "metadata": {},
   "outputs": [],
   "source": [
    "train_loader_length = len(list(iter(train_loader)))\n",
    "val_loader_length   = len(list(iter(val_loader)))\n",
    "test_loader_length  = len(list(iter(test_loader)))"
   ]
  },
  {
   "cell_type": "code",
   "execution_count": 97,
   "id": "706d7974-3d1a-498f-bd74-acdbd2ce9088",
   "metadata": {},
   "outputs": [],
   "source": [
    "def epoch_time(start_time, end_time):\n",
    "    elapsed_time = end_time - start_time\n",
    "    elapsed_mins = int(elapsed_time / 60)\n",
    "    elapsed_secs = int(elapsed_time - (elapsed_mins * 60))\n",
    "    return elapsed_mins, elapsed_secs"
   ]
  },
  {
   "cell_type": "code",
   "execution_count": 98,
   "id": "298b4c35-33fa-4a06-8b5c-6187024c554a",
   "metadata": {},
   "outputs": [
    {
     "name": "stdout",
     "output_type": "stream",
     "text": [
      "Label shape: torch.Size([64])\n",
      "Text shape: torch.Size([64, 37])\n"
     ]
    }
   ],
   "source": [
    "for label, text, length in train_loader:\n",
    "    break\n",
    "print(\"Label shape:\", label.shape)\n",
    "print(\"Text shape:\", text.shape)"
   ]
  },
  {
   "cell_type": "code",
   "execution_count": 99,
   "id": "66e1fd73-ffaf-46d9-ba21-c1e69edf5d04",
   "metadata": {},
   "outputs": [
    {
     "name": "stdout",
     "output_type": "stream",
     "text": [
      "Epoch: 01 | Time: 13m 27s\n",
      "\tTrain Loss: 0.311 | Train Acc: 86.54%\n",
      "\t Val. Loss: 0.154 |  Val. Acc: 95.35%\n",
      "Epoch: 02 | Time: 12m 5s\n",
      "\tTrain Loss: 0.155 | Train Acc: 94.20%\n",
      "\t Val. Loss: 0.105 |  Val. Acc: 96.75%\n",
      "Epoch: 03 | Time: 11m 15s\n",
      "\tTrain Loss: 0.100 | Train Acc: 96.24%\n",
      "\t Val. Loss: 0.071 |  Val. Acc: 97.32%\n",
      "Epoch: 04 | Time: 11m 4s\n",
      "\tTrain Loss: 0.074 | Train Acc: 97.19%\n",
      "\t Val. Loss: 0.049 |  Val. Acc: 97.87%\n",
      "Epoch: 05 | Time: 11m 14s\n",
      "\tTrain Loss: 0.056 | Train Acc: 97.79%\n",
      "\t Val. Loss: 0.027 |  Val. Acc: 99.01%\n"
     ]
    }
   ],
   "source": [
    "best_valid_loss = float('inf')\n",
    "num_epochs      = 5\n",
    "\n",
    "save_path = f'models/{model.__class__.__name__}.pt'\n",
    "\n",
    "train_losses = []\n",
    "train_accs = []\n",
    "valid_losses = []\n",
    "valid_accs = []\n",
    "\n",
    "for epoch in range(num_epochs):\n",
    "    \n",
    "    start_time = time.time()\n",
    "\n",
    "    train_loss, train_acc = train(model, train_loader, optimizer, criterion, train_loader_length)\n",
    "    valid_loss, valid_acc = evaluate(model, val_loader, criterion, val_loader_length)\n",
    "    \n",
    "    #for plotting\n",
    "    train_losses.append(train_loss)\n",
    "    train_accs.append(train_acc)\n",
    "    valid_losses.append(valid_loss)\n",
    "    valid_accs.append(valid_acc)\n",
    "    \n",
    "    end_time = time.time()\n",
    "    \n",
    "    epoch_mins, epoch_secs = epoch_time(start_time, end_time)\n",
    "    \n",
    "    if valid_loss < best_valid_loss:\n",
    "        best_valid_loss = valid_loss\n",
    "        torch.save(model.state_dict(), save_path)\n",
    "    \n",
    "    print(f'Epoch: {epoch+1:02} | Time: {epoch_mins}m {epoch_secs}s')\n",
    "    print(f'\\tTrain Loss: {train_loss:.3f} | Train Acc: {train_acc*100:.2f}%')\n",
    "    print(f'\\t Val. Loss: {valid_loss:.3f} |  Val. Acc: {valid_acc*100:.2f}%')"
   ]
  },
  {
   "cell_type": "code",
   "execution_count": 100,
   "id": "308dbcd3-4ce1-4631-b86c-95c0bc5e8ea9",
   "metadata": {},
   "outputs": [
    {
     "data": {
      "text/plain": [
       "Text(0, 0.5, 'loss')"
      ]
     },
     "execution_count": 100,
     "metadata": {},
     "output_type": "execute_result"
    },
    {
     "data": {
      "image/png": "[encoded data removed]",
      "text/plain": [
       "<Figure size 1000x600 with 1 Axes>"
      ]
     },
     "metadata": {},
     "output_type": "display_data"
    }
   ],
   "source": [
    "import matplotlib.pyplot as plt\n",
    "fig = plt.figure(figsize=(10, 6))\n",
    "ax = fig.add_subplot(1, 1, 1)\n",
    "ax.plot(train_losses, label = 'train loss')\n",
    "ax.plot(valid_losses, label = 'valid loss')\n",
    "plt.legend()\n",
    "ax.set_xlabel('updates')\n",
    "ax.set_ylabel('loss')"
   ]
  },
  {
   "cell_type": "code",
   "execution_count": 101,
   "id": "9a87ff7d-b851-45b5-905c-e1a6b5c1b7f8",
   "metadata": {},
   "outputs": [
    {
     "data": {
      "text/plain": [
       "Text(0, 0.5, 'acc')"
      ]
     },
     "execution_count": 101,
     "metadata": {},
     "output_type": "execute_result"
    },
    {
     "data": {
      "image/png": "[encoded data removed]",
      "text/plain": [
       "<Figure size 1000x600 with 1 Axes>"
      ]
     },
     "metadata": {},
     "output_type": "display_data"
    }
   ],
   "source": [
    "fig = plt.figure(figsize=(10, 6))\n",
    "ax = fig.add_subplot(1, 1, 1)\n",
    "ax.plot(train_accs, label = 'train acc')\n",
    "ax.plot(valid_accs, label = 'valid acc')\n",
    "plt.legend()\n",
    "ax.set_xlabel('updates')\n",
    "ax.set_ylabel('acc')"
   ]
  },
  {
   "cell_type": "markdown",
   "id": "c84ce7ee-9532-4cf0-9fc7-fd98bae8eb9e",
   "metadata": {},
   "source": [
    "Test on some news"
   ]
  },
  {
   "cell_type": "code",
   "execution_count": 102,
   "id": "1e80cf5f-b4ff-4bbe-a35d-704fd3ccc9ec",
   "metadata": {},
   "outputs": [
    {
     "data": {
      "text/plain": [
       "tensor([   0,   13,  567, 4399, 4701,    9])"
      ]
     },
     "execution_count": 102,
     "metadata": {},
     "output_type": "execute_result"
    }
   ],
   "source": [
    "test_str = \"Meta is now falling nonstop.\"\n",
    "text = torch.tensor(text_pipeline(test_str)).to(device)\n",
    "text"
   ]
  },
  {
   "cell_type": "code",
   "execution_count": 103,
   "id": "ff59f620-ff58-4632-81da-2be75e8aedf6",
   "metadata": {},
   "outputs": [
    {
     "data": {
      "text/plain": [
       "[0, 13, 567, 4399, 4701, 9]"
      ]
     },
     "execution_count": 103,
     "metadata": {},
     "output_type": "execute_result"
    }
   ],
   "source": [
    "text_list = [x.item() for x in text]\n",
    "text_list"
   ]
  },
  {
   "cell_type": "code",
   "execution_count": null,
   "id": "9a6ba146-5d6e-430a-a74e-361f92b43ece",
   "metadata": {},
   "outputs": [],
   "source": []
  },
  {
   "cell_type": "code",
   "execution_count": 105,
   "id": "2e0f4628-5a5e-4c97-93c7-5aac16da4a0f",
   "metadata": {},
   "outputs": [],
   "source": [
    "mapping = vocab.get_itos()"
   ]
  },
  {
   "cell_type": "code",
   "execution_count": 106,
   "id": "30e5a889-178c-4e39-ad3f-bdda523d01a3",
   "metadata": {},
   "outputs": [
    {
     "data": {
      "text/plain": [
       "['<unk>', 'is', 'now', 'falling', 'nonstop', '.']"
      ]
     },
     "execution_count": 106,
     "metadata": {},
     "output_type": "execute_result"
    }
   ],
   "source": [
    "[mapping[num] for num in text_list]\n"
   ]
  },
  {
   "cell_type": "code",
   "execution_count": 107,
   "id": "2b68f732-9589-43b7-87bc-c48d29b2b1e0",
   "metadata": {},
   "outputs": [],
   "source": [
    "text = text.reshape(1, -1)  #because batch_size is 1\n"
   ]
  },
  {
   "cell_type": "code",
   "execution_count": 108,
   "id": "e559db8e-7b70-4320-8f53-5f85fbf153fe",
   "metadata": {},
   "outputs": [],
   "source": [
    "text_length = torch.tensor([text.size(1)]).to(dtype=torch.int64)\n"
   ]
  },
  {
   "cell_type": "code",
   "execution_count": 109,
   "id": "ba9b8244-fc00-483e-be2f-c93f7aa8bbc5",
   "metadata": {},
   "outputs": [],
   "source": [
    "def predict(text, text_length):\n",
    "    with torch.no_grad():\n",
    "        output = model(text, text_length).squeeze(1)\n",
    "        predicted = torch.max(output.data, 1)[1]\n",
    "        return predicted"
   ]
  },
  {
   "cell_type": "code",
   "execution_count": 110,
   "id": "8da6511d-6d77-4dff-8389-06a6a33bf5a4",
   "metadata": {},
   "outputs": [
    {
     "data": {
      "text/plain": [
       "tensor([1])"
      ]
     },
     "execution_count": 110,
     "metadata": {},
     "output_type": "execute_result"
    }
   ],
   "source": [
    "predict(text, text_length)\n"
   ]
  },
  {
   "cell_type": "markdown",
   "id": "ac63a414-e78a-4ad6-8f64-9279a6bc0786",
   "metadata": {},
   "source": [
    "Negative negative sentence"
   ]
  },
  {
   "cell_type": "code",
   "execution_count": 111,
   "id": "2784fda1-6395-4515-b74c-14f5a01512c1",
   "metadata": {},
   "outputs": [
    {
     "data": {
      "text/plain": [
       "tensor([  0,  13, 784,  50,   9])"
      ]
     },
     "execution_count": 111,
     "metadata": {},
     "output_type": "execute_result"
    }
   ],
   "source": [
    "test_str = \"Meta is doing good.\"\n",
    "text = torch.tensor(text_pipeline(test_str)).to(device)\n",
    "text"
   ]
  },
  {
   "cell_type": "code",
   "execution_count": 112,
   "id": "03211b9b-98c8-42d8-ac95-0efafecd62e5",
   "metadata": {},
   "outputs": [
    {
     "data": {
      "text/plain": [
       "[0, 13, 784, 50, 9]"
      ]
     },
     "execution_count": 112,
     "metadata": {},
     "output_type": "execute_result"
    }
   ],
   "source": [
    "text_list = [x.item() for x in text]\n",
    "text_list"
   ]
  },
  {
   "cell_type": "code",
   "execution_count": 113,
   "id": "b71f71ea-7ccc-43b0-9d4c-b5a9e0b0a419",
   "metadata": {},
   "outputs": [
    {
     "data": {
      "text/plain": [
       "['<unk>', 'is', 'doing', 'good', '.']"
      ]
     },
     "execution_count": 113,
     "metadata": {},
     "output_type": "execute_result"
    }
   ],
   "source": [
    "[mapping[num] for num in text_list]\n"
   ]
  },
  {
   "cell_type": "code",
   "execution_count": 114,
   "id": "5b1e50b3-9419-4cca-9c55-fb326a21f986",
   "metadata": {},
   "outputs": [],
   "source": [
    "text = text.reshape(1, -1)  #because batch_size is 1\n"
   ]
  },
  {
   "cell_type": "code",
   "execution_count": 115,
   "id": "c2b72ff6-c8b4-4a1f-afb3-f512060093ab",
   "metadata": {},
   "outputs": [],
   "source": [
    "text_length = torch.tensor([text.size(1)]).to(dtype=torch.int64)\n"
   ]
  },
  {
   "cell_type": "code",
   "execution_count": 116,
   "id": "af6eb3b8-89d1-49b5-aec4-cffa20461efd",
   "metadata": {},
   "outputs": [],
   "source": [
    "def predict(text, text_length):\n",
    "    with torch.no_grad():\n",
    "        output = model(text, text_length).squeeze(1)\n",
    "        predicted = torch.max(output.data, 1)[1]\n",
    "        return predicted"
   ]
  },
  {
   "cell_type": "code",
   "execution_count": 117,
   "id": "7e352bc9-b0a1-4bd6-a554-f1ff8c405f6e",
   "metadata": {},
   "outputs": [
    {
     "data": {
      "text/plain": [
       "tensor([1])"
      ]
     },
     "execution_count": 117,
     "metadata": {},
     "output_type": "execute_result"
    }
   ],
   "source": [
    "predict(text, text_length)\n"
   ]
  },
  {
   "cell_type": "markdown",
   "id": "1dc7b3ab-6b48-4204-a292-286e29e8e706",
   "metadata": {},
   "source": [
    "Negative Positive sentence"
   ]
  },
  {
   "cell_type": "code",
   "execution_count": 118,
   "id": "3c1c7f3a-2e80-406e-b1ed-442b272296df",
   "metadata": {},
   "outputs": [
    {
     "data": {
      "text/plain": [
       "tensor([  0,  13,  37, 784,  50,   9])"
      ]
     },
     "execution_count": 118,
     "metadata": {},
     "output_type": "execute_result"
    }
   ],
   "source": [
    "test_str = \"Meta is not doing good.\"\n",
    "text = torch.tensor(text_pipeline(test_str)).to(device)\n",
    "text"
   ]
  },
  {
   "cell_type": "code",
   "execution_count": 119,
   "id": "75188611-3701-4d56-9a00-3cb2df27a5d6",
   "metadata": {},
   "outputs": [
    {
     "data": {
      "text/plain": [
       "[0, 13, 37, 784, 50, 9]"
      ]
     },
     "execution_count": 119,
     "metadata": {},
     "output_type": "execute_result"
    }
   ],
   "source": [
    "text_list = [x.item() for x in text]\n",
    "text_list"
   ]
  },
  {
   "cell_type": "code",
   "execution_count": 120,
   "id": "77a495b8-49c0-4c88-bea7-1dba89c18d9b",
   "metadata": {},
   "outputs": [
    {
     "data": {
      "text/plain": [
       "['<unk>', 'is', 'not', 'doing', 'good', '.']"
      ]
     },
     "execution_count": 120,
     "metadata": {},
     "output_type": "execute_result"
    }
   ],
   "source": [
    "[mapping[num] for num in text_list]\n"
   ]
  },
  {
   "cell_type": "code",
   "execution_count": 121,
   "id": "a12a86da-b0c6-466d-8a22-4e26c0351888",
   "metadata": {},
   "outputs": [],
   "source": [
    "text = text.reshape(1, -1)  #because batch_size is 1\n"
   ]
  },
  {
   "cell_type": "code",
   "execution_count": 122,
   "id": "c9cfcf09-1c1b-445f-a29b-8ca26929dcbd",
   "metadata": {},
   "outputs": [],
   "source": [
    "text_length = torch.tensor([text.size(1)]).to(dtype=torch.int64)\n"
   ]
  },
  {
   "cell_type": "code",
   "execution_count": 123,
   "id": "2bee34ec-1e78-426a-886d-51901fc4ff49",
   "metadata": {},
   "outputs": [],
   "source": [
    "def predict(text, text_length):\n",
    "    with torch.no_grad():\n",
    "        output = model(text, text_length).squeeze(1)\n",
    "        predicted = torch.max(output.data, 1)[1]\n",
    "        return predicted"
   ]
  },
  {
   "cell_type": "code",
   "execution_count": 124,
   "id": "05791c3b-1e12-498a-a742-d9194cac8772",
   "metadata": {},
   "outputs": [
    {
     "data": {
      "text/plain": [
       "tensor([0])"
      ]
     },
     "execution_count": 124,
     "metadata": {},
     "output_type": "execute_result"
    }
   ],
   "source": [
    "predict(text, text_length)\n"
   ]
  },
  {
   "cell_type": "markdown",
   "id": "55db0332-a2cd-4ec9-bdc4-71759fa29c07",
   "metadata": {},
   "source": [
    "From the model here, we can see that the model is achieveing high accuracy and is performing well."
   ]
  },
  {
   "cell_type": "code",
   "execution_count": null,
   "id": "72bffed4-cd16-4856-893e-3de93b65ee3e",
   "metadata": {},
   "outputs": [],
   "source": []
  }
 ],
 "metadata": {
  "kernelspec": {
   "display_name": "Python 3 (ipykernel)",
   "language": "python",
   "name": "python3"
  },
  "language_info": {
   "codemirror_mode": {
    "name": "ipython",
    "version": 3
   },
   "file_extension": ".py",
   "mimetype": "text/x-python",
   "name": "python",
   "nbconvert_exporter": "python",
   "pygments_lexer": "ipython3",
   "version": "3.9.13"
  }
 },
 "nbformat": 4,
 "nbformat_minor": 5
}

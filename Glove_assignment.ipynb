{
  "nbformat": 4,
  "nbformat_minor": 0,
  "metadata": {
    "colab": {
      "provenance": []
    },
    "kernelspec": {
      "name": "python3",
      "display_name": "Python 3"
    },
    "language_info": {
      "name": "python"
    }
  },
  "cells": [
    {
      "cell_type": "code",
      "execution_count": null,
      "metadata": {
        "id": "O7LkW3F6AgBo"
      },
      "outputs": [],
      "source": []
    },
    {
      "cell_type": "markdown",
      "source": [
        "Comparison between syntactic and semantic accuracy for Glove"
      ],
      "metadata": {
        "id": "jpD1EU4hAkZU"
      }
    },
    {
      "cell_type": "code",
      "source": [
        "import numpy as np\n",
        "import torch\n",
        "import torch.nn as nn\n",
        "import torch.optim as optim\n",
        "import matplotlib.pyplot as plt"
      ],
      "metadata": {
        "id": "H-N2uq78Ao4q"
      },
      "execution_count": 1,
      "outputs": []
    },
    {
      "cell_type": "code",
      "source": [
        "#Load data\n",
        "corpus=[\"lion tiger carnivore\", \"tiger lion carnivore\", \"tiger carnivore lion \", \"giraffe zebra herbivore\", \"zebra giraffe herbivore\", \"giraffe herbivore zebra\", \"honda toyota car\", \"toyota honda car\",\" honda car toyota\",\"chicken beef meat\",\"beef chicken meat\",\"chicken meat beef\", \"potato cucumber vegetable\",\"cucumber potato vegetable \", \"potato vegetable cucumber\", \"bee ant insect\",\"ant bee insect\",\"bee insect ant\",\"tennis cricket game\",\"cricket tennis game\",\"tennis game cricket\",\"python java program\",\"java python program\",\"python program java\",\"english hindi language\",\"hindi english language\",\"english language hindi\",\"full time part time student\",\"part time full time student\",\"full time student part time\",\"cocacola pepsi soda\",\"pepsi cocacola soda\",\"cocacola soda pepsi\",\"asus macbook laptop\",\"macbook asus laptop\",\"asus laptop macbook\",\"india brazil country\",\"brazil india country\",\"india country brazil\",\"shirt pant dress\",\"pant shirt dress\",\"shirt dress pant\",\"summer autumn season\",\"autumn summer season\",\"summer season autumn\",\"solid liquid state\",\"liquid solid state\",\"solid state liquid\",\"physics chemistry subject\",\"chemistry physics subject\",\"physiscs subject chemistry\"]\n"
      ],
      "metadata": {
        "id": "E44CL5TBBGnw"
      },
      "execution_count": 2,
      "outputs": []
    },
    {
      "cell_type": "code",
      "source": [
        "corpus = [sent.split(\" \") for sent in corpus]\n",
        "corpus"
      ],
      "metadata": {
        "colab": {
          "base_uri": "https://localhost:8080/"
        },
        "id": "7a-dFQm5BTCF",
        "outputId": "4934862d-a01b-4c84-85b5-2095c9e26f91"
      },
      "execution_count": 3,
      "outputs": [
        {
          "output_type": "execute_result",
          "data": {
            "text/plain": [
              "[['lion', 'tiger', 'carnivore'],\n",
              " ['tiger', 'lion', 'carnivore'],\n",
              " ['tiger', 'carnivore', 'lion', ''],\n",
              " ['giraffe', 'zebra', 'herbivore'],\n",
              " ['zebra', 'giraffe', 'herbivore'],\n",
              " ['giraffe', 'herbivore', 'zebra'],\n",
              " ['honda', 'toyota', 'car'],\n",
              " ['toyota', 'honda', 'car'],\n",
              " ['', 'honda', 'car', 'toyota'],\n",
              " ['chicken', 'beef', 'meat'],\n",
              " ['beef', 'chicken', 'meat'],\n",
              " ['chicken', 'meat', 'beef'],\n",
              " ['potato', 'cucumber', 'vegetable'],\n",
              " ['cucumber', 'potato', 'vegetable', ''],\n",
              " ['potato', 'vegetable', 'cucumber'],\n",
              " ['bee', 'ant', 'insect'],\n",
              " ['ant', 'bee', 'insect'],\n",
              " ['bee', 'insect', 'ant'],\n",
              " ['tennis', 'cricket', 'game'],\n",
              " ['cricket', 'tennis', 'game'],\n",
              " ['tennis', 'game', 'cricket'],\n",
              " ['python', 'java', 'program'],\n",
              " ['java', 'python', 'program'],\n",
              " ['python', 'program', 'java'],\n",
              " ['english', 'hindi', 'language'],\n",
              " ['hindi', 'english', 'language'],\n",
              " ['english', 'language', 'hindi'],\n",
              " ['full', 'time', 'part', 'time', 'student'],\n",
              " ['part', 'time', 'full', 'time', 'student'],\n",
              " ['full', 'time', 'student', 'part', 'time'],\n",
              " ['cocacola', 'pepsi', 'soda'],\n",
              " ['pepsi', 'cocacola', 'soda'],\n",
              " ['cocacola', 'soda', 'pepsi'],\n",
              " ['asus', 'macbook', 'laptop'],\n",
              " ['macbook', 'asus', 'laptop'],\n",
              " ['asus', 'laptop', 'macbook'],\n",
              " ['india', 'brazil', 'country'],\n",
              " ['brazil', 'india', 'country'],\n",
              " ['india', 'country', 'brazil'],\n",
              " ['shirt', 'pant', 'dress'],\n",
              " ['pant', 'shirt', 'dress'],\n",
              " ['shirt', 'dress', 'pant'],\n",
              " ['summer', 'autumn', 'season'],\n",
              " ['autumn', 'summer', 'season'],\n",
              " ['summer', 'season', 'autumn'],\n",
              " ['solid', 'liquid', 'state'],\n",
              " ['liquid', 'solid', 'state'],\n",
              " ['solid', 'state', 'liquid'],\n",
              " ['physics', 'chemistry', 'subject'],\n",
              " ['chemistry', 'physics', 'subject'],\n",
              " ['physiscs', 'subject', 'chemistry']]"
            ]
          },
          "metadata": {},
          "execution_count": 3
        }
      ]
    },
    {
      "cell_type": "code",
      "source": [
        "#get word sequences and unique words\n",
        "flatten = lambda l: [item for sublist in l for item in sublist]\n",
        "vocab = list(set(flatten(corpus)))\n",
        "vocab"
      ],
      "metadata": {
        "colab": {
          "base_uri": "https://localhost:8080/"
        },
        "id": "t8g2p49VBZNd",
        "outputId": "b76e95bf-fc93-48f9-bb7a-7812ef000fb0"
      },
      "execution_count": 4,
      "outputs": [
        {
          "output_type": "execute_result",
          "data": {
            "text/plain": [
              "['',\n",
              " 'python',\n",
              " 'honda',\n",
              " 'tiger',\n",
              " 'program',\n",
              " 'asus',\n",
              " 'brazil',\n",
              " 'india',\n",
              " 'hindi',\n",
              " 'season',\n",
              " 'pant',\n",
              " 'beef',\n",
              " 'soda',\n",
              " 'language',\n",
              " 'cocacola',\n",
              " 'meat',\n",
              " 'bee',\n",
              " 'carnivore',\n",
              " 'cricket',\n",
              " 'pepsi',\n",
              " 'summer',\n",
              " 'country',\n",
              " 'game',\n",
              " 'lion',\n",
              " 'time',\n",
              " 'macbook',\n",
              " 'ant',\n",
              " 'english',\n",
              " 'physics',\n",
              " 'cucumber',\n",
              " 'dress',\n",
              " 'shirt',\n",
              " 'autumn',\n",
              " 'vegetable',\n",
              " 'full',\n",
              " 'chemistry',\n",
              " 'physiscs',\n",
              " 'java',\n",
              " 'student',\n",
              " 'giraffe',\n",
              " 'subject',\n",
              " 'liquid',\n",
              " 'car',\n",
              " 'tennis',\n",
              " 'laptop',\n",
              " 'herbivore',\n",
              " 'potato',\n",
              " 'toyota',\n",
              " 'insect',\n",
              " 'zebra',\n",
              " 'part',\n",
              " 'state',\n",
              " 'chicken',\n",
              " 'solid']"
            ]
          },
          "metadata": {},
          "execution_count": 4
        }
      ]
    },
    {
      "cell_type": "markdown",
      "source": [
        "Now, we will do numericalization."
      ],
      "metadata": {
        "id": "JdRNCJKABjLs"
      }
    },
    {
      "cell_type": "code",
      "source": [
        "word2index = {w: i for i, w in enumerate(vocab)}\n",
        "print(word2index)"
      ],
      "metadata": {
        "colab": {
          "base_uri": "https://localhost:8080/"
        },
        "id": "xvu1pj71Bf1y",
        "outputId": "f43ab037-62f1-45f4-ed64-fb7e5cc16951"
      },
      "execution_count": 5,
      "outputs": [
        {
          "output_type": "stream",
          "name": "stdout",
          "text": [
            "{'': 0, 'python': 1, 'honda': 2, 'tiger': 3, 'program': 4, 'asus': 5, 'brazil': 6, 'india': 7, 'hindi': 8, 'season': 9, 'pant': 10, 'beef': 11, 'soda': 12, 'language': 13, 'cocacola': 14, 'meat': 15, 'bee': 16, 'carnivore': 17, 'cricket': 18, 'pepsi': 19, 'summer': 20, 'country': 21, 'game': 22, 'lion': 23, 'time': 24, 'macbook': 25, 'ant': 26, 'english': 27, 'physics': 28, 'cucumber': 29, 'dress': 30, 'shirt': 31, 'autumn': 32, 'vegetable': 33, 'full': 34, 'chemistry': 35, 'physiscs': 36, 'java': 37, 'student': 38, 'giraffe': 39, 'subject': 40, 'liquid': 41, 'car': 42, 'tennis': 43, 'laptop': 44, 'herbivore': 45, 'potato': 46, 'toyota': 47, 'insect': 48, 'zebra': 49, 'part': 50, 'state': 51, 'chicken': 52, 'solid': 53}\n"
          ]
        }
      ]
    },
    {
      "cell_type": "code",
      "source": [
        "#vocab size\n",
        "voc_size = len(vocab)\n",
        "print(voc_size)"
      ],
      "metadata": {
        "colab": {
          "base_uri": "https://localhost:8080/"
        },
        "id": "zbzEOSO5Bq67",
        "outputId": "9250c9f0-1e40-4281-86ea-fcbe4e3c2a93"
      },
      "execution_count": 6,
      "outputs": [
        {
          "output_type": "stream",
          "name": "stdout",
          "text": [
            "54\n"
          ]
        }
      ]
    },
    {
      "cell_type": "code",
      "source": [
        "#append UNK\n",
        "vocab.append('<UNK>')"
      ],
      "metadata": {
        "id": "JN7XlcatBvyb"
      },
      "execution_count": 7,
      "outputs": []
    },
    {
      "cell_type": "code",
      "source": [
        "vocab"
      ],
      "metadata": {
        "colab": {
          "base_uri": "https://localhost:8080/"
        },
        "id": "wzUIX7BWBzUT",
        "outputId": "0a5bbef7-73d8-47f0-eac9-285749b0170f"
      },
      "execution_count": 8,
      "outputs": [
        {
          "output_type": "execute_result",
          "data": {
            "text/plain": [
              "['',\n",
              " 'python',\n",
              " 'honda',\n",
              " 'tiger',\n",
              " 'program',\n",
              " 'asus',\n",
              " 'brazil',\n",
              " 'india',\n",
              " 'hindi',\n",
              " 'season',\n",
              " 'pant',\n",
              " 'beef',\n",
              " 'soda',\n",
              " 'language',\n",
              " 'cocacola',\n",
              " 'meat',\n",
              " 'bee',\n",
              " 'carnivore',\n",
              " 'cricket',\n",
              " 'pepsi',\n",
              " 'summer',\n",
              " 'country',\n",
              " 'game',\n",
              " 'lion',\n",
              " 'time',\n",
              " 'macbook',\n",
              " 'ant',\n",
              " 'english',\n",
              " 'physics',\n",
              " 'cucumber',\n",
              " 'dress',\n",
              " 'shirt',\n",
              " 'autumn',\n",
              " 'vegetable',\n",
              " 'full',\n",
              " 'chemistry',\n",
              " 'physiscs',\n",
              " 'java',\n",
              " 'student',\n",
              " 'giraffe',\n",
              " 'subject',\n",
              " 'liquid',\n",
              " 'car',\n",
              " 'tennis',\n",
              " 'laptop',\n",
              " 'herbivore',\n",
              " 'potato',\n",
              " 'toyota',\n",
              " 'insect',\n",
              " 'zebra',\n",
              " 'part',\n",
              " 'state',\n",
              " 'chicken',\n",
              " 'solid',\n",
              " '<UNK>']"
            ]
          },
          "metadata": {},
          "execution_count": 8
        }
      ]
    },
    {
      "cell_type": "code",
      "source": [
        "word2index['<UNK>'] = 0\n"
      ],
      "metadata": {
        "id": "t_PFLNUoB3co"
      },
      "execution_count": 9,
      "outputs": []
    },
    {
      "cell_type": "code",
      "source": [
        "#just in case we need to use\n",
        "index2word = {v:k for k, v in word2index.items()} "
      ],
      "metadata": {
        "id": "JzKB1jPWB7Q5"
      },
      "execution_count": 10,
      "outputs": []
    },
    {
      "cell_type": "markdown",
      "source": [
        "Now, we will build co-occurence matrix"
      ],
      "metadata": {
        "id": "_AKNOGhQCKCF"
      }
    },
    {
      "cell_type": "code",
      "source": [
        "from collections import Counter\n",
        "\n",
        "X_i = Counter(flatten(corpus)) # X_i\n",
        "X_i"
      ],
      "metadata": {
        "colab": {
          "base_uri": "https://localhost:8080/"
        },
        "id": "_pKYpQasB-do",
        "outputId": "7eba5f7b-c4cb-4ba6-d950-a350f3089632"
      },
      "execution_count": 11,
      "outputs": [
        {
          "output_type": "execute_result",
          "data": {
            "text/plain": [
              "Counter({'lion': 3,\n",
              "         'tiger': 3,\n",
              "         'carnivore': 3,\n",
              "         '': 3,\n",
              "         'giraffe': 3,\n",
              "         'zebra': 3,\n",
              "         'herbivore': 3,\n",
              "         'honda': 3,\n",
              "         'toyota': 3,\n",
              "         'car': 3,\n",
              "         'chicken': 3,\n",
              "         'beef': 3,\n",
              "         'meat': 3,\n",
              "         'potato': 3,\n",
              "         'cucumber': 3,\n",
              "         'vegetable': 3,\n",
              "         'bee': 3,\n",
              "         'ant': 3,\n",
              "         'insect': 3,\n",
              "         'tennis': 3,\n",
              "         'cricket': 3,\n",
              "         'game': 3,\n",
              "         'python': 3,\n",
              "         'java': 3,\n",
              "         'program': 3,\n",
              "         'english': 3,\n",
              "         'hindi': 3,\n",
              "         'language': 3,\n",
              "         'full': 3,\n",
              "         'time': 6,\n",
              "         'part': 3,\n",
              "         'student': 3,\n",
              "         'cocacola': 3,\n",
              "         'pepsi': 3,\n",
              "         'soda': 3,\n",
              "         'asus': 3,\n",
              "         'macbook': 3,\n",
              "         'laptop': 3,\n",
              "         'india': 3,\n",
              "         'brazil': 3,\n",
              "         'country': 3,\n",
              "         'shirt': 3,\n",
              "         'pant': 3,\n",
              "         'dress': 3,\n",
              "         'summer': 3,\n",
              "         'autumn': 3,\n",
              "         'season': 3,\n",
              "         'solid': 3,\n",
              "         'liquid': 3,\n",
              "         'state': 3,\n",
              "         'physics': 2,\n",
              "         'chemistry': 3,\n",
              "         'subject': 3,\n",
              "         'physiscs': 1})"
            ]
          },
          "metadata": {},
          "execution_count": 11
        }
      ]
    },
    {
      "cell_type": "code",
      "source": [
        "# Make skip gram of two size window\n",
        "skip_grams = []\n",
        "# loop each word sequence\n",
        "# we starts from 1 because 0 has no context\n",
        "# we stop at second last for the same reason\n",
        "for sent in corpus:\n",
        "    for i in range(2, len(sent) - 2):\n",
        "        target = sent[i]\n",
        "        context = [sent[i - 2], sent[i + 2]]\n",
        "        for w in context:\n",
        "            skip_grams.append((target, w))\n",
        "\n",
        "skip_grams"
      ],
      "metadata": {
        "colab": {
          "base_uri": "https://localhost:8080/"
        },
        "id": "14sMHVdyCtcL",
        "outputId": "32cb7b88-f8a4-401b-df19-80504c1291e9"
      },
      "execution_count": 12,
      "outputs": [
        {
          "output_type": "execute_result",
          "data": {
            "text/plain": [
              "[('part', 'full'),\n",
              " ('part', 'student'),\n",
              " ('full', 'part'),\n",
              " ('full', 'student'),\n",
              " ('student', 'full'),\n",
              " ('student', 'time')]"
            ]
          },
          "metadata": {},
          "execution_count": 12
        }
      ]
    },
    {
      "cell_type": "code",
      "source": [
        "X_ik_skipgram = Counter(skip_grams) # Co-occurece in window size 1\n",
        "X_ik_skipgram"
      ],
      "metadata": {
        "colab": {
          "base_uri": "https://localhost:8080/"
        },
        "id": "x7VUYuHfDagw",
        "outputId": "8a9a85f1-0da0-4bf3-8d99-1722442a558b"
      },
      "execution_count": 15,
      "outputs": [
        {
          "output_type": "execute_result",
          "data": {
            "text/plain": [
              "Counter({('part', 'full'): 1,\n",
              "         ('part', 'student'): 1,\n",
              "         ('full', 'part'): 1,\n",
              "         ('full', 'student'): 1,\n",
              "         ('student', 'full'): 1,\n",
              "         ('student', 'time'): 1})"
            ]
          },
          "metadata": {},
          "execution_count": 15
        }
      ]
    },
    {
      "cell_type": "markdown",
      "source": [
        "Weighing Function"
      ],
      "metadata": {
        "id": "KqTgWpKEDIdI"
      }
    },
    {
      "cell_type": "code",
      "source": [
        "def weighting(w_i, w_j, X_ik):\n",
        "        \n",
        "    #check whether the co-occurrences exist between these two words\n",
        "    try:\n",
        "        x_ij = X_ik[(w_i, w_j)]\n",
        "    except:\n",
        "        x_ij = 1  #if does not exist, set it to 1\n",
        "                \n",
        "    x_max = 100 #100 # fixed in paper  #cannot exceed 100 counts\n",
        "    alpha = 0.75\n",
        "    \n",
        "    #if co-occurrence does not exceed 100, scale it based on some alpha\n",
        "    if x_ij < x_max:\n",
        "        result = (x_ij/x_max)**alpha  #scale it\n",
        "    else:\n",
        "        result = 1  #if is greater than max, set it to 1 maximum\n",
        "    \n",
        "    return result"
      ],
      "metadata": {
        "id": "m3OJGEfrDD01"
      },
      "execution_count": 16,
      "outputs": []
    },
    {
      "cell_type": "code",
      "source": [
        "from itertools import combinations_with_replacement\n",
        "\n",
        "X_ik = {}  #for keeping the co-occurences\n",
        "weighting_dic = {} #scaling the percentage of sampling\n",
        "\n",
        "for bigram in combinations_with_replacement(vocab, 2):\n",
        "    if X_ik_skipgram.get(bigram) is not None:  #matches \n",
        "        co_occer = X_ik_skipgram[bigram]  #get the count from what we already counted\n",
        "        X_ik[bigram] = co_occer + 1 # + 1 for stability issue\n",
        "        X_ik[(bigram[1],bigram[0])] = co_occer+1   #count also for the opposite\n",
        "    else:\n",
        "        pass\n",
        "        \n",
        "    weighting_dic[bigram] = weighting(bigram[0], bigram[1], X_ik)\n",
        "    weighting_dic[(bigram[1], bigram[0])] = weighting(bigram[1], bigram[0], X_ik)\n",
        "\n",
        "print(f\"{X_ik=}\")\n",
        "print(f\"{weighting_dic=}\")"
      ],
      "metadata": {
        "colab": {
          "base_uri": "https://localhost:8080/"
        },
        "id": "E6k-r7I-DPIK",
        "outputId": "409045c5-e4d0-48bf-e14f-ac1525d15437"
      },
      "execution_count": 17,
      "outputs": [
        {
          "output_type": "stream",
          "name": "stdout",
          "text": [
            "X_ik={('full', 'student'): 2, ('student', 'full'): 2, ('full', 'part'): 2, ('part', 'full'): 2}\n",
            "weighting_dic={('', ''): 0.03162277660168379, ('', 'python'): 0.03162277660168379, ('python', ''): 0.03162277660168379, ('', 'honda'): 0.03162277660168379, ('honda', ''): 0.03162277660168379, ('', 'tiger'): 0.03162277660168379, ('tiger', ''): 0.03162277660168379, ('', 'program'): 0.03162277660168379, ('program', ''): 0.03162277660168379, ('', 'asus'): 0.03162277660168379, ('asus', ''): 0.03162277660168379, ('', 'brazil'): 0.03162277660168379, ('brazil', ''): 0.03162277660168379, ('', 'india'): 0.03162277660168379, ('india', ''): 0.03162277660168379, ('', 'hindi'): 0.03162277660168379, ('hindi', ''): 0.03162277660168379, ('', 'season'): 0.03162277660168379, ('season', ''): 0.03162277660168379, ('', 'pant'): 0.03162277660168379, ('pant', ''): 0.03162277660168379, ('', 'beef'): 0.03162277660168379, ('beef', ''): 0.03162277660168379, ('', 'soda'): 0.03162277660168379, ('soda', ''): 0.03162277660168379, ('', 'language'): 0.03162277660168379, ('language', ''): 0.03162277660168379, ('', 'cocacola'): 0.03162277660168379, ('cocacola', ''): 0.03162277660168379, ('', 'meat'): 0.03162277660168379, ('meat', ''): 0.03162277660168379, ('', 'bee'): 0.03162277660168379, ('bee', ''): 0.03162277660168379, ('', 'carnivore'): 0.03162277660168379, ('carnivore', ''): 0.03162277660168379, ('', 'cricket'): 0.03162277660168379, ('cricket', ''): 0.03162277660168379, ('', 'pepsi'): 0.03162277660168379, ('pepsi', ''): 0.03162277660168379, ('', 'summer'): 0.03162277660168379, ('summer', ''): 0.03162277660168379, ('', 'country'): 0.03162277660168379, ('country', ''): 0.03162277660168379, ('', 'game'): 0.03162277660168379, ('game', ''): 0.03162277660168379, ('', 'lion'): 0.03162277660168379, ('lion', ''): 0.03162277660168379, ('', 'time'): 0.03162277660168379, ('time', ''): 0.03162277660168379, ('', 'macbook'): 0.03162277660168379, ('macbook', ''): 0.03162277660168379, ('', 'ant'): 0.03162277660168379, ('ant', ''): 0.03162277660168379, ('', 'english'): 0.03162277660168379, ('english', ''): 0.03162277660168379, ('', 'physics'): 0.03162277660168379, ('physics', ''): 0.03162277660168379, ('', 'cucumber'): 0.03162277660168379, ('cucumber', ''): 0.03162277660168379, ('', 'dress'): 0.03162277660168379, ('dress', ''): 0.03162277660168379, ('', 'shirt'): 0.03162277660168379, ('shirt', ''): 0.03162277660168379, ('', 'autumn'): 0.03162277660168379, ('autumn', ''): 0.03162277660168379, ('', 'vegetable'): 0.03162277660168379, ('vegetable', ''): 0.03162277660168379, ('', 'full'): 0.03162277660168379, ('full', ''): 0.03162277660168379, ('', 'chemistry'): 0.03162277660168379, ('chemistry', ''): 0.03162277660168379, ('', 'physiscs'): 0.03162277660168379, ('physiscs', ''): 0.03162277660168379, ('', 'java'): 0.03162277660168379, ('java', ''): 0.03162277660168379, ('', 'student'): 0.03162277660168379, ('student', ''): 0.03162277660168379, ('', 'giraffe'): 0.03162277660168379, ('giraffe', ''): 0.03162277660168379, ('', 'subject'): 0.03162277660168379, ('subject', ''): 0.03162277660168379, ('', 'liquid'): 0.03162277660168379, ('liquid', ''): 0.03162277660168379, ('', 'car'): 0.03162277660168379, ('car', ''): 0.03162277660168379, ('', 'tennis'): 0.03162277660168379, ('tennis', ''): 0.03162277660168379, ('', 'laptop'): 0.03162277660168379, ('laptop', ''): 0.03162277660168379, ('', 'herbivore'): 0.03162277660168379, ('herbivore', ''): 0.03162277660168379, ('', 'potato'): 0.03162277660168379, ('potato', ''): 0.03162277660168379, ('', 'toyota'): 0.03162277660168379, ('toyota', ''): 0.03162277660168379, ('', 'insect'): 0.03162277660168379, ('insect', ''): 0.03162277660168379, ('', 'zebra'): 0.03162277660168379, ('zebra', ''): 0.03162277660168379, ('', 'part'): 0.03162277660168379, ('part', ''): 0.03162277660168379, ('', 'state'): 0.03162277660168379, ('state', ''): 0.03162277660168379, ('', 'chicken'): 0.03162277660168379, ('chicken', ''): 0.03162277660168379, ('', 'solid'): 0.03162277660168379, ('solid', ''): 0.03162277660168379, ('', '<UNK>'): 0.03162277660168379, ('<UNK>', ''): 0.03162277660168379, ('python', 'python'): 0.03162277660168379, ('python', 'honda'): 0.03162277660168379, ('honda', 'python'): 0.03162277660168379, ('python', 'tiger'): 0.03162277660168379, ('tiger', 'python'): 0.03162277660168379, ('python', 'program'): 0.03162277660168379, ('program', 'python'): 0.03162277660168379, ('python', 'asus'): 0.03162277660168379, ('asus', 'python'): 0.03162277660168379, ('python', 'brazil'): 0.03162277660168379, ('brazil', 'python'): 0.03162277660168379, ('python', 'india'): 0.03162277660168379, ('india', 'python'): 0.03162277660168379, ('python', 'hindi'): 0.03162277660168379, ('hindi', 'python'): 0.03162277660168379, ('python', 'season'): 0.03162277660168379, ('season', 'python'): 0.03162277660168379, ('python', 'pant'): 0.03162277660168379, ('pant', 'python'): 0.03162277660168379, ('python', 'beef'): 0.03162277660168379, ('beef', 'python'): 0.03162277660168379, ('python', 'soda'): 0.03162277660168379, ('soda', 'python'): 0.03162277660168379, ('python', 'language'): 0.03162277660168379, ('language', 'python'): 0.03162277660168379, ('python', 'cocacola'): 0.03162277660168379, ('cocacola', 'python'): 0.03162277660168379, ('python', 'meat'): 0.03162277660168379, ('meat', 'python'): 0.03162277660168379, ('python', 'bee'): 0.03162277660168379, ('bee', 'python'): 0.03162277660168379, ('python', 'carnivore'): 0.03162277660168379, ('carnivore', 'python'): 0.03162277660168379, ('python', 'cricket'): 0.03162277660168379, ('cricket', 'python'): 0.03162277660168379, ('python', 'pepsi'): 0.03162277660168379, ('pepsi', 'python'): 0.03162277660168379, ('python', 'summer'): 0.03162277660168379, ('summer', 'python'): 0.03162277660168379, ('python', 'country'): 0.03162277660168379, ('country', 'python'): 0.03162277660168379, ('python', 'game'): 0.03162277660168379, ('game', 'python'): 0.03162277660168379, ('python', 'lion'): 0.03162277660168379, ('lion', 'python'): 0.03162277660168379, ('python', 'time'): 0.03162277660168379, ('time', 'python'): 0.03162277660168379, ('python', 'macbook'): 0.03162277660168379, ('macbook', 'python'): 0.03162277660168379, ('python', 'ant'): 0.03162277660168379, ('ant', 'python'): 0.03162277660168379, ('python', 'english'): 0.03162277660168379, ('english', 'python'): 0.03162277660168379, ('python', 'physics'): 0.03162277660168379, ('physics', 'python'): 0.03162277660168379, ('python', 'cucumber'): 0.03162277660168379, ('cucumber', 'python'): 0.03162277660168379, ('python', 'dress'): 0.03162277660168379, ('dress', 'python'): 0.03162277660168379, ('python', 'shirt'): 0.03162277660168379, ('shirt', 'python'): 0.03162277660168379, ('python', 'autumn'): 0.03162277660168379, ('autumn', 'python'): 0.03162277660168379, ('python', 'vegetable'): 0.03162277660168379, ('vegetable', 'python'): 0.03162277660168379, ('python', 'full'): 0.03162277660168379, ('full', 'python'): 0.03162277660168379, ('python', 'chemistry'): 0.03162277660168379, ('chemistry', 'python'): 0.03162277660168379, ('python', 'physiscs'): 0.03162277660168379, ('physiscs', 'python'): 0.03162277660168379, ('python', 'java'): 0.03162277660168379, ('java', 'python'): 0.03162277660168379, ('python', 'student'): 0.03162277660168379, ('student', 'python'): 0.03162277660168379, ('python', 'giraffe'): 0.03162277660168379, ('giraffe', 'python'): 0.03162277660168379, ('python', 'subject'): 0.03162277660168379, ('subject', 'python'): 0.03162277660168379, ('python', 'liquid'): 0.03162277660168379, ('liquid', 'python'): 0.03162277660168379, ('python', 'car'): 0.03162277660168379, ('car', 'python'): 0.03162277660168379, ('python', 'tennis'): 0.03162277660168379, ('tennis', 'python'): 0.03162277660168379, ('python', 'laptop'): 0.03162277660168379, ('laptop', 'python'): 0.03162277660168379, ('python', 'herbivore'): 0.03162277660168379, ('herbivore', 'python'): 0.03162277660168379, ('python', 'potato'): 0.03162277660168379, ('potato', 'python'): 0.03162277660168379, ('python', 'toyota'): 0.03162277660168379, ('toyota', 'python'): 0.03162277660168379, ('python', 'insect'): 0.03162277660168379, ('insect', 'python'): 0.03162277660168379, ('python', 'zebra'): 0.03162277660168379, ('zebra', 'python'): 0.03162277660168379, ('python', 'part'): 0.03162277660168379, ('part', 'python'): 0.03162277660168379, ('python', 'state'): 0.03162277660168379, ('state', 'python'): 0.03162277660168379, ('python', 'chicken'): 0.03162277660168379, ('chicken', 'python'): 0.03162277660168379, ('python', 'solid'): 0.03162277660168379, ('solid', 'python'): 0.03162277660168379, ('python', '<UNK>'): 0.03162277660168379, ('<UNK>', 'python'): 0.03162277660168379, ('honda', 'honda'): 0.03162277660168379, ('honda', 'tiger'): 0.03162277660168379, ('tiger', 'honda'): 0.03162277660168379, ('honda', 'program'): 0.03162277660168379, ('program', 'honda'): 0.03162277660168379, ('honda', 'asus'): 0.03162277660168379, ('asus', 'honda'): 0.03162277660168379, ('honda', 'brazil'): 0.03162277660168379, ('brazil', 'honda'): 0.03162277660168379, ('honda', 'india'): 0.03162277660168379, ('india', 'honda'): 0.03162277660168379, ('honda', 'hindi'): 0.03162277660168379, ('hindi', 'honda'): 0.03162277660168379, ('honda', 'season'): 0.03162277660168379, ('season', 'honda'): 0.03162277660168379, ('honda', 'pant'): 0.03162277660168379, ('pant', 'honda'): 0.03162277660168379, ('honda', 'beef'): 0.03162277660168379, ('beef', 'honda'): 0.03162277660168379, ('honda', 'soda'): 0.03162277660168379, ('soda', 'honda'): 0.03162277660168379, ('honda', 'language'): 0.03162277660168379, ('language', 'honda'): 0.03162277660168379, ('honda', 'cocacola'): 0.03162277660168379, ('cocacola', 'honda'): 0.03162277660168379, ('honda', 'meat'): 0.03162277660168379, ('meat', 'honda'): 0.03162277660168379, ('honda', 'bee'): 0.03162277660168379, ('bee', 'honda'): 0.03162277660168379, ('honda', 'carnivore'): 0.03162277660168379, ('carnivore', 'honda'): 0.03162277660168379, ('honda', 'cricket'): 0.03162277660168379, ('cricket', 'honda'): 0.03162277660168379, ('honda', 'pepsi'): 0.03162277660168379, ('pepsi', 'honda'): 0.03162277660168379, ('honda', 'summer'): 0.03162277660168379, ('summer', 'honda'): 0.03162277660168379, ('honda', 'country'): 0.03162277660168379, ('country', 'honda'): 0.03162277660168379, ('honda', 'game'): 0.03162277660168379, ('game', 'honda'): 0.03162277660168379, ('honda', 'lion'): 0.03162277660168379, ('lion', 'honda'): 0.03162277660168379, ('honda', 'time'): 0.03162277660168379, ('time', 'honda'): 0.03162277660168379, ('honda', 'macbook'): 0.03162277660168379, ('macbook', 'honda'): 0.03162277660168379, ('honda', 'ant'): 0.03162277660168379, ('ant', 'honda'): 0.03162277660168379, ('honda', 'english'): 0.03162277660168379, ('english', 'honda'): 0.03162277660168379, ('honda', 'physics'): 0.03162277660168379, ('physics', 'honda'): 0.03162277660168379, ('honda', 'cucumber'): 0.03162277660168379, ('cucumber', 'honda'): 0.03162277660168379, ('honda', 'dress'): 0.03162277660168379, ('dress', 'honda'): 0.03162277660168379, ('honda', 'shirt'): 0.03162277660168379, ('shirt', 'honda'): 0.03162277660168379, ('honda', 'autumn'): 0.03162277660168379, ('autumn', 'honda'): 0.03162277660168379, ('honda', 'vegetable'): 0.03162277660168379, ('vegetable', 'honda'): 0.03162277660168379, ('honda', 'full'): 0.03162277660168379, ('full', 'honda'): 0.03162277660168379, ('honda', 'chemistry'): 0.03162277660168379, ('chemistry', 'honda'): 0.03162277660168379, ('honda', 'physiscs'): 0.03162277660168379, ('physiscs', 'honda'): 0.03162277660168379, ('honda', 'java'): 0.03162277660168379, ('java', 'honda'): 0.03162277660168379, ('honda', 'student'): 0.03162277660168379, ('student', 'honda'): 0.03162277660168379, ('honda', 'giraffe'): 0.03162277660168379, ('giraffe', 'honda'): 0.03162277660168379, ('honda', 'subject'): 0.03162277660168379, ('subject', 'honda'): 0.03162277660168379, ('honda', 'liquid'): 0.03162277660168379, ('liquid', 'honda'): 0.03162277660168379, ('honda', 'car'): 0.03162277660168379, ('car', 'honda'): 0.03162277660168379, ('honda', 'tennis'): 0.03162277660168379, ('tennis', 'honda'): 0.03162277660168379, ('honda', 'laptop'): 0.03162277660168379, ('laptop', 'honda'): 0.03162277660168379, ('honda', 'herbivore'): 0.03162277660168379, ('herbivore', 'honda'): 0.03162277660168379, ('honda', 'potato'): 0.03162277660168379, ('potato', 'honda'): 0.03162277660168379, ('honda', 'toyota'): 0.03162277660168379, ('toyota', 'honda'): 0.03162277660168379, ('honda', 'insect'): 0.03162277660168379, ('insect', 'honda'): 0.03162277660168379, ('honda', 'zebra'): 0.03162277660168379, ('zebra', 'honda'): 0.03162277660168379, ('honda', 'part'): 0.03162277660168379, ('part', 'honda'): 0.03162277660168379, ('honda', 'state'): 0.03162277660168379, ('state', 'honda'): 0.03162277660168379, ('honda', 'chicken'): 0.03162277660168379, ('chicken', 'honda'): 0.03162277660168379, ('honda', 'solid'): 0.03162277660168379, ('solid', 'honda'): 0.03162277660168379, ('honda', '<UNK>'): 0.03162277660168379, ('<UNK>', 'honda'): 0.03162277660168379, ('tiger', 'tiger'): 0.03162277660168379, ('tiger', 'program'): 0.03162277660168379, ('program', 'tiger'): 0.03162277660168379, ('tiger', 'asus'): 0.03162277660168379, ('asus', 'tiger'): 0.03162277660168379, ('tiger', 'brazil'): 0.03162277660168379, ('brazil', 'tiger'): 0.03162277660168379, ('tiger', 'india'): 0.03162277660168379, ('india', 'tiger'): 0.03162277660168379, ('tiger', 'hindi'): 0.03162277660168379, ('hindi', 'tiger'): 0.03162277660168379, ('tiger', 'season'): 0.03162277660168379, ('season', 'tiger'): 0.03162277660168379, ('tiger', 'pant'): 0.03162277660168379, ('pant', 'tiger'): 0.03162277660168379, ('tiger', 'beef'): 0.03162277660168379, ('beef', 'tiger'): 0.03162277660168379, ('tiger', 'soda'): 0.03162277660168379, ('soda', 'tiger'): 0.03162277660168379, ('tiger', 'language'): 0.03162277660168379, ('language', 'tiger'): 0.03162277660168379, ('tiger', 'cocacola'): 0.03162277660168379, ('cocacola', 'tiger'): 0.03162277660168379, ('tiger', 'meat'): 0.03162277660168379, ('meat', 'tiger'): 0.03162277660168379, ('tiger', 'bee'): 0.03162277660168379, ('bee', 'tiger'): 0.03162277660168379, ('tiger', 'carnivore'): 0.03162277660168379, ('carnivore', 'tiger'): 0.03162277660168379, ('tiger', 'cricket'): 0.03162277660168379, ('cricket', 'tiger'): 0.03162277660168379, ('tiger', 'pepsi'): 0.03162277660168379, ('pepsi', 'tiger'): 0.03162277660168379, ('tiger', 'summer'): 0.03162277660168379, ('summer', 'tiger'): 0.03162277660168379, ('tiger', 'country'): 0.03162277660168379, ('country', 'tiger'): 0.03162277660168379, ('tiger', 'game'): 0.03162277660168379, ('game', 'tiger'): 0.03162277660168379, ('tiger', 'lion'): 0.03162277660168379, ('lion', 'tiger'): 0.03162277660168379, ('tiger', 'time'): 0.03162277660168379, ('time', 'tiger'): 0.03162277660168379, ('tiger', 'macbook'): 0.03162277660168379, ('macbook', 'tiger'): 0.03162277660168379, ('tiger', 'ant'): 0.03162277660168379, ('ant', 'tiger'): 0.03162277660168379, ('tiger', 'english'): 0.03162277660168379, ('english', 'tiger'): 0.03162277660168379, ('tiger', 'physics'): 0.03162277660168379, ('physics', 'tiger'): 0.03162277660168379, ('tiger', 'cucumber'): 0.03162277660168379, ('cucumber', 'tiger'): 0.03162277660168379, ('tiger', 'dress'): 0.03162277660168379, ('dress', 'tiger'): 0.03162277660168379, ('tiger', 'shirt'): 0.03162277660168379, ('shirt', 'tiger'): 0.03162277660168379, ('tiger', 'autumn'): 0.03162277660168379, ('autumn', 'tiger'): 0.03162277660168379, ('tiger', 'vegetable'): 0.03162277660168379, ('vegetable', 'tiger'): 0.03162277660168379, ('tiger', 'full'): 0.03162277660168379, ('full', 'tiger'): 0.03162277660168379, ('tiger', 'chemistry'): 0.03162277660168379, ('chemistry', 'tiger'): 0.03162277660168379, ('tiger', 'physiscs'): 0.03162277660168379, ('physiscs', 'tiger'): 0.03162277660168379, ('tiger', 'java'): 0.03162277660168379, ('java', 'tiger'): 0.03162277660168379, ('tiger', 'student'): 0.03162277660168379, ('student', 'tiger'): 0.03162277660168379, ('tiger', 'giraffe'): 0.03162277660168379, ('giraffe', 'tiger'): 0.03162277660168379, ('tiger', 'subject'): 0.03162277660168379, ('subject', 'tiger'): 0.03162277660168379, ('tiger', 'liquid'): 0.03162277660168379, ('liquid', 'tiger'): 0.03162277660168379, ('tiger', 'car'): 0.03162277660168379, ('car', 'tiger'): 0.03162277660168379, ('tiger', 'tennis'): 0.03162277660168379, ('tennis', 'tiger'): 0.03162277660168379, ('tiger', 'laptop'): 0.03162277660168379, ('laptop', 'tiger'): 0.03162277660168379, ('tiger', 'herbivore'): 0.03162277660168379, ('herbivore', 'tiger'): 0.03162277660168379, ('tiger', 'potato'): 0.03162277660168379, ('potato', 'tiger'): 0.03162277660168379, ('tiger', 'toyota'): 0.03162277660168379, ('toyota', 'tiger'): 0.03162277660168379, ('tiger', 'insect'): 0.03162277660168379, ('insect', 'tiger'): 0.03162277660168379, ('tiger', 'zebra'): 0.03162277660168379, ('zebra', 'tiger'): 0.03162277660168379, ('tiger', 'part'): 0.03162277660168379, ('part', 'tiger'): 0.03162277660168379, ('tiger', 'state'): 0.03162277660168379, ('state', 'tiger'): 0.03162277660168379, ('tiger', 'chicken'): 0.03162277660168379, ('chicken', 'tiger'): 0.03162277660168379, ('tiger', 'solid'): 0.03162277660168379, ('solid', 'tiger'): 0.03162277660168379, ('tiger', '<UNK>'): 0.03162277660168379, ('<UNK>', 'tiger'): 0.03162277660168379, ('program', 'program'): 0.03162277660168379, ('program', 'asus'): 0.03162277660168379, ('asus', 'program'): 0.03162277660168379, ('program', 'brazil'): 0.03162277660168379, ('brazil', 'program'): 0.03162277660168379, ('program', 'india'): 0.03162277660168379, ('india', 'program'): 0.03162277660168379, ('program', 'hindi'): 0.03162277660168379, ('hindi', 'program'): 0.03162277660168379, ('program', 'season'): 0.03162277660168379, ('season', 'program'): 0.03162277660168379, ('program', 'pant'): 0.03162277660168379, ('pant', 'program'): 0.03162277660168379, ('program', 'beef'): 0.03162277660168379, ('beef', 'program'): 0.03162277660168379, ('program', 'soda'): 0.03162277660168379, ('soda', 'program'): 0.03162277660168379, ('program', 'language'): 0.03162277660168379, ('language', 'program'): 0.03162277660168379, ('program', 'cocacola'): 0.03162277660168379, ('cocacola', 'program'): 0.03162277660168379, ('program', 'meat'): 0.03162277660168379, ('meat', 'program'): 0.03162277660168379, ('program', 'bee'): 0.03162277660168379, ('bee', 'program'): 0.03162277660168379, ('program', 'carnivore'): 0.03162277660168379, ('carnivore', 'program'): 0.03162277660168379, ('program', 'cricket'): 0.03162277660168379, ('cricket', 'program'): 0.03162277660168379, ('program', 'pepsi'): 0.03162277660168379, ('pepsi', 'program'): 0.03162277660168379, ('program', 'summer'): 0.03162277660168379, ('summer', 'program'): 0.03162277660168379, ('program', 'country'): 0.03162277660168379, ('country', 'program'): 0.03162277660168379, ('program', 'game'): 0.03162277660168379, ('game', 'program'): 0.03162277660168379, ('program', 'lion'): 0.03162277660168379, ('lion', 'program'): 0.03162277660168379, ('program', 'time'): 0.03162277660168379, ('time', 'program'): 0.03162277660168379, ('program', 'macbook'): 0.03162277660168379, ('macbook', 'program'): 0.03162277660168379, ('program', 'ant'): 0.03162277660168379, ('ant', 'program'): 0.03162277660168379, ('program', 'english'): 0.03162277660168379, ('english', 'program'): 0.03162277660168379, ('program', 'physics'): 0.03162277660168379, ('physics', 'program'): 0.03162277660168379, ('program', 'cucumber'): 0.03162277660168379, ('cucumber', 'program'): 0.03162277660168379, ('program', 'dress'): 0.03162277660168379, ('dress', 'program'): 0.03162277660168379, ('program', 'shirt'): 0.03162277660168379, ('shirt', 'program'): 0.03162277660168379, ('program', 'autumn'): 0.03162277660168379, ('autumn', 'program'): 0.03162277660168379, ('program', 'vegetable'): 0.03162277660168379, ('vegetable', 'program'): 0.03162277660168379, ('program', 'full'): 0.03162277660168379, ('full', 'program'): 0.03162277660168379, ('program', 'chemistry'): 0.03162277660168379, ('chemistry', 'program'): 0.03162277660168379, ('program', 'physiscs'): 0.03162277660168379, ('physiscs', 'program'): 0.03162277660168379, ('program', 'java'): 0.03162277660168379, ('java', 'program'): 0.03162277660168379, ('program', 'student'): 0.03162277660168379, ('student', 'program'): 0.03162277660168379, ('program', 'giraffe'): 0.03162277660168379, ('giraffe', 'program'): 0.03162277660168379, ('program', 'subject'): 0.03162277660168379, ('subject', 'program'): 0.03162277660168379, ('program', 'liquid'): 0.03162277660168379, ('liquid', 'program'): 0.03162277660168379, ('program', 'car'): 0.03162277660168379, ('car', 'program'): 0.03162277660168379, ('program', 'tennis'): 0.03162277660168379, ('tennis', 'program'): 0.03162277660168379, ('program', 'laptop'): 0.03162277660168379, ('laptop', 'program'): 0.03162277660168379, ('program', 'herbivore'): 0.03162277660168379, ('herbivore', 'program'): 0.03162277660168379, ('program', 'potato'): 0.03162277660168379, ('potato', 'program'): 0.03162277660168379, ('program', 'toyota'): 0.03162277660168379, ('toyota', 'program'): 0.03162277660168379, ('program', 'insect'): 0.03162277660168379, ('insect', 'program'): 0.03162277660168379, ('program', 'zebra'): 0.03162277660168379, ('zebra', 'program'): 0.03162277660168379, ('program', 'part'): 0.03162277660168379, ('part', 'program'): 0.03162277660168379, ('program', 'state'): 0.03162277660168379, ('state', 'program'): 0.03162277660168379, ('program', 'chicken'): 0.03162277660168379, ('chicken', 'program'): 0.03162277660168379, ('program', 'solid'): 0.03162277660168379, ('solid', 'program'): 0.03162277660168379, ('program', '<UNK>'): 0.03162277660168379, ('<UNK>', 'program'): 0.03162277660168379, ('asus', 'asus'): 0.03162277660168379, ('asus', 'brazil'): 0.03162277660168379, ('brazil', 'asus'): 0.03162277660168379, ('asus', 'india'): 0.03162277660168379, ('india', 'asus'): 0.03162277660168379, ('asus', 'hindi'): 0.03162277660168379, ('hindi', 'asus'): 0.03162277660168379, ('asus', 'season'): 0.03162277660168379, ('season', 'asus'): 0.03162277660168379, ('asus', 'pant'): 0.03162277660168379, ('pant', 'asus'): 0.03162277660168379, ('asus', 'beef'): 0.03162277660168379, ('beef', 'asus'): 0.03162277660168379, ('asus', 'soda'): 0.03162277660168379, ('soda', 'asus'): 0.03162277660168379, ('asus', 'language'): 0.03162277660168379, ('language', 'asus'): 0.03162277660168379, ('asus', 'cocacola'): 0.03162277660168379, ('cocacola', 'asus'): 0.03162277660168379, ('asus', 'meat'): 0.03162277660168379, ('meat', 'asus'): 0.03162277660168379, ('asus', 'bee'): 0.03162277660168379, ('bee', 'asus'): 0.03162277660168379, ('asus', 'carnivore'): 0.03162277660168379, ('carnivore', 'asus'): 0.03162277660168379, ('asus', 'cricket'): 0.03162277660168379, ('cricket', 'asus'): 0.03162277660168379, ('asus', 'pepsi'): 0.03162277660168379, ('pepsi', 'asus'): 0.03162277660168379, ('asus', 'summer'): 0.03162277660168379, ('summer', 'asus'): 0.03162277660168379, ('asus', 'country'): 0.03162277660168379, ('country', 'asus'): 0.03162277660168379, ('asus', 'game'): 0.03162277660168379, ('game', 'asus'): 0.03162277660168379, ('asus', 'lion'): 0.03162277660168379, ('lion', 'asus'): 0.03162277660168379, ('asus', 'time'): 0.03162277660168379, ('time', 'asus'): 0.03162277660168379, ('asus', 'macbook'): 0.03162277660168379, ('macbook', 'asus'): 0.03162277660168379, ('asus', 'ant'): 0.03162277660168379, ('ant', 'asus'): 0.03162277660168379, ('asus', 'english'): 0.03162277660168379, ('english', 'asus'): 0.03162277660168379, ('asus', 'physics'): 0.03162277660168379, ('physics', 'asus'): 0.03162277660168379, ('asus', 'cucumber'): 0.03162277660168379, ('cucumber', 'asus'): 0.03162277660168379, ('asus', 'dress'): 0.03162277660168379, ('dress', 'asus'): 0.03162277660168379, ('asus', 'shirt'): 0.03162277660168379, ('shirt', 'asus'): 0.03162277660168379, ('asus', 'autumn'): 0.03162277660168379, ('autumn', 'asus'): 0.03162277660168379, ('asus', 'vegetable'): 0.03162277660168379, ('vegetable', 'asus'): 0.03162277660168379, ('asus', 'full'): 0.03162277660168379, ('full', 'asus'): 0.03162277660168379, ('asus', 'chemistry'): 0.03162277660168379, ('chemistry', 'asus'): 0.03162277660168379, ('asus', 'physiscs'): 0.03162277660168379, ('physiscs', 'asus'): 0.03162277660168379, ('asus', 'java'): 0.03162277660168379, ('java', 'asus'): 0.03162277660168379, ('asus', 'student'): 0.03162277660168379, ('student', 'asus'): 0.03162277660168379, ('asus', 'giraffe'): 0.03162277660168379, ('giraffe', 'asus'): 0.03162277660168379, ('asus', 'subject'): 0.03162277660168379, ('subject', 'asus'): 0.03162277660168379, ('asus', 'liquid'): 0.03162277660168379, ('liquid', 'asus'): 0.03162277660168379, ('asus', 'car'): 0.03162277660168379, ('car', 'asus'): 0.03162277660168379, ('asus', 'tennis'): 0.03162277660168379, ('tennis', 'asus'): 0.03162277660168379, ('asus', 'laptop'): 0.03162277660168379, ('laptop', 'asus'): 0.03162277660168379, ('asus', 'herbivore'): 0.03162277660168379, ('herbivore', 'asus'): 0.03162277660168379, ('asus', 'potato'): 0.03162277660168379, ('potato', 'asus'): 0.03162277660168379, ('asus', 'toyota'): 0.03162277660168379, ('toyota', 'asus'): 0.03162277660168379, ('asus', 'insect'): 0.03162277660168379, ('insect', 'asus'): 0.03162277660168379, ('asus', 'zebra'): 0.03162277660168379, ('zebra', 'asus'): 0.03162277660168379, ('asus', 'part'): 0.03162277660168379, ('part', 'asus'): 0.03162277660168379, ('asus', 'state'): 0.03162277660168379, ('state', 'asus'): 0.03162277660168379, ('asus', 'chicken'): 0.03162277660168379, ('chicken', 'asus'): 0.03162277660168379, ('asus', 'solid'): 0.03162277660168379, ('solid', 'asus'): 0.03162277660168379, ('asus', '<UNK>'): 0.03162277660168379, ('<UNK>', 'asus'): 0.03162277660168379, ('brazil', 'brazil'): 0.03162277660168379, ('brazil', 'india'): 0.03162277660168379, ('india', 'brazil'): 0.03162277660168379, ('brazil', 'hindi'): 0.03162277660168379, ('hindi', 'brazil'): 0.03162277660168379, ('brazil', 'season'): 0.03162277660168379, ('season', 'brazil'): 0.03162277660168379, ('brazil', 'pant'): 0.03162277660168379, ('pant', 'brazil'): 0.03162277660168379, ('brazil', 'beef'): 0.03162277660168379, ('beef', 'brazil'): 0.03162277660168379, ('brazil', 'soda'): 0.03162277660168379, ('soda', 'brazil'): 0.03162277660168379, ('brazil', 'language'): 0.03162277660168379, ('language', 'brazil'): 0.03162277660168379, ('brazil', 'cocacola'): 0.03162277660168379, ('cocacola', 'brazil'): 0.03162277660168379, ('brazil', 'meat'): 0.03162277660168379, ('meat', 'brazil'): 0.03162277660168379, ('brazil', 'bee'): 0.03162277660168379, ('bee', 'brazil'): 0.03162277660168379, ('brazil', 'carnivore'): 0.03162277660168379, ('carnivore', 'brazil'): 0.03162277660168379, ('brazil', 'cricket'): 0.03162277660168379, ('cricket', 'brazil'): 0.03162277660168379, ('brazil', 'pepsi'): 0.03162277660168379, ('pepsi', 'brazil'): 0.03162277660168379, ('brazil', 'summer'): 0.03162277660168379, ('summer', 'brazil'): 0.03162277660168379, ('brazil', 'country'): 0.03162277660168379, ('country', 'brazil'): 0.03162277660168379, ('brazil', 'game'): 0.03162277660168379, ('game', 'brazil'): 0.03162277660168379, ('brazil', 'lion'): 0.03162277660168379, ('lion', 'brazil'): 0.03162277660168379, ('brazil', 'time'): 0.03162277660168379, ('time', 'brazil'): 0.03162277660168379, ('brazil', 'macbook'): 0.03162277660168379, ('macbook', 'brazil'): 0.03162277660168379, ('brazil', 'ant'): 0.03162277660168379, ('ant', 'brazil'): 0.03162277660168379, ('brazil', 'english'): 0.03162277660168379, ('english', 'brazil'): 0.03162277660168379, ('brazil', 'physics'): 0.03162277660168379, ('physics', 'brazil'): 0.03162277660168379, ('brazil', 'cucumber'): 0.03162277660168379, ('cucumber', 'brazil'): 0.03162277660168379, ('brazil', 'dress'): 0.03162277660168379, ('dress', 'brazil'): 0.03162277660168379, ('brazil', 'shirt'): 0.03162277660168379, ('shirt', 'brazil'): 0.03162277660168379, ('brazil', 'autumn'): 0.03162277660168379, ('autumn', 'brazil'): 0.03162277660168379, ('brazil', 'vegetable'): 0.03162277660168379, ('vegetable', 'brazil'): 0.03162277660168379, ('brazil', 'full'): 0.03162277660168379, ('full', 'brazil'): 0.03162277660168379, ('brazil', 'chemistry'): 0.03162277660168379, ('chemistry', 'brazil'): 0.03162277660168379, ('brazil', 'physiscs'): 0.03162277660168379, ('physiscs', 'brazil'): 0.03162277660168379, ('brazil', 'java'): 0.03162277660168379, ('java', 'brazil'): 0.03162277660168379, ('brazil', 'student'): 0.03162277660168379, ('student', 'brazil'): 0.03162277660168379, ('brazil', 'giraffe'): 0.03162277660168379, ('giraffe', 'brazil'): 0.03162277660168379, ('brazil', 'subject'): 0.03162277660168379, ('subject', 'brazil'): 0.03162277660168379, ('brazil', 'liquid'): 0.03162277660168379, ('liquid', 'brazil'): 0.03162277660168379, ('brazil', 'car'): 0.03162277660168379, ('car', 'brazil'): 0.03162277660168379, ('brazil', 'tennis'): 0.03162277660168379, ('tennis', 'brazil'): 0.03162277660168379, ('brazil', 'laptop'): 0.03162277660168379, ('laptop', 'brazil'): 0.03162277660168379, ('brazil', 'herbivore'): 0.03162277660168379, ('herbivore', 'brazil'): 0.03162277660168379, ('brazil', 'potato'): 0.03162277660168379, ('potato', 'brazil'): 0.03162277660168379, ('brazil', 'toyota'): 0.03162277660168379, ('toyota', 'brazil'): 0.03162277660168379, ('brazil', 'insect'): 0.03162277660168379, ('insect', 'brazil'): 0.03162277660168379, ('brazil', 'zebra'): 0.03162277660168379, ('zebra', 'brazil'): 0.03162277660168379, ('brazil', 'part'): 0.03162277660168379, ('part', 'brazil'): 0.03162277660168379, ('brazil', 'state'): 0.03162277660168379, ('state', 'brazil'): 0.03162277660168379, ('brazil', 'chicken'): 0.03162277660168379, ('chicken', 'brazil'): 0.03162277660168379, ('brazil', 'solid'): 0.03162277660168379, ('solid', 'brazil'): 0.03162277660168379, ('brazil', '<UNK>'): 0.03162277660168379, ('<UNK>', 'brazil'): 0.03162277660168379, ('india', 'india'): 0.03162277660168379, ('india', 'hindi'): 0.03162277660168379, ('hindi', 'india'): 0.03162277660168379, ('india', 'season'): 0.03162277660168379, ('season', 'india'): 0.03162277660168379, ('india', 'pant'): 0.03162277660168379, ('pant', 'india'): 0.03162277660168379, ('india', 'beef'): 0.03162277660168379, ('beef', 'india'): 0.03162277660168379, ('india', 'soda'): 0.03162277660168379, ('soda', 'india'): 0.03162277660168379, ('india', 'language'): 0.03162277660168379, ('language', 'india'): 0.03162277660168379, ('india', 'cocacola'): 0.03162277660168379, ('cocacola', 'india'): 0.03162277660168379, ('india', 'meat'): 0.03162277660168379, ('meat', 'india'): 0.03162277660168379, ('india', 'bee'): 0.03162277660168379, ('bee', 'india'): 0.03162277660168379, ('india', 'carnivore'): 0.03162277660168379, ('carnivore', 'india'): 0.03162277660168379, ('india', 'cricket'): 0.03162277660168379, ('cricket', 'india'): 0.03162277660168379, ('india', 'pepsi'): 0.03162277660168379, ('pepsi', 'india'): 0.03162277660168379, ('india', 'summer'): 0.03162277660168379, ('summer', 'india'): 0.03162277660168379, ('india', 'country'): 0.03162277660168379, ('country', 'india'): 0.03162277660168379, ('india', 'game'): 0.03162277660168379, ('game', 'india'): 0.03162277660168379, ('india', 'lion'): 0.03162277660168379, ('lion', 'india'): 0.03162277660168379, ('india', 'time'): 0.03162277660168379, ('time', 'india'): 0.03162277660168379, ('india', 'macbook'): 0.03162277660168379, ('macbook', 'india'): 0.03162277660168379, ('india', 'ant'): 0.03162277660168379, ('ant', 'india'): 0.03162277660168379, ('india', 'english'): 0.03162277660168379, ('english', 'india'): 0.03162277660168379, ('india', 'physics'): 0.03162277660168379, ('physics', 'india'): 0.03162277660168379, ('india', 'cucumber'): 0.03162277660168379, ('cucumber', 'india'): 0.03162277660168379, ('india', 'dress'): 0.03162277660168379, ('dress', 'india'): 0.03162277660168379, ('india', 'shirt'): 0.03162277660168379, ('shirt', 'india'): 0.03162277660168379, ('india', 'autumn'): 0.03162277660168379, ('autumn', 'india'): 0.03162277660168379, ('india', 'vegetable'): 0.03162277660168379, ('vegetable', 'india'): 0.03162277660168379, ('india', 'full'): 0.03162277660168379, ('full', 'india'): 0.03162277660168379, ('india', 'chemistry'): 0.03162277660168379, ('chemistry', 'india'): 0.03162277660168379, ('india', 'physiscs'): 0.03162277660168379, ('physiscs', 'india'): 0.03162277660168379, ('india', 'java'): 0.03162277660168379, ('java', 'india'): 0.03162277660168379, ('india', 'student'): 0.03162277660168379, ('student', 'india'): 0.03162277660168379, ('india', 'giraffe'): 0.03162277660168379, ('giraffe', 'india'): 0.03162277660168379, ('india', 'subject'): 0.03162277660168379, ('subject', 'india'): 0.03162277660168379, ('india', 'liquid'): 0.03162277660168379, ('liquid', 'india'): 0.03162277660168379, ('india', 'car'): 0.03162277660168379, ('car', 'india'): 0.03162277660168379, ('india', 'tennis'): 0.03162277660168379, ('tennis', 'india'): 0.03162277660168379, ('india', 'laptop'): 0.03162277660168379, ('laptop', 'india'): 0.03162277660168379, ('india', 'herbivore'): 0.03162277660168379, ('herbivore', 'india'): 0.03162277660168379, ('india', 'potato'): 0.03162277660168379, ('potato', 'india'): 0.03162277660168379, ('india', 'toyota'): 0.03162277660168379, ('toyota', 'india'): 0.03162277660168379, ('india', 'insect'): 0.03162277660168379, ('insect', 'india'): 0.03162277660168379, ('india', 'zebra'): 0.03162277660168379, ('zebra', 'india'): 0.03162277660168379, ('india', 'part'): 0.03162277660168379, ('part', 'india'): 0.03162277660168379, ('india', 'state'): 0.03162277660168379, ('state', 'india'): 0.03162277660168379, ('india', 'chicken'): 0.03162277660168379, ('chicken', 'india'): 0.03162277660168379, ('india', 'solid'): 0.03162277660168379, ('solid', 'india'): 0.03162277660168379, ('india', '<UNK>'): 0.03162277660168379, ('<UNK>', 'india'): 0.03162277660168379, ('hindi', 'hindi'): 0.03162277660168379, ('hindi', 'season'): 0.03162277660168379, ('season', 'hindi'): 0.03162277660168379, ('hindi', 'pant'): 0.03162277660168379, ('pant', 'hindi'): 0.03162277660168379, ('hindi', 'beef'): 0.03162277660168379, ('beef', 'hindi'): 0.03162277660168379, ('hindi', 'soda'): 0.03162277660168379, ('soda', 'hindi'): 0.03162277660168379, ('hindi', 'language'): 0.03162277660168379, ('language', 'hindi'): 0.03162277660168379, ('hindi', 'cocacola'): 0.03162277660168379, ('cocacola', 'hindi'): 0.03162277660168379, ('hindi', 'meat'): 0.03162277660168379, ('meat', 'hindi'): 0.03162277660168379, ('hindi', 'bee'): 0.03162277660168379, ('bee', 'hindi'): 0.03162277660168379, ('hindi', 'carnivore'): 0.03162277660168379, ('carnivore', 'hindi'): 0.03162277660168379, ('hindi', 'cricket'): 0.03162277660168379, ('cricket', 'hindi'): 0.03162277660168379, ('hindi', 'pepsi'): 0.03162277660168379, ('pepsi', 'hindi'): 0.03162277660168379, ('hindi', 'summer'): 0.03162277660168379, ('summer', 'hindi'): 0.03162277660168379, ('hindi', 'country'): 0.03162277660168379, ('country', 'hindi'): 0.03162277660168379, ('hindi', 'game'): 0.03162277660168379, ('game', 'hindi'): 0.03162277660168379, ('hindi', 'lion'): 0.03162277660168379, ('lion', 'hindi'): 0.03162277660168379, ('hindi', 'time'): 0.03162277660168379, ('time', 'hindi'): 0.03162277660168379, ('hindi', 'macbook'): 0.03162277660168379, ('macbook', 'hindi'): 0.03162277660168379, ('hindi', 'ant'): 0.03162277660168379, ('ant', 'hindi'): 0.03162277660168379, ('hindi', 'english'): 0.03162277660168379, ('english', 'hindi'): 0.03162277660168379, ('hindi', 'physics'): 0.03162277660168379, ('physics', 'hindi'): 0.03162277660168379, ('hindi', 'cucumber'): 0.03162277660168379, ('cucumber', 'hindi'): 0.03162277660168379, ('hindi', 'dress'): 0.03162277660168379, ('dress', 'hindi'): 0.03162277660168379, ('hindi', 'shirt'): 0.03162277660168379, ('shirt', 'hindi'): 0.03162277660168379, ('hindi', 'autumn'): 0.03162277660168379, ('autumn', 'hindi'): 0.03162277660168379, ('hindi', 'vegetable'): 0.03162277660168379, ('vegetable', 'hindi'): 0.03162277660168379, ('hindi', 'full'): 0.03162277660168379, ('full', 'hindi'): 0.03162277660168379, ('hindi', 'chemistry'): 0.03162277660168379, ('chemistry', 'hindi'): 0.03162277660168379, ('hindi', 'physiscs'): 0.03162277660168379, ('physiscs', 'hindi'): 0.03162277660168379, ('hindi', 'java'): 0.03162277660168379, ('java', 'hindi'): 0.03162277660168379, ('hindi', 'student'): 0.03162277660168379, ('student', 'hindi'): 0.03162277660168379, ('hindi', 'giraffe'): 0.03162277660168379, ('giraffe', 'hindi'): 0.03162277660168379, ('hindi', 'subject'): 0.03162277660168379, ('subject', 'hindi'): 0.03162277660168379, ('hindi', 'liquid'): 0.03162277660168379, ('liquid', 'hindi'): 0.03162277660168379, ('hindi', 'car'): 0.03162277660168379, ('car', 'hindi'): 0.03162277660168379, ('hindi', 'tennis'): 0.03162277660168379, ('tennis', 'hindi'): 0.03162277660168379, ('hindi', 'laptop'): 0.03162277660168379, ('laptop', 'hindi'): 0.03162277660168379, ('hindi', 'herbivore'): 0.03162277660168379, ('herbivore', 'hindi'): 0.03162277660168379, ('hindi', 'potato'): 0.03162277660168379, ('potato', 'hindi'): 0.03162277660168379, ('hindi', 'toyota'): 0.03162277660168379, ('toyota', 'hindi'): 0.03162277660168379, ('hindi', 'insect'): 0.03162277660168379, ('insect', 'hindi'): 0.03162277660168379, ('hindi', 'zebra'): 0.03162277660168379, ('zebra', 'hindi'): 0.03162277660168379, ('hindi', 'part'): 0.03162277660168379, ('part', 'hindi'): 0.03162277660168379, ('hindi', 'state'): 0.03162277660168379, ('state', 'hindi'): 0.03162277660168379, ('hindi', 'chicken'): 0.03162277660168379, ('chicken', 'hindi'): 0.03162277660168379, ('hindi', 'solid'): 0.03162277660168379, ('solid', 'hindi'): 0.03162277660168379, ('hindi', '<UNK>'): 0.03162277660168379, ('<UNK>', 'hindi'): 0.03162277660168379, ('season', 'season'): 0.03162277660168379, ('season', 'pant'): 0.03162277660168379, ('pant', 'season'): 0.03162277660168379, ('season', 'beef'): 0.03162277660168379, ('beef', 'season'): 0.03162277660168379, ('season', 'soda'): 0.03162277660168379, ('soda', 'season'): 0.03162277660168379, ('season', 'language'): 0.03162277660168379, ('language', 'season'): 0.03162277660168379, ('season', 'cocacola'): 0.03162277660168379, ('cocacola', 'season'): 0.03162277660168379, ('season', 'meat'): 0.03162277660168379, ('meat', 'season'): 0.03162277660168379, ('season', 'bee'): 0.03162277660168379, ('bee', 'season'): 0.03162277660168379, ('season', 'carnivore'): 0.03162277660168379, ('carnivore', 'season'): 0.03162277660168379, ('season', 'cricket'): 0.03162277660168379, ('cricket', 'season'): 0.03162277660168379, ('season', 'pepsi'): 0.03162277660168379, ('pepsi', 'season'): 0.03162277660168379, ('season', 'summer'): 0.03162277660168379, ('summer', 'season'): 0.03162277660168379, ('season', 'country'): 0.03162277660168379, ('country', 'season'): 0.03162277660168379, ('season', 'game'): 0.03162277660168379, ('game', 'season'): 0.03162277660168379, ('season', 'lion'): 0.03162277660168379, ('lion', 'season'): 0.03162277660168379, ('season', 'time'): 0.03162277660168379, ('time', 'season'): 0.03162277660168379, ('season', 'macbook'): 0.03162277660168379, ('macbook', 'season'): 0.03162277660168379, ('season', 'ant'): 0.03162277660168379, ('ant', 'season'): 0.03162277660168379, ('season', 'english'): 0.03162277660168379, ('english', 'season'): 0.03162277660168379, ('season', 'physics'): 0.03162277660168379, ('physics', 'season'): 0.03162277660168379, ('season', 'cucumber'): 0.03162277660168379, ('cucumber', 'season'): 0.03162277660168379, ('season', 'dress'): 0.03162277660168379, ('dress', 'season'): 0.03162277660168379, ('season', 'shirt'): 0.03162277660168379, ('shirt', 'season'): 0.03162277660168379, ('season', 'autumn'): 0.03162277660168379, ('autumn', 'season'): 0.03162277660168379, ('season', 'vegetable'): 0.03162277660168379, ('vegetable', 'season'): 0.03162277660168379, ('season', 'full'): 0.03162277660168379, ('full', 'season'): 0.03162277660168379, ('season', 'chemistry'): 0.03162277660168379, ('chemistry', 'season'): 0.03162277660168379, ('season', 'physiscs'): 0.03162277660168379, ('physiscs', 'season'): 0.03162277660168379, ('season', 'java'): 0.03162277660168379, ('java', 'season'): 0.03162277660168379, ('season', 'student'): 0.03162277660168379, ('student', 'season'): 0.03162277660168379, ('season', 'giraffe'): 0.03162277660168379, ('giraffe', 'season'): 0.03162277660168379, ('season', 'subject'): 0.03162277660168379, ('subject', 'season'): 0.03162277660168379, ('season', 'liquid'): 0.03162277660168379, ('liquid', 'season'): 0.03162277660168379, ('season', 'car'): 0.03162277660168379, ('car', 'season'): 0.03162277660168379, ('season', 'tennis'): 0.03162277660168379, ('tennis', 'season'): 0.03162277660168379, ('season', 'laptop'): 0.03162277660168379, ('laptop', 'season'): 0.03162277660168379, ('season', 'herbivore'): 0.03162277660168379, ('herbivore', 'season'): 0.03162277660168379, ('season', 'potato'): 0.03162277660168379, ('potato', 'season'): 0.03162277660168379, ('season', 'toyota'): 0.03162277660168379, ('toyota', 'season'): 0.03162277660168379, ('season', 'insect'): 0.03162277660168379, ('insect', 'season'): 0.03162277660168379, ('season', 'zebra'): 0.03162277660168379, ('zebra', 'season'): 0.03162277660168379, ('season', 'part'): 0.03162277660168379, ('part', 'season'): 0.03162277660168379, ('season', 'state'): 0.03162277660168379, ('state', 'season'): 0.03162277660168379, ('season', 'chicken'): 0.03162277660168379, ('chicken', 'season'): 0.03162277660168379, ('season', 'solid'): 0.03162277660168379, ('solid', 'season'): 0.03162277660168379, ('season', '<UNK>'): 0.03162277660168379, ('<UNK>', 'season'): 0.03162277660168379, ('pant', 'pant'): 0.03162277660168379, ('pant', 'beef'): 0.03162277660168379, ('beef', 'pant'): 0.03162277660168379, ('pant', 'soda'): 0.03162277660168379, ('soda', 'pant'): 0.03162277660168379, ('pant', 'language'): 0.03162277660168379, ('language', 'pant'): 0.03162277660168379, ('pant', 'cocacola'): 0.03162277660168379, ('cocacola', 'pant'): 0.03162277660168379, ('pant', 'meat'): 0.03162277660168379, ('meat', 'pant'): 0.03162277660168379, ('pant', 'bee'): 0.03162277660168379, ('bee', 'pant'): 0.03162277660168379, ('pant', 'carnivore'): 0.03162277660168379, ('carnivore', 'pant'): 0.03162277660168379, ('pant', 'cricket'): 0.03162277660168379, ('cricket', 'pant'): 0.03162277660168379, ('pant', 'pepsi'): 0.03162277660168379, ('pepsi', 'pant'): 0.03162277660168379, ('pant', 'summer'): 0.03162277660168379, ('summer', 'pant'): 0.03162277660168379, ('pant', 'country'): 0.03162277660168379, ('country', 'pant'): 0.03162277660168379, ('pant', 'game'): 0.03162277660168379, ('game', 'pant'): 0.03162277660168379, ('pant', 'lion'): 0.03162277660168379, ('lion', 'pant'): 0.03162277660168379, ('pant', 'time'): 0.03162277660168379, ('time', 'pant'): 0.03162277660168379, ('pant', 'macbook'): 0.03162277660168379, ('macbook', 'pant'): 0.03162277660168379, ('pant', 'ant'): 0.03162277660168379, ('ant', 'pant'): 0.03162277660168379, ('pant', 'english'): 0.03162277660168379, ('english', 'pant'): 0.03162277660168379, ('pant', 'physics'): 0.03162277660168379, ('physics', 'pant'): 0.03162277660168379, ('pant', 'cucumber'): 0.03162277660168379, ('cucumber', 'pant'): 0.03162277660168379, ('pant', 'dress'): 0.03162277660168379, ('dress', 'pant'): 0.03162277660168379, ('pant', 'shirt'): 0.03162277660168379, ('shirt', 'pant'): 0.03162277660168379, ('pant', 'autumn'): 0.03162277660168379, ('autumn', 'pant'): 0.03162277660168379, ('pant', 'vegetable'): 0.03162277660168379, ('vegetable', 'pant'): 0.03162277660168379, ('pant', 'full'): 0.03162277660168379, ('full', 'pant'): 0.03162277660168379, ('pant', 'chemistry'): 0.03162277660168379, ('chemistry', 'pant'): 0.03162277660168379, ('pant', 'physiscs'): 0.03162277660168379, ('physiscs', 'pant'): 0.03162277660168379, ('pant', 'java'): 0.03162277660168379, ('java', 'pant'): 0.03162277660168379, ('pant', 'student'): 0.03162277660168379, ('student', 'pant'): 0.03162277660168379, ('pant', 'giraffe'): 0.03162277660168379, ('giraffe', 'pant'): 0.03162277660168379, ('pant', 'subject'): 0.03162277660168379, ('subject', 'pant'): 0.03162277660168379, ('pant', 'liquid'): 0.03162277660168379, ('liquid', 'pant'): 0.03162277660168379, ('pant', 'car'): 0.03162277660168379, ('car', 'pant'): 0.03162277660168379, ('pant', 'tennis'): 0.03162277660168379, ('tennis', 'pant'): 0.03162277660168379, ('pant', 'laptop'): 0.03162277660168379, ('laptop', 'pant'): 0.03162277660168379, ('pant', 'herbivore'): 0.03162277660168379, ('herbivore', 'pant'): 0.03162277660168379, ('pant', 'potato'): 0.03162277660168379, ('potato', 'pant'): 0.03162277660168379, ('pant', 'toyota'): 0.03162277660168379, ('toyota', 'pant'): 0.03162277660168379, ('pant', 'insect'): 0.03162277660168379, ('insect', 'pant'): 0.03162277660168379, ('pant', 'zebra'): 0.03162277660168379, ('zebra', 'pant'): 0.03162277660168379, ('pant', 'part'): 0.03162277660168379, ('part', 'pant'): 0.03162277660168379, ('pant', 'state'): 0.03162277660168379, ('state', 'pant'): 0.03162277660168379, ('pant', 'chicken'): 0.03162277660168379, ('chicken', 'pant'): 0.03162277660168379, ('pant', 'solid'): 0.03162277660168379, ('solid', 'pant'): 0.03162277660168379, ('pant', '<UNK>'): 0.03162277660168379, ('<UNK>', 'pant'): 0.03162277660168379, ('beef', 'beef'): 0.03162277660168379, ('beef', 'soda'): 0.03162277660168379, ('soda', 'beef'): 0.03162277660168379, ('beef', 'language'): 0.03162277660168379, ('language', 'beef'): 0.03162277660168379, ('beef', 'cocacola'): 0.03162277660168379, ('cocacola', 'beef'): 0.03162277660168379, ('beef', 'meat'): 0.03162277660168379, ('meat', 'beef'): 0.03162277660168379, ('beef', 'bee'): 0.03162277660168379, ('bee', 'beef'): 0.03162277660168379, ('beef', 'carnivore'): 0.03162277660168379, ('carnivore', 'beef'): 0.03162277660168379, ('beef', 'cricket'): 0.03162277660168379, ('cricket', 'beef'): 0.03162277660168379, ('beef', 'pepsi'): 0.03162277660168379, ('pepsi', 'beef'): 0.03162277660168379, ('beef', 'summer'): 0.03162277660168379, ('summer', 'beef'): 0.03162277660168379, ('beef', 'country'): 0.03162277660168379, ('country', 'beef'): 0.03162277660168379, ('beef', 'game'): 0.03162277660168379, ('game', 'beef'): 0.03162277660168379, ('beef', 'lion'): 0.03162277660168379, ('lion', 'beef'): 0.03162277660168379, ('beef', 'time'): 0.03162277660168379, ('time', 'beef'): 0.03162277660168379, ('beef', 'macbook'): 0.03162277660168379, ('macbook', 'beef'): 0.03162277660168379, ('beef', 'ant'): 0.03162277660168379, ('ant', 'beef'): 0.03162277660168379, ('beef', 'english'): 0.03162277660168379, ('english', 'beef'): 0.03162277660168379, ('beef', 'physics'): 0.03162277660168379, ('physics', 'beef'): 0.03162277660168379, ('beef', 'cucumber'): 0.03162277660168379, ('cucumber', 'beef'): 0.03162277660168379, ('beef', 'dress'): 0.03162277660168379, ('dress', 'beef'): 0.03162277660168379, ('beef', 'shirt'): 0.03162277660168379, ('shirt', 'beef'): 0.03162277660168379, ('beef', 'autumn'): 0.03162277660168379, ('autumn', 'beef'): 0.03162277660168379, ('beef', 'vegetable'): 0.03162277660168379, ('vegetable', 'beef'): 0.03162277660168379, ('beef', 'full'): 0.03162277660168379, ('full', 'beef'): 0.03162277660168379, ('beef', 'chemistry'): 0.03162277660168379, ('chemistry', 'beef'): 0.03162277660168379, ('beef', 'physiscs'): 0.03162277660168379, ('physiscs', 'beef'): 0.03162277660168379, ('beef', 'java'): 0.03162277660168379, ('java', 'beef'): 0.03162277660168379, ('beef', 'student'): 0.03162277660168379, ('student', 'beef'): 0.03162277660168379, ('beef', 'giraffe'): 0.03162277660168379, ('giraffe', 'beef'): 0.03162277660168379, ('beef', 'subject'): 0.03162277660168379, ('subject', 'beef'): 0.03162277660168379, ('beef', 'liquid'): 0.03162277660168379, ('liquid', 'beef'): 0.03162277660168379, ('beef', 'car'): 0.03162277660168379, ('car', 'beef'): 0.03162277660168379, ('beef', 'tennis'): 0.03162277660168379, ('tennis', 'beef'): 0.03162277660168379, ('beef', 'laptop'): 0.03162277660168379, ('laptop', 'beef'): 0.03162277660168379, ('beef', 'herbivore'): 0.03162277660168379, ('herbivore', 'beef'): 0.03162277660168379, ('beef', 'potato'): 0.03162277660168379, ('potato', 'beef'): 0.03162277660168379, ('beef', 'toyota'): 0.03162277660168379, ('toyota', 'beef'): 0.03162277660168379, ('beef', 'insect'): 0.03162277660168379, ('insect', 'beef'): 0.03162277660168379, ('beef', 'zebra'): 0.03162277660168379, ('zebra', 'beef'): 0.03162277660168379, ('beef', 'part'): 0.03162277660168379, ('part', 'beef'): 0.03162277660168379, ('beef', 'state'): 0.03162277660168379, ('state', 'beef'): 0.03162277660168379, ('beef', 'chicken'): 0.03162277660168379, ('chicken', 'beef'): 0.03162277660168379, ('beef', 'solid'): 0.03162277660168379, ('solid', 'beef'): 0.03162277660168379, ('beef', '<UNK>'): 0.03162277660168379, ('<UNK>', 'beef'): 0.03162277660168379, ('soda', 'soda'): 0.03162277660168379, ('soda', 'language'): 0.03162277660168379, ('language', 'soda'): 0.03162277660168379, ('soda', 'cocacola'): 0.03162277660168379, ('cocacola', 'soda'): 0.03162277660168379, ('soda', 'meat'): 0.03162277660168379, ('meat', 'soda'): 0.03162277660168379, ('soda', 'bee'): 0.03162277660168379, ('bee', 'soda'): 0.03162277660168379, ('soda', 'carnivore'): 0.03162277660168379, ('carnivore', 'soda'): 0.03162277660168379, ('soda', 'cricket'): 0.03162277660168379, ('cricket', 'soda'): 0.03162277660168379, ('soda', 'pepsi'): 0.03162277660168379, ('pepsi', 'soda'): 0.03162277660168379, ('soda', 'summer'): 0.03162277660168379, ('summer', 'soda'): 0.03162277660168379, ('soda', 'country'): 0.03162277660168379, ('country', 'soda'): 0.03162277660168379, ('soda', 'game'): 0.03162277660168379, ('game', 'soda'): 0.03162277660168379, ('soda', 'lion'): 0.03162277660168379, ('lion', 'soda'): 0.03162277660168379, ('soda', 'time'): 0.03162277660168379, ('time', 'soda'): 0.03162277660168379, ('soda', 'macbook'): 0.03162277660168379, ('macbook', 'soda'): 0.03162277660168379, ('soda', 'ant'): 0.03162277660168379, ('ant', 'soda'): 0.03162277660168379, ('soda', 'english'): 0.03162277660168379, ('english', 'soda'): 0.03162277660168379, ('soda', 'physics'): 0.03162277660168379, ('physics', 'soda'): 0.03162277660168379, ('soda', 'cucumber'): 0.03162277660168379, ('cucumber', 'soda'): 0.03162277660168379, ('soda', 'dress'): 0.03162277660168379, ('dress', 'soda'): 0.03162277660168379, ('soda', 'shirt'): 0.03162277660168379, ('shirt', 'soda'): 0.03162277660168379, ('soda', 'autumn'): 0.03162277660168379, ('autumn', 'soda'): 0.03162277660168379, ('soda', 'vegetable'): 0.03162277660168379, ('vegetable', 'soda'): 0.03162277660168379, ('soda', 'full'): 0.03162277660168379, ('full', 'soda'): 0.03162277660168379, ('soda', 'chemistry'): 0.03162277660168379, ('chemistry', 'soda'): 0.03162277660168379, ('soda', 'physiscs'): 0.03162277660168379, ('physiscs', 'soda'): 0.03162277660168379, ('soda', 'java'): 0.03162277660168379, ('java', 'soda'): 0.03162277660168379, ('soda', 'student'): 0.03162277660168379, ('student', 'soda'): 0.03162277660168379, ('soda', 'giraffe'): 0.03162277660168379, ('giraffe', 'soda'): 0.03162277660168379, ('soda', 'subject'): 0.03162277660168379, ('subject', 'soda'): 0.03162277660168379, ('soda', 'liquid'): 0.03162277660168379, ('liquid', 'soda'): 0.03162277660168379, ('soda', 'car'): 0.03162277660168379, ('car', 'soda'): 0.03162277660168379, ('soda', 'tennis'): 0.03162277660168379, ('tennis', 'soda'): 0.03162277660168379, ('soda', 'laptop'): 0.03162277660168379, ('laptop', 'soda'): 0.03162277660168379, ('soda', 'herbivore'): 0.03162277660168379, ('herbivore', 'soda'): 0.03162277660168379, ('soda', 'potato'): 0.03162277660168379, ('potato', 'soda'): 0.03162277660168379, ('soda', 'toyota'): 0.03162277660168379, ('toyota', 'soda'): 0.03162277660168379, ('soda', 'insect'): 0.03162277660168379, ('insect', 'soda'): 0.03162277660168379, ('soda', 'zebra'): 0.03162277660168379, ('zebra', 'soda'): 0.03162277660168379, ('soda', 'part'): 0.03162277660168379, ('part', 'soda'): 0.03162277660168379, ('soda', 'state'): 0.03162277660168379, ('state', 'soda'): 0.03162277660168379, ('soda', 'chicken'): 0.03162277660168379, ('chicken', 'soda'): 0.03162277660168379, ('soda', 'solid'): 0.03162277660168379, ('solid', 'soda'): 0.03162277660168379, ('soda', '<UNK>'): 0.03162277660168379, ('<UNK>', 'soda'): 0.03162277660168379, ('language', 'language'): 0.03162277660168379, ('language', 'cocacola'): 0.03162277660168379, ('cocacola', 'language'): 0.03162277660168379, ('language', 'meat'): 0.03162277660168379, ('meat', 'language'): 0.03162277660168379, ('language', 'bee'): 0.03162277660168379, ('bee', 'language'): 0.03162277660168379, ('language', 'carnivore'): 0.03162277660168379, ('carnivore', 'language'): 0.03162277660168379, ('language', 'cricket'): 0.03162277660168379, ('cricket', 'language'): 0.03162277660168379, ('language', 'pepsi'): 0.03162277660168379, ('pepsi', 'language'): 0.03162277660168379, ('language', 'summer'): 0.03162277660168379, ('summer', 'language'): 0.03162277660168379, ('language', 'country'): 0.03162277660168379, ('country', 'language'): 0.03162277660168379, ('language', 'game'): 0.03162277660168379, ('game', 'language'): 0.03162277660168379, ('language', 'lion'): 0.03162277660168379, ('lion', 'language'): 0.03162277660168379, ('language', 'time'): 0.03162277660168379, ('time', 'language'): 0.03162277660168379, ('language', 'macbook'): 0.03162277660168379, ('macbook', 'language'): 0.03162277660168379, ('language', 'ant'): 0.03162277660168379, ('ant', 'language'): 0.03162277660168379, ('language', 'english'): 0.03162277660168379, ('english', 'language'): 0.03162277660168379, ('language', 'physics'): 0.03162277660168379, ('physics', 'language'): 0.03162277660168379, ('language', 'cucumber'): 0.03162277660168379, ('cucumber', 'language'): 0.03162277660168379, ('language', 'dress'): 0.03162277660168379, ('dress', 'language'): 0.03162277660168379, ('language', 'shirt'): 0.03162277660168379, ('shirt', 'language'): 0.03162277660168379, ('language', 'autumn'): 0.03162277660168379, ('autumn', 'language'): 0.03162277660168379, ('language', 'vegetable'): 0.03162277660168379, ('vegetable', 'language'): 0.03162277660168379, ('language', 'full'): 0.03162277660168379, ('full', 'language'): 0.03162277660168379, ('language', 'chemistry'): 0.03162277660168379, ('chemistry', 'language'): 0.03162277660168379, ('language', 'physiscs'): 0.03162277660168379, ('physiscs', 'language'): 0.03162277660168379, ('language', 'java'): 0.03162277660168379, ('java', 'language'): 0.03162277660168379, ('language', 'student'): 0.03162277660168379, ('student', 'language'): 0.03162277660168379, ('language', 'giraffe'): 0.03162277660168379, ('giraffe', 'language'): 0.03162277660168379, ('language', 'subject'): 0.03162277660168379, ('subject', 'language'): 0.03162277660168379, ('language', 'liquid'): 0.03162277660168379, ('liquid', 'language'): 0.03162277660168379, ('language', 'car'): 0.03162277660168379, ('car', 'language'): 0.03162277660168379, ('language', 'tennis'): 0.03162277660168379, ('tennis', 'language'): 0.03162277660168379, ('language', 'laptop'): 0.03162277660168379, ('laptop', 'language'): 0.03162277660168379, ('language', 'herbivore'): 0.03162277660168379, ('herbivore', 'language'): 0.03162277660168379, ('language', 'potato'): 0.03162277660168379, ('potato', 'language'): 0.03162277660168379, ('language', 'toyota'): 0.03162277660168379, ('toyota', 'language'): 0.03162277660168379, ('language', 'insect'): 0.03162277660168379, ('insect', 'language'): 0.03162277660168379, ('language', 'zebra'): 0.03162277660168379, ('zebra', 'language'): 0.03162277660168379, ('language', 'part'): 0.03162277660168379, ('part', 'language'): 0.03162277660168379, ('language', 'state'): 0.03162277660168379, ('state', 'language'): 0.03162277660168379, ('language', 'chicken'): 0.03162277660168379, ('chicken', 'language'): 0.03162277660168379, ('language', 'solid'): 0.03162277660168379, ('solid', 'language'): 0.03162277660168379, ('language', '<UNK>'): 0.03162277660168379, ('<UNK>', 'language'): 0.03162277660168379, ('cocacola', 'cocacola'): 0.03162277660168379, ('cocacola', 'meat'): 0.03162277660168379, ('meat', 'cocacola'): 0.03162277660168379, ('cocacola', 'bee'): 0.03162277660168379, ('bee', 'cocacola'): 0.03162277660168379, ('cocacola', 'carnivore'): 0.03162277660168379, ('carnivore', 'cocacola'): 0.03162277660168379, ('cocacola', 'cricket'): 0.03162277660168379, ('cricket', 'cocacola'): 0.03162277660168379, ('cocacola', 'pepsi'): 0.03162277660168379, ('pepsi', 'cocacola'): 0.03162277660168379, ('cocacola', 'summer'): 0.03162277660168379, ('summer', 'cocacola'): 0.03162277660168379, ('cocacola', 'country'): 0.03162277660168379, ('country', 'cocacola'): 0.03162277660168379, ('cocacola', 'game'): 0.03162277660168379, ('game', 'cocacola'): 0.03162277660168379, ('cocacola', 'lion'): 0.03162277660168379, ('lion', 'cocacola'): 0.03162277660168379, ('cocacola', 'time'): 0.03162277660168379, ('time', 'cocacola'): 0.03162277660168379, ('cocacola', 'macbook'): 0.03162277660168379, ('macbook', 'cocacola'): 0.03162277660168379, ('cocacola', 'ant'): 0.03162277660168379, ('ant', 'cocacola'): 0.03162277660168379, ('cocacola', 'english'): 0.03162277660168379, ('english', 'cocacola'): 0.03162277660168379, ('cocacola', 'physics'): 0.03162277660168379, ('physics', 'cocacola'): 0.03162277660168379, ('cocacola', 'cucumber'): 0.03162277660168379, ('cucumber', 'cocacola'): 0.03162277660168379, ('cocacola', 'dress'): 0.03162277660168379, ('dress', 'cocacola'): 0.03162277660168379, ('cocacola', 'shirt'): 0.03162277660168379, ('shirt', 'cocacola'): 0.03162277660168379, ('cocacola', 'autumn'): 0.03162277660168379, ('autumn', 'cocacola'): 0.03162277660168379, ('cocacola', 'vegetable'): 0.03162277660168379, ('vegetable', 'cocacola'): 0.03162277660168379, ('cocacola', 'full'): 0.03162277660168379, ('full', 'cocacola'): 0.03162277660168379, ('cocacola', 'chemistry'): 0.03162277660168379, ('chemistry', 'cocacola'): 0.03162277660168379, ('cocacola', 'physiscs'): 0.03162277660168379, ('physiscs', 'cocacola'): 0.03162277660168379, ('cocacola', 'java'): 0.03162277660168379, ('java', 'cocacola'): 0.03162277660168379, ('cocacola', 'student'): 0.03162277660168379, ('student', 'cocacola'): 0.03162277660168379, ('cocacola', 'giraffe'): 0.03162277660168379, ('giraffe', 'cocacola'): 0.03162277660168379, ('cocacola', 'subject'): 0.03162277660168379, ('subject', 'cocacola'): 0.03162277660168379, ('cocacola', 'liquid'): 0.03162277660168379, ('liquid', 'cocacola'): 0.03162277660168379, ('cocacola', 'car'): 0.03162277660168379, ('car', 'cocacola'): 0.03162277660168379, ('cocacola', 'tennis'): 0.03162277660168379, ('tennis', 'cocacola'): 0.03162277660168379, ('cocacola', 'laptop'): 0.03162277660168379, ('laptop', 'cocacola'): 0.03162277660168379, ('cocacola', 'herbivore'): 0.03162277660168379, ('herbivore', 'cocacola'): 0.03162277660168379, ('cocacola', 'potato'): 0.03162277660168379, ('potato', 'cocacola'): 0.03162277660168379, ('cocacola', 'toyota'): 0.03162277660168379, ('toyota', 'cocacola'): 0.03162277660168379, ('cocacola', 'insect'): 0.03162277660168379, ('insect', 'cocacola'): 0.03162277660168379, ('cocacola', 'zebra'): 0.03162277660168379, ('zebra', 'cocacola'): 0.03162277660168379, ('cocacola', 'part'): 0.03162277660168379, ('part', 'cocacola'): 0.03162277660168379, ('cocacola', 'state'): 0.03162277660168379, ('state', 'cocacola'): 0.03162277660168379, ('cocacola', 'chicken'): 0.03162277660168379, ('chicken', 'cocacola'): 0.03162277660168379, ('cocacola', 'solid'): 0.03162277660168379, ('solid', 'cocacola'): 0.03162277660168379, ('cocacola', '<UNK>'): 0.03162277660168379, ('<UNK>', 'cocacola'): 0.03162277660168379, ('meat', 'meat'): 0.03162277660168379, ('meat', 'bee'): 0.03162277660168379, ('bee', 'meat'): 0.03162277660168379, ('meat', 'carnivore'): 0.03162277660168379, ('carnivore', 'meat'): 0.03162277660168379, ('meat', 'cricket'): 0.03162277660168379, ('cricket', 'meat'): 0.03162277660168379, ('meat', 'pepsi'): 0.03162277660168379, ('pepsi', 'meat'): 0.03162277660168379, ('meat', 'summer'): 0.03162277660168379, ('summer', 'meat'): 0.03162277660168379, ('meat', 'country'): 0.03162277660168379, ('country', 'meat'): 0.03162277660168379, ('meat', 'game'): 0.03162277660168379, ('game', 'meat'): 0.03162277660168379, ('meat', 'lion'): 0.03162277660168379, ('lion', 'meat'): 0.03162277660168379, ('meat', 'time'): 0.03162277660168379, ('time', 'meat'): 0.03162277660168379, ('meat', 'macbook'): 0.03162277660168379, ('macbook', 'meat'): 0.03162277660168379, ('meat', 'ant'): 0.03162277660168379, ('ant', 'meat'): 0.03162277660168379, ('meat', 'english'): 0.03162277660168379, ('english', 'meat'): 0.03162277660168379, ('meat', 'physics'): 0.03162277660168379, ('physics', 'meat'): 0.03162277660168379, ('meat', 'cucumber'): 0.03162277660168379, ('cucumber', 'meat'): 0.03162277660168379, ('meat', 'dress'): 0.03162277660168379, ('dress', 'meat'): 0.03162277660168379, ('meat', 'shirt'): 0.03162277660168379, ('shirt', 'meat'): 0.03162277660168379, ('meat', 'autumn'): 0.03162277660168379, ('autumn', 'meat'): 0.03162277660168379, ('meat', 'vegetable'): 0.03162277660168379, ('vegetable', 'meat'): 0.03162277660168379, ('meat', 'full'): 0.03162277660168379, ('full', 'meat'): 0.03162277660168379, ('meat', 'chemistry'): 0.03162277660168379, ('chemistry', 'meat'): 0.03162277660168379, ('meat', 'physiscs'): 0.03162277660168379, ('physiscs', 'meat'): 0.03162277660168379, ('meat', 'java'): 0.03162277660168379, ('java', 'meat'): 0.03162277660168379, ('meat', 'student'): 0.03162277660168379, ('student', 'meat'): 0.03162277660168379, ('meat', 'giraffe'): 0.03162277660168379, ('giraffe', 'meat'): 0.03162277660168379, ('meat', 'subject'): 0.03162277660168379, ('subject', 'meat'): 0.03162277660168379, ('meat', 'liquid'): 0.03162277660168379, ('liquid', 'meat'): 0.03162277660168379, ('meat', 'car'): 0.03162277660168379, ('car', 'meat'): 0.03162277660168379, ('meat', 'tennis'): 0.03162277660168379, ('tennis', 'meat'): 0.03162277660168379, ('meat', 'laptop'): 0.03162277660168379, ('laptop', 'meat'): 0.03162277660168379, ('meat', 'herbivore'): 0.03162277660168379, ('herbivore', 'meat'): 0.03162277660168379, ('meat', 'potato'): 0.03162277660168379, ('potato', 'meat'): 0.03162277660168379, ('meat', 'toyota'): 0.03162277660168379, ('toyota', 'meat'): 0.03162277660168379, ('meat', 'insect'): 0.03162277660168379, ('insect', 'meat'): 0.03162277660168379, ('meat', 'zebra'): 0.03162277660168379, ('zebra', 'meat'): 0.03162277660168379, ('meat', 'part'): 0.03162277660168379, ('part', 'meat'): 0.03162277660168379, ('meat', 'state'): 0.03162277660168379, ('state', 'meat'): 0.03162277660168379, ('meat', 'chicken'): 0.03162277660168379, ('chicken', 'meat'): 0.03162277660168379, ('meat', 'solid'): 0.03162277660168379, ('solid', 'meat'): 0.03162277660168379, ('meat', '<UNK>'): 0.03162277660168379, ('<UNK>', 'meat'): 0.03162277660168379, ('bee', 'bee'): 0.03162277660168379, ('bee', 'carnivore'): 0.03162277660168379, ('carnivore', 'bee'): 0.03162277660168379, ('bee', 'cricket'): 0.03162277660168379, ('cricket', 'bee'): 0.03162277660168379, ('bee', 'pepsi'): 0.03162277660168379, ('pepsi', 'bee'): 0.03162277660168379, ('bee', 'summer'): 0.03162277660168379, ('summer', 'bee'): 0.03162277660168379, ('bee', 'country'): 0.03162277660168379, ('country', 'bee'): 0.03162277660168379, ('bee', 'game'): 0.03162277660168379, ('game', 'bee'): 0.03162277660168379, ('bee', 'lion'): 0.03162277660168379, ('lion', 'bee'): 0.03162277660168379, ('bee', 'time'): 0.03162277660168379, ('time', 'bee'): 0.03162277660168379, ('bee', 'macbook'): 0.03162277660168379, ('macbook', 'bee'): 0.03162277660168379, ('bee', 'ant'): 0.03162277660168379, ('ant', 'bee'): 0.03162277660168379, ('bee', 'english'): 0.03162277660168379, ('english', 'bee'): 0.03162277660168379, ('bee', 'physics'): 0.03162277660168379, ('physics', 'bee'): 0.03162277660168379, ('bee', 'cucumber'): 0.03162277660168379, ('cucumber', 'bee'): 0.03162277660168379, ('bee', 'dress'): 0.03162277660168379, ('dress', 'bee'): 0.03162277660168379, ('bee', 'shirt'): 0.03162277660168379, ('shirt', 'bee'): 0.03162277660168379, ('bee', 'autumn'): 0.03162277660168379, ('autumn', 'bee'): 0.03162277660168379, ('bee', 'vegetable'): 0.03162277660168379, ('vegetable', 'bee'): 0.03162277660168379, ('bee', 'full'): 0.03162277660168379, ('full', 'bee'): 0.03162277660168379, ('bee', 'chemistry'): 0.03162277660168379, ('chemistry', 'bee'): 0.03162277660168379, ('bee', 'physiscs'): 0.03162277660168379, ('physiscs', 'bee'): 0.03162277660168379, ('bee', 'java'): 0.03162277660168379, ('java', 'bee'): 0.03162277660168379, ('bee', 'student'): 0.03162277660168379, ('student', 'bee'): 0.03162277660168379, ('bee', 'giraffe'): 0.03162277660168379, ('giraffe', 'bee'): 0.03162277660168379, ('bee', 'subject'): 0.03162277660168379, ('subject', 'bee'): 0.03162277660168379, ('bee', 'liquid'): 0.03162277660168379, ('liquid', 'bee'): 0.03162277660168379, ('bee', 'car'): 0.03162277660168379, ('car', 'bee'): 0.03162277660168379, ('bee', 'tennis'): 0.03162277660168379, ('tennis', 'bee'): 0.03162277660168379, ('bee', 'laptop'): 0.03162277660168379, ('laptop', 'bee'): 0.03162277660168379, ('bee', 'herbivore'): 0.03162277660168379, ('herbivore', 'bee'): 0.03162277660168379, ('bee', 'potato'): 0.03162277660168379, ('potato', 'bee'): 0.03162277660168379, ('bee', 'toyota'): 0.03162277660168379, ('toyota', 'bee'): 0.03162277660168379, ('bee', 'insect'): 0.03162277660168379, ('insect', 'bee'): 0.03162277660168379, ('bee', 'zebra'): 0.03162277660168379, ('zebra', 'bee'): 0.03162277660168379, ('bee', 'part'): 0.03162277660168379, ('part', 'bee'): 0.03162277660168379, ('bee', 'state'): 0.03162277660168379, ('state', 'bee'): 0.03162277660168379, ('bee', 'chicken'): 0.03162277660168379, ('chicken', 'bee'): 0.03162277660168379, ('bee', 'solid'): 0.03162277660168379, ('solid', 'bee'): 0.03162277660168379, ('bee', '<UNK>'): 0.03162277660168379, ('<UNK>', 'bee'): 0.03162277660168379, ('carnivore', 'carnivore'): 0.03162277660168379, ('carnivore', 'cricket'): 0.03162277660168379, ('cricket', 'carnivore'): 0.03162277660168379, ('carnivore', 'pepsi'): 0.03162277660168379, ('pepsi', 'carnivore'): 0.03162277660168379, ('carnivore', 'summer'): 0.03162277660168379, ('summer', 'carnivore'): 0.03162277660168379, ('carnivore', 'country'): 0.03162277660168379, ('country', 'carnivore'): 0.03162277660168379, ('carnivore', 'game'): 0.03162277660168379, ('game', 'carnivore'): 0.03162277660168379, ('carnivore', 'lion'): 0.03162277660168379, ('lion', 'carnivore'): 0.03162277660168379, ('carnivore', 'time'): 0.03162277660168379, ('time', 'carnivore'): 0.03162277660168379, ('carnivore', 'macbook'): 0.03162277660168379, ('macbook', 'carnivore'): 0.03162277660168379, ('carnivore', 'ant'): 0.03162277660168379, ('ant', 'carnivore'): 0.03162277660168379, ('carnivore', 'english'): 0.03162277660168379, ('english', 'carnivore'): 0.03162277660168379, ('carnivore', 'physics'): 0.03162277660168379, ('physics', 'carnivore'): 0.03162277660168379, ('carnivore', 'cucumber'): 0.03162277660168379, ('cucumber', 'carnivore'): 0.03162277660168379, ('carnivore', 'dress'): 0.03162277660168379, ('dress', 'carnivore'): 0.03162277660168379, ('carnivore', 'shirt'): 0.03162277660168379, ('shirt', 'carnivore'): 0.03162277660168379, ('carnivore', 'autumn'): 0.03162277660168379, ('autumn', 'carnivore'): 0.03162277660168379, ('carnivore', 'vegetable'): 0.03162277660168379, ('vegetable', 'carnivore'): 0.03162277660168379, ('carnivore', 'full'): 0.03162277660168379, ('full', 'carnivore'): 0.03162277660168379, ('carnivore', 'chemistry'): 0.03162277660168379, ('chemistry', 'carnivore'): 0.03162277660168379, ('carnivore', 'physiscs'): 0.03162277660168379, ('physiscs', 'carnivore'): 0.03162277660168379, ('carnivore', 'java'): 0.03162277660168379, ('java', 'carnivore'): 0.03162277660168379, ('carnivore', 'student'): 0.03162277660168379, ('student', 'carnivore'): 0.03162277660168379, ('carnivore', 'giraffe'): 0.03162277660168379, ('giraffe', 'carnivore'): 0.03162277660168379, ('carnivore', 'subject'): 0.03162277660168379, ('subject', 'carnivore'): 0.03162277660168379, ('carnivore', 'liquid'): 0.03162277660168379, ('liquid', 'carnivore'): 0.03162277660168379, ('carnivore', 'car'): 0.03162277660168379, ('car', 'carnivore'): 0.03162277660168379, ('carnivore', 'tennis'): 0.03162277660168379, ('tennis', 'carnivore'): 0.03162277660168379, ('carnivore', 'laptop'): 0.03162277660168379, ('laptop', 'carnivore'): 0.03162277660168379, ('carnivore', 'herbivore'): 0.03162277660168379, ('herbivore', 'carnivore'): 0.03162277660168379, ('carnivore', 'potato'): 0.03162277660168379, ('potato', 'carnivore'): 0.03162277660168379, ('carnivore', 'toyota'): 0.03162277660168379, ('toyota', 'carnivore'): 0.03162277660168379, ('carnivore', 'insect'): 0.03162277660168379, ('insect', 'carnivore'): 0.03162277660168379, ('carnivore', 'zebra'): 0.03162277660168379, ('zebra', 'carnivore'): 0.03162277660168379, ('carnivore', 'part'): 0.03162277660168379, ('part', 'carnivore'): 0.03162277660168379, ('carnivore', 'state'): 0.03162277660168379, ('state', 'carnivore'): 0.03162277660168379, ('carnivore', 'chicken'): 0.03162277660168379, ('chicken', 'carnivore'): 0.03162277660168379, ('carnivore', 'solid'): 0.03162277660168379, ('solid', 'carnivore'): 0.03162277660168379, ('carnivore', '<UNK>'): 0.03162277660168379, ('<UNK>', 'carnivore'): 0.03162277660168379, ('cricket', 'cricket'): 0.03162277660168379, ('cricket', 'pepsi'): 0.03162277660168379, ('pepsi', 'cricket'): 0.03162277660168379, ('cricket', 'summer'): 0.03162277660168379, ('summer', 'cricket'): 0.03162277660168379, ('cricket', 'country'): 0.03162277660168379, ('country', 'cricket'): 0.03162277660168379, ('cricket', 'game'): 0.03162277660168379, ('game', 'cricket'): 0.03162277660168379, ('cricket', 'lion'): 0.03162277660168379, ('lion', 'cricket'): 0.03162277660168379, ('cricket', 'time'): 0.03162277660168379, ('time', 'cricket'): 0.03162277660168379, ('cricket', 'macbook'): 0.03162277660168379, ('macbook', 'cricket'): 0.03162277660168379, ('cricket', 'ant'): 0.03162277660168379, ('ant', 'cricket'): 0.03162277660168379, ('cricket', 'english'): 0.03162277660168379, ('english', 'cricket'): 0.03162277660168379, ('cricket', 'physics'): 0.03162277660168379, ('physics', 'cricket'): 0.03162277660168379, ('cricket', 'cucumber'): 0.03162277660168379, ('cucumber', 'cricket'): 0.03162277660168379, ('cricket', 'dress'): 0.03162277660168379, ('dress', 'cricket'): 0.03162277660168379, ('cricket', 'shirt'): 0.03162277660168379, ('shirt', 'cricket'): 0.03162277660168379, ('cricket', 'autumn'): 0.03162277660168379, ('autumn', 'cricket'): 0.03162277660168379, ('cricket', 'vegetable'): 0.03162277660168379, ('vegetable', 'cricket'): 0.03162277660168379, ('cricket', 'full'): 0.03162277660168379, ('full', 'cricket'): 0.03162277660168379, ('cricket', 'chemistry'): 0.03162277660168379, ('chemistry', 'cricket'): 0.03162277660168379, ('cricket', 'physiscs'): 0.03162277660168379, ('physiscs', 'cricket'): 0.03162277660168379, ('cricket', 'java'): 0.03162277660168379, ('java', 'cricket'): 0.03162277660168379, ('cricket', 'student'): 0.03162277660168379, ('student', 'cricket'): 0.03162277660168379, ('cricket', 'giraffe'): 0.03162277660168379, ('giraffe', 'cricket'): 0.03162277660168379, ('cricket', 'subject'): 0.03162277660168379, ('subject', 'cricket'): 0.03162277660168379, ('cricket', 'liquid'): 0.03162277660168379, ('liquid', 'cricket'): 0.03162277660168379, ('cricket', 'car'): 0.03162277660168379, ('car', 'cricket'): 0.03162277660168379, ('cricket', 'tennis'): 0.03162277660168379, ('tennis', 'cricket'): 0.03162277660168379, ('cricket', 'laptop'): 0.03162277660168379, ('laptop', 'cricket'): 0.03162277660168379, ('cricket', 'herbivore'): 0.03162277660168379, ('herbivore', 'cricket'): 0.03162277660168379, ('cricket', 'potato'): 0.03162277660168379, ('potato', 'cricket'): 0.03162277660168379, ('cricket', 'toyota'): 0.03162277660168379, ('toyota', 'cricket'): 0.03162277660168379, ('cricket', 'insect'): 0.03162277660168379, ('insect', 'cricket'): 0.03162277660168379, ('cricket', 'zebra'): 0.03162277660168379, ('zebra', 'cricket'): 0.03162277660168379, ('cricket', 'part'): 0.03162277660168379, ('part', 'cricket'): 0.03162277660168379, ('cricket', 'state'): 0.03162277660168379, ('state', 'cricket'): 0.03162277660168379, ('cricket', 'chicken'): 0.03162277660168379, ('chicken', 'cricket'): 0.03162277660168379, ('cricket', 'solid'): 0.03162277660168379, ('solid', 'cricket'): 0.03162277660168379, ('cricket', '<UNK>'): 0.03162277660168379, ('<UNK>', 'cricket'): 0.03162277660168379, ('pepsi', 'pepsi'): 0.03162277660168379, ('pepsi', 'summer'): 0.03162277660168379, ('summer', 'pepsi'): 0.03162277660168379, ('pepsi', 'country'): 0.03162277660168379, ('country', 'pepsi'): 0.03162277660168379, ('pepsi', 'game'): 0.03162277660168379, ('game', 'pepsi'): 0.03162277660168379, ('pepsi', 'lion'): 0.03162277660168379, ('lion', 'pepsi'): 0.03162277660168379, ('pepsi', 'time'): 0.03162277660168379, ('time', 'pepsi'): 0.03162277660168379, ('pepsi', 'macbook'): 0.03162277660168379, ('macbook', 'pepsi'): 0.03162277660168379, ('pepsi', 'ant'): 0.03162277660168379, ('ant', 'pepsi'): 0.03162277660168379, ('pepsi', 'english'): 0.03162277660168379, ('english', 'pepsi'): 0.03162277660168379, ('pepsi', 'physics'): 0.03162277660168379, ('physics', 'pepsi'): 0.03162277660168379, ('pepsi', 'cucumber'): 0.03162277660168379, ('cucumber', 'pepsi'): 0.03162277660168379, ('pepsi', 'dress'): 0.03162277660168379, ('dress', 'pepsi'): 0.03162277660168379, ('pepsi', 'shirt'): 0.03162277660168379, ('shirt', 'pepsi'): 0.03162277660168379, ('pepsi', 'autumn'): 0.03162277660168379, ('autumn', 'pepsi'): 0.03162277660168379, ('pepsi', 'vegetable'): 0.03162277660168379, ('vegetable', 'pepsi'): 0.03162277660168379, ('pepsi', 'full'): 0.03162277660168379, ('full', 'pepsi'): 0.03162277660168379, ('pepsi', 'chemistry'): 0.03162277660168379, ('chemistry', 'pepsi'): 0.03162277660168379, ('pepsi', 'physiscs'): 0.03162277660168379, ('physiscs', 'pepsi'): 0.03162277660168379, ('pepsi', 'java'): 0.03162277660168379, ('java', 'pepsi'): 0.03162277660168379, ('pepsi', 'student'): 0.03162277660168379, ('student', 'pepsi'): 0.03162277660168379, ('pepsi', 'giraffe'): 0.03162277660168379, ('giraffe', 'pepsi'): 0.03162277660168379, ('pepsi', 'subject'): 0.03162277660168379, ('subject', 'pepsi'): 0.03162277660168379, ('pepsi', 'liquid'): 0.03162277660168379, ('liquid', 'pepsi'): 0.03162277660168379, ('pepsi', 'car'): 0.03162277660168379, ('car', 'pepsi'): 0.03162277660168379, ('pepsi', 'tennis'): 0.03162277660168379, ('tennis', 'pepsi'): 0.03162277660168379, ('pepsi', 'laptop'): 0.03162277660168379, ('laptop', 'pepsi'): 0.03162277660168379, ('pepsi', 'herbivore'): 0.03162277660168379, ('herbivore', 'pepsi'): 0.03162277660168379, ('pepsi', 'potato'): 0.03162277660168379, ('potato', 'pepsi'): 0.03162277660168379, ('pepsi', 'toyota'): 0.03162277660168379, ('toyota', 'pepsi'): 0.03162277660168379, ('pepsi', 'insect'): 0.03162277660168379, ('insect', 'pepsi'): 0.03162277660168379, ('pepsi', 'zebra'): 0.03162277660168379, ('zebra', 'pepsi'): 0.03162277660168379, ('pepsi', 'part'): 0.03162277660168379, ('part', 'pepsi'): 0.03162277660168379, ('pepsi', 'state'): 0.03162277660168379, ('state', 'pepsi'): 0.03162277660168379, ('pepsi', 'chicken'): 0.03162277660168379, ('chicken', 'pepsi'): 0.03162277660168379, ('pepsi', 'solid'): 0.03162277660168379, ('solid', 'pepsi'): 0.03162277660168379, ('pepsi', '<UNK>'): 0.03162277660168379, ('<UNK>', 'pepsi'): 0.03162277660168379, ('summer', 'summer'): 0.03162277660168379, ('summer', 'country'): 0.03162277660168379, ('country', 'summer'): 0.03162277660168379, ('summer', 'game'): 0.03162277660168379, ('game', 'summer'): 0.03162277660168379, ('summer', 'lion'): 0.03162277660168379, ('lion', 'summer'): 0.03162277660168379, ('summer', 'time'): 0.03162277660168379, ('time', 'summer'): 0.03162277660168379, ('summer', 'macbook'): 0.03162277660168379, ('macbook', 'summer'): 0.03162277660168379, ('summer', 'ant'): 0.03162277660168379, ('ant', 'summer'): 0.03162277660168379, ('summer', 'english'): 0.03162277660168379, ('english', 'summer'): 0.03162277660168379, ('summer', 'physics'): 0.03162277660168379, ('physics', 'summer'): 0.03162277660168379, ('summer', 'cucumber'): 0.03162277660168379, ('cucumber', 'summer'): 0.03162277660168379, ('summer', 'dress'): 0.03162277660168379, ('dress', 'summer'): 0.03162277660168379, ('summer', 'shirt'): 0.03162277660168379, ('shirt', 'summer'): 0.03162277660168379, ('summer', 'autumn'): 0.03162277660168379, ('autumn', 'summer'): 0.03162277660168379, ('summer', 'vegetable'): 0.03162277660168379, ('vegetable', 'summer'): 0.03162277660168379, ('summer', 'full'): 0.03162277660168379, ('full', 'summer'): 0.03162277660168379, ('summer', 'chemistry'): 0.03162277660168379, ('chemistry', 'summer'): 0.03162277660168379, ('summer', 'physiscs'): 0.03162277660168379, ('physiscs', 'summer'): 0.03162277660168379, ('summer', 'java'): 0.03162277660168379, ('java', 'summer'): 0.03162277660168379, ('summer', 'student'): 0.03162277660168379, ('student', 'summer'): 0.03162277660168379, ('summer', 'giraffe'): 0.03162277660168379, ('giraffe', 'summer'): 0.03162277660168379, ('summer', 'subject'): 0.03162277660168379, ('subject', 'summer'): 0.03162277660168379, ('summer', 'liquid'): 0.03162277660168379, ('liquid', 'summer'): 0.03162277660168379, ('summer', 'car'): 0.03162277660168379, ('car', 'summer'): 0.03162277660168379, ('summer', 'tennis'): 0.03162277660168379, ('tennis', 'summer'): 0.03162277660168379, ('summer', 'laptop'): 0.03162277660168379, ('laptop', 'summer'): 0.03162277660168379, ('summer', 'herbivore'): 0.03162277660168379, ('herbivore', 'summer'): 0.03162277660168379, ('summer', 'potato'): 0.03162277660168379, ('potato', 'summer'): 0.03162277660168379, ('summer', 'toyota'): 0.03162277660168379, ('toyota', 'summer'): 0.03162277660168379, ('summer', 'insect'): 0.03162277660168379, ('insect', 'summer'): 0.03162277660168379, ('summer', 'zebra'): 0.03162277660168379, ('zebra', 'summer'): 0.03162277660168379, ('summer', 'part'): 0.03162277660168379, ('part', 'summer'): 0.03162277660168379, ('summer', 'state'): 0.03162277660168379, ('state', 'summer'): 0.03162277660168379, ('summer', 'chicken'): 0.03162277660168379, ('chicken', 'summer'): 0.03162277660168379, ('summer', 'solid'): 0.03162277660168379, ('solid', 'summer'): 0.03162277660168379, ('summer', '<UNK>'): 0.03162277660168379, ('<UNK>', 'summer'): 0.03162277660168379, ('country', 'country'): 0.03162277660168379, ('country', 'game'): 0.03162277660168379, ('game', 'country'): 0.03162277660168379, ('country', 'lion'): 0.03162277660168379, ('lion', 'country'): 0.03162277660168379, ('country', 'time'): 0.03162277660168379, ('time', 'country'): 0.03162277660168379, ('country', 'macbook'): 0.03162277660168379, ('macbook', 'country'): 0.03162277660168379, ('country', 'ant'): 0.03162277660168379, ('ant', 'country'): 0.03162277660168379, ('country', 'english'): 0.03162277660168379, ('english', 'country'): 0.03162277660168379, ('country', 'physics'): 0.03162277660168379, ('physics', 'country'): 0.03162277660168379, ('country', 'cucumber'): 0.03162277660168379, ('cucumber', 'country'): 0.03162277660168379, ('country', 'dress'): 0.03162277660168379, ('dress', 'country'): 0.03162277660168379, ('country', 'shirt'): 0.03162277660168379, ('shirt', 'country'): 0.03162277660168379, ('country', 'autumn'): 0.03162277660168379, ('autumn', 'country'): 0.03162277660168379, ('country', 'vegetable'): 0.03162277660168379, ('vegetable', 'country'): 0.03162277660168379, ('country', 'full'): 0.03162277660168379, ('full', 'country'): 0.03162277660168379, ('country', 'chemistry'): 0.03162277660168379, ('chemistry', 'country'): 0.03162277660168379, ('country', 'physiscs'): 0.03162277660168379, ('physiscs', 'country'): 0.03162277660168379, ('country', 'java'): 0.03162277660168379, ('java', 'country'): 0.03162277660168379, ('country', 'student'): 0.03162277660168379, ('student', 'country'): 0.03162277660168379, ('country', 'giraffe'): 0.03162277660168379, ('giraffe', 'country'): 0.03162277660168379, ('country', 'subject'): 0.03162277660168379, ('subject', 'country'): 0.03162277660168379, ('country', 'liquid'): 0.03162277660168379, ('liquid', 'country'): 0.03162277660168379, ('country', 'car'): 0.03162277660168379, ('car', 'country'): 0.03162277660168379, ('country', 'tennis'): 0.03162277660168379, ('tennis', 'country'): 0.03162277660168379, ('country', 'laptop'): 0.03162277660168379, ('laptop', 'country'): 0.03162277660168379, ('country', 'herbivore'): 0.03162277660168379, ('herbivore', 'country'): 0.03162277660168379, ('country', 'potato'): 0.03162277660168379, ('potato', 'country'): 0.03162277660168379, ('country', 'toyota'): 0.03162277660168379, ('toyota', 'country'): 0.03162277660168379, ('country', 'insect'): 0.03162277660168379, ('insect', 'country'): 0.03162277660168379, ('country', 'zebra'): 0.03162277660168379, ('zebra', 'country'): 0.03162277660168379, ('country', 'part'): 0.03162277660168379, ('part', 'country'): 0.03162277660168379, ('country', 'state'): 0.03162277660168379, ('state', 'country'): 0.03162277660168379, ('country', 'chicken'): 0.03162277660168379, ('chicken', 'country'): 0.03162277660168379, ('country', 'solid'): 0.03162277660168379, ('solid', 'country'): 0.03162277660168379, ('country', '<UNK>'): 0.03162277660168379, ('<UNK>', 'country'): 0.03162277660168379, ('game', 'game'): 0.03162277660168379, ('game', 'lion'): 0.03162277660168379, ('lion', 'game'): 0.03162277660168379, ('game', 'time'): 0.03162277660168379, ('time', 'game'): 0.03162277660168379, ('game', 'macbook'): 0.03162277660168379, ('macbook', 'game'): 0.03162277660168379, ('game', 'ant'): 0.03162277660168379, ('ant', 'game'): 0.03162277660168379, ('game', 'english'): 0.03162277660168379, ('english', 'game'): 0.03162277660168379, ('game', 'physics'): 0.03162277660168379, ('physics', 'game'): 0.03162277660168379, ('game', 'cucumber'): 0.03162277660168379, ('cucumber', 'game'): 0.03162277660168379, ('game', 'dress'): 0.03162277660168379, ('dress', 'game'): 0.03162277660168379, ('game', 'shirt'): 0.03162277660168379, ('shirt', 'game'): 0.03162277660168379, ('game', 'autumn'): 0.03162277660168379, ('autumn', 'game'): 0.03162277660168379, ('game', 'vegetable'): 0.03162277660168379, ('vegetable', 'game'): 0.03162277660168379, ('game', 'full'): 0.03162277660168379, ('full', 'game'): 0.03162277660168379, ('game', 'chemistry'): 0.03162277660168379, ('chemistry', 'game'): 0.03162277660168379, ('game', 'physiscs'): 0.03162277660168379, ('physiscs', 'game'): 0.03162277660168379, ('game', 'java'): 0.03162277660168379, ('java', 'game'): 0.03162277660168379, ('game', 'student'): 0.03162277660168379, ('student', 'game'): 0.03162277660168379, ('game', 'giraffe'): 0.03162277660168379, ('giraffe', 'game'): 0.03162277660168379, ('game', 'subject'): 0.03162277660168379, ('subject', 'game'): 0.03162277660168379, ('game', 'liquid'): 0.03162277660168379, ('liquid', 'game'): 0.03162277660168379, ('game', 'car'): 0.03162277660168379, ('car', 'game'): 0.03162277660168379, ('game', 'tennis'): 0.03162277660168379, ('tennis', 'game'): 0.03162277660168379, ('game', 'laptop'): 0.03162277660168379, ('laptop', 'game'): 0.03162277660168379, ('game', 'herbivore'): 0.03162277660168379, ('herbivore', 'game'): 0.03162277660168379, ('game', 'potato'): 0.03162277660168379, ('potato', 'game'): 0.03162277660168379, ('game', 'toyota'): 0.03162277660168379, ('toyota', 'game'): 0.03162277660168379, ('game', 'insect'): 0.03162277660168379, ('insect', 'game'): 0.03162277660168379, ('game', 'zebra'): 0.03162277660168379, ('zebra', 'game'): 0.03162277660168379, ('game', 'part'): 0.03162277660168379, ('part', 'game'): 0.03162277660168379, ('game', 'state'): 0.03162277660168379, ('state', 'game'): 0.03162277660168379, ('game', 'chicken'): 0.03162277660168379, ('chicken', 'game'): 0.03162277660168379, ('game', 'solid'): 0.03162277660168379, ('solid', 'game'): 0.03162277660168379, ('game', '<UNK>'): 0.03162277660168379, ('<UNK>', 'game'): 0.03162277660168379, ('lion', 'lion'): 0.03162277660168379, ('lion', 'time'): 0.03162277660168379, ('time', 'lion'): 0.03162277660168379, ('lion', 'macbook'): 0.03162277660168379, ('macbook', 'lion'): 0.03162277660168379, ('lion', 'ant'): 0.03162277660168379, ('ant', 'lion'): 0.03162277660168379, ('lion', 'english'): 0.03162277660168379, ('english', 'lion'): 0.03162277660168379, ('lion', 'physics'): 0.03162277660168379, ('physics', 'lion'): 0.03162277660168379, ('lion', 'cucumber'): 0.03162277660168379, ('cucumber', 'lion'): 0.03162277660168379, ('lion', 'dress'): 0.03162277660168379, ('dress', 'lion'): 0.03162277660168379, ('lion', 'shirt'): 0.03162277660168379, ('shirt', 'lion'): 0.03162277660168379, ('lion', 'autumn'): 0.03162277660168379, ('autumn', 'lion'): 0.03162277660168379, ('lion', 'vegetable'): 0.03162277660168379, ('vegetable', 'lion'): 0.03162277660168379, ('lion', 'full'): 0.03162277660168379, ('full', 'lion'): 0.03162277660168379, ('lion', 'chemistry'): 0.03162277660168379, ('chemistry', 'lion'): 0.03162277660168379, ('lion', 'physiscs'): 0.03162277660168379, ('physiscs', 'lion'): 0.03162277660168379, ('lion', 'java'): 0.03162277660168379, ('java', 'lion'): 0.03162277660168379, ('lion', 'student'): 0.03162277660168379, ('student', 'lion'): 0.03162277660168379, ('lion', 'giraffe'): 0.03162277660168379, ('giraffe', 'lion'): 0.03162277660168379, ('lion', 'subject'): 0.03162277660168379, ('subject', 'lion'): 0.03162277660168379, ('lion', 'liquid'): 0.03162277660168379, ('liquid', 'lion'): 0.03162277660168379, ('lion', 'car'): 0.03162277660168379, ('car', 'lion'): 0.03162277660168379, ('lion', 'tennis'): 0.03162277660168379, ('tennis', 'lion'): 0.03162277660168379, ('lion', 'laptop'): 0.03162277660168379, ('laptop', 'lion'): 0.03162277660168379, ('lion', 'herbivore'): 0.03162277660168379, ('herbivore', 'lion'): 0.03162277660168379, ('lion', 'potato'): 0.03162277660168379, ('potato', 'lion'): 0.03162277660168379, ('lion', 'toyota'): 0.03162277660168379, ('toyota', 'lion'): 0.03162277660168379, ('lion', 'insect'): 0.03162277660168379, ('insect', 'lion'): 0.03162277660168379, ('lion', 'zebra'): 0.03162277660168379, ('zebra', 'lion'): 0.03162277660168379, ('lion', 'part'): 0.03162277660168379, ('part', 'lion'): 0.03162277660168379, ('lion', 'state'): 0.03162277660168379, ('state', 'lion'): 0.03162277660168379, ('lion', 'chicken'): 0.03162277660168379, ('chicken', 'lion'): 0.03162277660168379, ('lion', 'solid'): 0.03162277660168379, ('solid', 'lion'): 0.03162277660168379, ('lion', '<UNK>'): 0.03162277660168379, ('<UNK>', 'lion'): 0.03162277660168379, ('time', 'time'): 0.03162277660168379, ('time', 'macbook'): 0.03162277660168379, ('macbook', 'time'): 0.03162277660168379, ('time', 'ant'): 0.03162277660168379, ('ant', 'time'): 0.03162277660168379, ('time', 'english'): 0.03162277660168379, ('english', 'time'): 0.03162277660168379, ('time', 'physics'): 0.03162277660168379, ('physics', 'time'): 0.03162277660168379, ('time', 'cucumber'): 0.03162277660168379, ('cucumber', 'time'): 0.03162277660168379, ('time', 'dress'): 0.03162277660168379, ('dress', 'time'): 0.03162277660168379, ('time', 'shirt'): 0.03162277660168379, ('shirt', 'time'): 0.03162277660168379, ('time', 'autumn'): 0.03162277660168379, ('autumn', 'time'): 0.03162277660168379, ('time', 'vegetable'): 0.03162277660168379, ('vegetable', 'time'): 0.03162277660168379, ('time', 'full'): 0.03162277660168379, ('full', 'time'): 0.03162277660168379, ('time', 'chemistry'): 0.03162277660168379, ('chemistry', 'time'): 0.03162277660168379, ('time', 'physiscs'): 0.03162277660168379, ('physiscs', 'time'): 0.03162277660168379, ('time', 'java'): 0.03162277660168379, ('java', 'time'): 0.03162277660168379, ('time', 'student'): 0.03162277660168379, ('student', 'time'): 0.03162277660168379, ('time', 'giraffe'): 0.03162277660168379, ('giraffe', 'time'): 0.03162277660168379, ('time', 'subject'): 0.03162277660168379, ('subject', 'time'): 0.03162277660168379, ('time', 'liquid'): 0.03162277660168379, ('liquid', 'time'): 0.03162277660168379, ('time', 'car'): 0.03162277660168379, ('car', 'time'): 0.03162277660168379, ('time', 'tennis'): 0.03162277660168379, ('tennis', 'time'): 0.03162277660168379, ('time', 'laptop'): 0.03162277660168379, ('laptop', 'time'): 0.03162277660168379, ('time', 'herbivore'): 0.03162277660168379, ('herbivore', 'time'): 0.03162277660168379, ('time', 'potato'): 0.03162277660168379, ('potato', 'time'): 0.03162277660168379, ('time', 'toyota'): 0.03162277660168379, ('toyota', 'time'): 0.03162277660168379, ('time', 'insect'): 0.03162277660168379, ('insect', 'time'): 0.03162277660168379, ('time', 'zebra'): 0.03162277660168379, ('zebra', 'time'): 0.03162277660168379, ('time', 'part'): 0.03162277660168379, ('part', 'time'): 0.03162277660168379, ('time', 'state'): 0.03162277660168379, ('state', 'time'): 0.03162277660168379, ('time', 'chicken'): 0.03162277660168379, ('chicken', 'time'): 0.03162277660168379, ('time', 'solid'): 0.03162277660168379, ('solid', 'time'): 0.03162277660168379, ('time', '<UNK>'): 0.03162277660168379, ('<UNK>', 'time'): 0.03162277660168379, ('macbook', 'macbook'): 0.03162277660168379, ('macbook', 'ant'): 0.03162277660168379, ('ant', 'macbook'): 0.03162277660168379, ('macbook', 'english'): 0.03162277660168379, ('english', 'macbook'): 0.03162277660168379, ('macbook', 'physics'): 0.03162277660168379, ('physics', 'macbook'): 0.03162277660168379, ('macbook', 'cucumber'): 0.03162277660168379, ('cucumber', 'macbook'): 0.03162277660168379, ('macbook', 'dress'): 0.03162277660168379, ('dress', 'macbook'): 0.03162277660168379, ('macbook', 'shirt'): 0.03162277660168379, ('shirt', 'macbook'): 0.03162277660168379, ('macbook', 'autumn'): 0.03162277660168379, ('autumn', 'macbook'): 0.03162277660168379, ('macbook', 'vegetable'): 0.03162277660168379, ('vegetable', 'macbook'): 0.03162277660168379, ('macbook', 'full'): 0.03162277660168379, ('full', 'macbook'): 0.03162277660168379, ('macbook', 'chemistry'): 0.03162277660168379, ('chemistry', 'macbook'): 0.03162277660168379, ('macbook', 'physiscs'): 0.03162277660168379, ('physiscs', 'macbook'): 0.03162277660168379, ('macbook', 'java'): 0.03162277660168379, ('java', 'macbook'): 0.03162277660168379, ('macbook', 'student'): 0.03162277660168379, ('student', 'macbook'): 0.03162277660168379, ('macbook', 'giraffe'): 0.03162277660168379, ('giraffe', 'macbook'): 0.03162277660168379, ('macbook', 'subject'): 0.03162277660168379, ('subject', 'macbook'): 0.03162277660168379, ('macbook', 'liquid'): 0.03162277660168379, ('liquid', 'macbook'): 0.03162277660168379, ('macbook', 'car'): 0.03162277660168379, ('car', 'macbook'): 0.03162277660168379, ('macbook', 'tennis'): 0.03162277660168379, ('tennis', 'macbook'): 0.03162277660168379, ('macbook', 'laptop'): 0.03162277660168379, ('laptop', 'macbook'): 0.03162277660168379, ('macbook', 'herbivore'): 0.03162277660168379, ('herbivore', 'macbook'): 0.03162277660168379, ('macbook', 'potato'): 0.03162277660168379, ('potato', 'macbook'): 0.03162277660168379, ('macbook', 'toyota'): 0.03162277660168379, ('toyota', 'macbook'): 0.03162277660168379, ('macbook', 'insect'): 0.03162277660168379, ('insect', 'macbook'): 0.03162277660168379, ('macbook', 'zebra'): 0.03162277660168379, ('zebra', 'macbook'): 0.03162277660168379, ('macbook', 'part'): 0.03162277660168379, ('part', 'macbook'): 0.03162277660168379, ('macbook', 'state'): 0.03162277660168379, ('state', 'macbook'): 0.03162277660168379, ('macbook', 'chicken'): 0.03162277660168379, ('chicken', 'macbook'): 0.03162277660168379, ('macbook', 'solid'): 0.03162277660168379, ('solid', 'macbook'): 0.03162277660168379, ('macbook', '<UNK>'): 0.03162277660168379, ('<UNK>', 'macbook'): 0.03162277660168379, ('ant', 'ant'): 0.03162277660168379, ('ant', 'english'): 0.03162277660168379, ('english', 'ant'): 0.03162277660168379, ('ant', 'physics'): 0.03162277660168379, ('physics', 'ant'): 0.03162277660168379, ('ant', 'cucumber'): 0.03162277660168379, ('cucumber', 'ant'): 0.03162277660168379, ('ant', 'dress'): 0.03162277660168379, ('dress', 'ant'): 0.03162277660168379, ('ant', 'shirt'): 0.03162277660168379, ('shirt', 'ant'): 0.03162277660168379, ('ant', 'autumn'): 0.03162277660168379, ('autumn', 'ant'): 0.03162277660168379, ('ant', 'vegetable'): 0.03162277660168379, ('vegetable', 'ant'): 0.03162277660168379, ('ant', 'full'): 0.03162277660168379, ('full', 'ant'): 0.03162277660168379, ('ant', 'chemistry'): 0.03162277660168379, ('chemistry', 'ant'): 0.03162277660168379, ('ant', 'physiscs'): 0.03162277660168379, ('physiscs', 'ant'): 0.03162277660168379, ('ant', 'java'): 0.03162277660168379, ('java', 'ant'): 0.03162277660168379, ('ant', 'student'): 0.03162277660168379, ('student', 'ant'): 0.03162277660168379, ('ant', 'giraffe'): 0.03162277660168379, ('giraffe', 'ant'): 0.03162277660168379, ('ant', 'subject'): 0.03162277660168379, ('subject', 'ant'): 0.03162277660168379, ('ant', 'liquid'): 0.03162277660168379, ('liquid', 'ant'): 0.03162277660168379, ('ant', 'car'): 0.03162277660168379, ('car', 'ant'): 0.03162277660168379, ('ant', 'tennis'): 0.03162277660168379, ('tennis', 'ant'): 0.03162277660168379, ('ant', 'laptop'): 0.03162277660168379, ('laptop', 'ant'): 0.03162277660168379, ('ant', 'herbivore'): 0.03162277660168379, ('herbivore', 'ant'): 0.03162277660168379, ('ant', 'potato'): 0.03162277660168379, ('potato', 'ant'): 0.03162277660168379, ('ant', 'toyota'): 0.03162277660168379, ('toyota', 'ant'): 0.03162277660168379, ('ant', 'insect'): 0.03162277660168379, ('insect', 'ant'): 0.03162277660168379, ('ant', 'zebra'): 0.03162277660168379, ('zebra', 'ant'): 0.03162277660168379, ('ant', 'part'): 0.03162277660168379, ('part', 'ant'): 0.03162277660168379, ('ant', 'state'): 0.03162277660168379, ('state', 'ant'): 0.03162277660168379, ('ant', 'chicken'): 0.03162277660168379, ('chicken', 'ant'): 0.03162277660168379, ('ant', 'solid'): 0.03162277660168379, ('solid', 'ant'): 0.03162277660168379, ('ant', '<UNK>'): 0.03162277660168379, ('<UNK>', 'ant'): 0.03162277660168379, ('english', 'english'): 0.03162277660168379, ('english', 'physics'): 0.03162277660168379, ('physics', 'english'): 0.03162277660168379, ('english', 'cucumber'): 0.03162277660168379, ('cucumber', 'english'): 0.03162277660168379, ('english', 'dress'): 0.03162277660168379, ('dress', 'english'): 0.03162277660168379, ('english', 'shirt'): 0.03162277660168379, ('shirt', 'english'): 0.03162277660168379, ('english', 'autumn'): 0.03162277660168379, ('autumn', 'english'): 0.03162277660168379, ('english', 'vegetable'): 0.03162277660168379, ('vegetable', 'english'): 0.03162277660168379, ('english', 'full'): 0.03162277660168379, ('full', 'english'): 0.03162277660168379, ('english', 'chemistry'): 0.03162277660168379, ('chemistry', 'english'): 0.03162277660168379, ('english', 'physiscs'): 0.03162277660168379, ('physiscs', 'english'): 0.03162277660168379, ('english', 'java'): 0.03162277660168379, ('java', 'english'): 0.03162277660168379, ('english', 'student'): 0.03162277660168379, ('student', 'english'): 0.03162277660168379, ('english', 'giraffe'): 0.03162277660168379, ('giraffe', 'english'): 0.03162277660168379, ('english', 'subject'): 0.03162277660168379, ('subject', 'english'): 0.03162277660168379, ('english', 'liquid'): 0.03162277660168379, ('liquid', 'english'): 0.03162277660168379, ('english', 'car'): 0.03162277660168379, ('car', 'english'): 0.03162277660168379, ('english', 'tennis'): 0.03162277660168379, ('tennis', 'english'): 0.03162277660168379, ('english', 'laptop'): 0.03162277660168379, ('laptop', 'english'): 0.03162277660168379, ('english', 'herbivore'): 0.03162277660168379, ('herbivore', 'english'): 0.03162277660168379, ('english', 'potato'): 0.03162277660168379, ('potato', 'english'): 0.03162277660168379, ('english', 'toyota'): 0.03162277660168379, ('toyota', 'english'): 0.03162277660168379, ('english', 'insect'): 0.03162277660168379, ('insect', 'english'): 0.03162277660168379, ('english', 'zebra'): 0.03162277660168379, ('zebra', 'english'): 0.03162277660168379, ('english', 'part'): 0.03162277660168379, ('part', 'english'): 0.03162277660168379, ('english', 'state'): 0.03162277660168379, ('state', 'english'): 0.03162277660168379, ('english', 'chicken'): 0.03162277660168379, ('chicken', 'english'): 0.03162277660168379, ('english', 'solid'): 0.03162277660168379, ('solid', 'english'): 0.03162277660168379, ('english', '<UNK>'): 0.03162277660168379, ('<UNK>', 'english'): 0.03162277660168379, ('physics', 'physics'): 0.03162277660168379, ('physics', 'cucumber'): 0.03162277660168379, ('cucumber', 'physics'): 0.03162277660168379, ('physics', 'dress'): 0.03162277660168379, ('dress', 'physics'): 0.03162277660168379, ('physics', 'shirt'): 0.03162277660168379, ('shirt', 'physics'): 0.03162277660168379, ('physics', 'autumn'): 0.03162277660168379, ('autumn', 'physics'): 0.03162277660168379, ('physics', 'vegetable'): 0.03162277660168379, ('vegetable', 'physics'): 0.03162277660168379, ('physics', 'full'): 0.03162277660168379, ('full', 'physics'): 0.03162277660168379, ('physics', 'chemistry'): 0.03162277660168379, ('chemistry', 'physics'): 0.03162277660168379, ('physics', 'physiscs'): 0.03162277660168379, ('physiscs', 'physics'): 0.03162277660168379, ('physics', 'java'): 0.03162277660168379, ('java', 'physics'): 0.03162277660168379, ('physics', 'student'): 0.03162277660168379, ('student', 'physics'): 0.03162277660168379, ('physics', 'giraffe'): 0.03162277660168379, ('giraffe', 'physics'): 0.03162277660168379, ('physics', 'subject'): 0.03162277660168379, ('subject', 'physics'): 0.03162277660168379, ('physics', 'liquid'): 0.03162277660168379, ('liquid', 'physics'): 0.03162277660168379, ('physics', 'car'): 0.03162277660168379, ('car', 'physics'): 0.03162277660168379, ('physics', 'tennis'): 0.03162277660168379, ('tennis', 'physics'): 0.03162277660168379, ('physics', 'laptop'): 0.03162277660168379, ('laptop', 'physics'): 0.03162277660168379, ('physics', 'herbivore'): 0.03162277660168379, ('herbivore', 'physics'): 0.03162277660168379, ('physics', 'potato'): 0.03162277660168379, ('potato', 'physics'): 0.03162277660168379, ('physics', 'toyota'): 0.03162277660168379, ('toyota', 'physics'): 0.03162277660168379, ('physics', 'insect'): 0.03162277660168379, ('insect', 'physics'): 0.03162277660168379, ('physics', 'zebra'): 0.03162277660168379, ('zebra', 'physics'): 0.03162277660168379, ('physics', 'part'): 0.03162277660168379, ('part', 'physics'): 0.03162277660168379, ('physics', 'state'): 0.03162277660168379, ('state', 'physics'): 0.03162277660168379, ('physics', 'chicken'): 0.03162277660168379, ('chicken', 'physics'): 0.03162277660168379, ('physics', 'solid'): 0.03162277660168379, ('solid', 'physics'): 0.03162277660168379, ('physics', '<UNK>'): 0.03162277660168379, ('<UNK>', 'physics'): 0.03162277660168379, ('cucumber', 'cucumber'): 0.03162277660168379, ('cucumber', 'dress'): 0.03162277660168379, ('dress', 'cucumber'): 0.03162277660168379, ('cucumber', 'shirt'): 0.03162277660168379, ('shirt', 'cucumber'): 0.03162277660168379, ('cucumber', 'autumn'): 0.03162277660168379, ('autumn', 'cucumber'): 0.03162277660168379, ('cucumber', 'vegetable'): 0.03162277660168379, ('vegetable', 'cucumber'): 0.03162277660168379, ('cucumber', 'full'): 0.03162277660168379, ('full', 'cucumber'): 0.03162277660168379, ('cucumber', 'chemistry'): 0.03162277660168379, ('chemistry', 'cucumber'): 0.03162277660168379, ('cucumber', 'physiscs'): 0.03162277660168379, ('physiscs', 'cucumber'): 0.03162277660168379, ('cucumber', 'java'): 0.03162277660168379, ('java', 'cucumber'): 0.03162277660168379, ('cucumber', 'student'): 0.03162277660168379, ('student', 'cucumber'): 0.03162277660168379, ('cucumber', 'giraffe'): 0.03162277660168379, ('giraffe', 'cucumber'): 0.03162277660168379, ('cucumber', 'subject'): 0.03162277660168379, ('subject', 'cucumber'): 0.03162277660168379, ('cucumber', 'liquid'): 0.03162277660168379, ('liquid', 'cucumber'): 0.03162277660168379, ('cucumber', 'car'): 0.03162277660168379, ('car', 'cucumber'): 0.03162277660168379, ('cucumber', 'tennis'): 0.03162277660168379, ('tennis', 'cucumber'): 0.03162277660168379, ('cucumber', 'laptop'): 0.03162277660168379, ('laptop', 'cucumber'): 0.03162277660168379, ('cucumber', 'herbivore'): 0.03162277660168379, ('herbivore', 'cucumber'): 0.03162277660168379, ('cucumber', 'potato'): 0.03162277660168379, ('potato', 'cucumber'): 0.03162277660168379, ('cucumber', 'toyota'): 0.03162277660168379, ('toyota', 'cucumber'): 0.03162277660168379, ('cucumber', 'insect'): 0.03162277660168379, ('insect', 'cucumber'): 0.03162277660168379, ('cucumber', 'zebra'): 0.03162277660168379, ('zebra', 'cucumber'): 0.03162277660168379, ('cucumber', 'part'): 0.03162277660168379, ('part', 'cucumber'): 0.03162277660168379, ('cucumber', 'state'): 0.03162277660168379, ('state', 'cucumber'): 0.03162277660168379, ('cucumber', 'chicken'): 0.03162277660168379, ('chicken', 'cucumber'): 0.03162277660168379, ('cucumber', 'solid'): 0.03162277660168379, ('solid', 'cucumber'): 0.03162277660168379, ('cucumber', '<UNK>'): 0.03162277660168379, ('<UNK>', 'cucumber'): 0.03162277660168379, ('dress', 'dress'): 0.03162277660168379, ('dress', 'shirt'): 0.03162277660168379, ('shirt', 'dress'): 0.03162277660168379, ('dress', 'autumn'): 0.03162277660168379, ('autumn', 'dress'): 0.03162277660168379, ('dress', 'vegetable'): 0.03162277660168379, ('vegetable', 'dress'): 0.03162277660168379, ('dress', 'full'): 0.03162277660168379, ('full', 'dress'): 0.03162277660168379, ('dress', 'chemistry'): 0.03162277660168379, ('chemistry', 'dress'): 0.03162277660168379, ('dress', 'physiscs'): 0.03162277660168379, ('physiscs', 'dress'): 0.03162277660168379, ('dress', 'java'): 0.03162277660168379, ('java', 'dress'): 0.03162277660168379, ('dress', 'student'): 0.03162277660168379, ('student', 'dress'): 0.03162277660168379, ('dress', 'giraffe'): 0.03162277660168379, ('giraffe', 'dress'): 0.03162277660168379, ('dress', 'subject'): 0.03162277660168379, ('subject', 'dress'): 0.03162277660168379, ('dress', 'liquid'): 0.03162277660168379, ('liquid', 'dress'): 0.03162277660168379, ('dress', 'car'): 0.03162277660168379, ('car', 'dress'): 0.03162277660168379, ('dress', 'tennis'): 0.03162277660168379, ('tennis', 'dress'): 0.03162277660168379, ('dress', 'laptop'): 0.03162277660168379, ('laptop', 'dress'): 0.03162277660168379, ('dress', 'herbivore'): 0.03162277660168379, ('herbivore', 'dress'): 0.03162277660168379, ('dress', 'potato'): 0.03162277660168379, ('potato', 'dress'): 0.03162277660168379, ('dress', 'toyota'): 0.03162277660168379, ('toyota', 'dress'): 0.03162277660168379, ('dress', 'insect'): 0.03162277660168379, ('insect', 'dress'): 0.03162277660168379, ('dress', 'zebra'): 0.03162277660168379, ('zebra', 'dress'): 0.03162277660168379, ('dress', 'part'): 0.03162277660168379, ('part', 'dress'): 0.03162277660168379, ('dress', 'state'): 0.03162277660168379, ('state', 'dress'): 0.03162277660168379, ('dress', 'chicken'): 0.03162277660168379, ('chicken', 'dress'): 0.03162277660168379, ('dress', 'solid'): 0.03162277660168379, ('solid', 'dress'): 0.03162277660168379, ('dress', '<UNK>'): 0.03162277660168379, ('<UNK>', 'dress'): 0.03162277660168379, ('shirt', 'shirt'): 0.03162277660168379, ('shirt', 'autumn'): 0.03162277660168379, ('autumn', 'shirt'): 0.03162277660168379, ('shirt', 'vegetable'): 0.03162277660168379, ('vegetable', 'shirt'): 0.03162277660168379, ('shirt', 'full'): 0.03162277660168379, ('full', 'shirt'): 0.03162277660168379, ('shirt', 'chemistry'): 0.03162277660168379, ('chemistry', 'shirt'): 0.03162277660168379, ('shirt', 'physiscs'): 0.03162277660168379, ('physiscs', 'shirt'): 0.03162277660168379, ('shirt', 'java'): 0.03162277660168379, ('java', 'shirt'): 0.03162277660168379, ('shirt', 'student'): 0.03162277660168379, ('student', 'shirt'): 0.03162277660168379, ('shirt', 'giraffe'): 0.03162277660168379, ('giraffe', 'shirt'): 0.03162277660168379, ('shirt', 'subject'): 0.03162277660168379, ('subject', 'shirt'): 0.03162277660168379, ('shirt', 'liquid'): 0.03162277660168379, ('liquid', 'shirt'): 0.03162277660168379, ('shirt', 'car'): 0.03162277660168379, ('car', 'shirt'): 0.03162277660168379, ('shirt', 'tennis'): 0.03162277660168379, ('tennis', 'shirt'): 0.03162277660168379, ('shirt', 'laptop'): 0.03162277660168379, ('laptop', 'shirt'): 0.03162277660168379, ('shirt', 'herbivore'): 0.03162277660168379, ('herbivore', 'shirt'): 0.03162277660168379, ('shirt', 'potato'): 0.03162277660168379, ('potato', 'shirt'): 0.03162277660168379, ('shirt', 'toyota'): 0.03162277660168379, ('toyota', 'shirt'): 0.03162277660168379, ('shirt', 'insect'): 0.03162277660168379, ('insect', 'shirt'): 0.03162277660168379, ('shirt', 'zebra'): 0.03162277660168379, ('zebra', 'shirt'): 0.03162277660168379, ('shirt', 'part'): 0.03162277660168379, ('part', 'shirt'): 0.03162277660168379, ('shirt', 'state'): 0.03162277660168379, ('state', 'shirt'): 0.03162277660168379, ('shirt', 'chicken'): 0.03162277660168379, ('chicken', 'shirt'): 0.03162277660168379, ('shirt', 'solid'): 0.03162277660168379, ('solid', 'shirt'): 0.03162277660168379, ('shirt', '<UNK>'): 0.03162277660168379, ('<UNK>', 'shirt'): 0.03162277660168379, ('autumn', 'autumn'): 0.03162277660168379, ('autumn', 'vegetable'): 0.03162277660168379, ('vegetable', 'autumn'): 0.03162277660168379, ('autumn', 'full'): 0.03162277660168379, ('full', 'autumn'): 0.03162277660168379, ('autumn', 'chemistry'): 0.03162277660168379, ('chemistry', 'autumn'): 0.03162277660168379, ('autumn', 'physiscs'): 0.03162277660168379, ('physiscs', 'autumn'): 0.03162277660168379, ('autumn', 'java'): 0.03162277660168379, ('java', 'autumn'): 0.03162277660168379, ('autumn', 'student'): 0.03162277660168379, ('student', 'autumn'): 0.03162277660168379, ('autumn', 'giraffe'): 0.03162277660168379, ('giraffe', 'autumn'): 0.03162277660168379, ('autumn', 'subject'): 0.03162277660168379, ('subject', 'autumn'): 0.03162277660168379, ('autumn', 'liquid'): 0.03162277660168379, ('liquid', 'autumn'): 0.03162277660168379, ('autumn', 'car'): 0.03162277660168379, ('car', 'autumn'): 0.03162277660168379, ('autumn', 'tennis'): 0.03162277660168379, ('tennis', 'autumn'): 0.03162277660168379, ('autumn', 'laptop'): 0.03162277660168379, ('laptop', 'autumn'): 0.03162277660168379, ('autumn', 'herbivore'): 0.03162277660168379, ('herbivore', 'autumn'): 0.03162277660168379, ('autumn', 'potato'): 0.03162277660168379, ('potato', 'autumn'): 0.03162277660168379, ('autumn', 'toyota'): 0.03162277660168379, ('toyota', 'autumn'): 0.03162277660168379, ('autumn', 'insect'): 0.03162277660168379, ('insect', 'autumn'): 0.03162277660168379, ('autumn', 'zebra'): 0.03162277660168379, ('zebra', 'autumn'): 0.03162277660168379, ('autumn', 'part'): 0.03162277660168379, ('part', 'autumn'): 0.03162277660168379, ('autumn', 'state'): 0.03162277660168379, ('state', 'autumn'): 0.03162277660168379, ('autumn', 'chicken'): 0.03162277660168379, ('chicken', 'autumn'): 0.03162277660168379, ('autumn', 'solid'): 0.03162277660168379, ('solid', 'autumn'): 0.03162277660168379, ('autumn', '<UNK>'): 0.03162277660168379, ('<UNK>', 'autumn'): 0.03162277660168379, ('vegetable', 'vegetable'): 0.03162277660168379, ('vegetable', 'full'): 0.03162277660168379, ('full', 'vegetable'): 0.03162277660168379, ('vegetable', 'chemistry'): 0.03162277660168379, ('chemistry', 'vegetable'): 0.03162277660168379, ('vegetable', 'physiscs'): 0.03162277660168379, ('physiscs', 'vegetable'): 0.03162277660168379, ('vegetable', 'java'): 0.03162277660168379, ('java', 'vegetable'): 0.03162277660168379, ('vegetable', 'student'): 0.03162277660168379, ('student', 'vegetable'): 0.03162277660168379, ('vegetable', 'giraffe'): 0.03162277660168379, ('giraffe', 'vegetable'): 0.03162277660168379, ('vegetable', 'subject'): 0.03162277660168379, ('subject', 'vegetable'): 0.03162277660168379, ('vegetable', 'liquid'): 0.03162277660168379, ('liquid', 'vegetable'): 0.03162277660168379, ('vegetable', 'car'): 0.03162277660168379, ('car', 'vegetable'): 0.03162277660168379, ('vegetable', 'tennis'): 0.03162277660168379, ('tennis', 'vegetable'): 0.03162277660168379, ('vegetable', 'laptop'): 0.03162277660168379, ('laptop', 'vegetable'): 0.03162277660168379, ('vegetable', 'herbivore'): 0.03162277660168379, ('herbivore', 'vegetable'): 0.03162277660168379, ('vegetable', 'potato'): 0.03162277660168379, ('potato', 'vegetable'): 0.03162277660168379, ('vegetable', 'toyota'): 0.03162277660168379, ('toyota', 'vegetable'): 0.03162277660168379, ('vegetable', 'insect'): 0.03162277660168379, ('insect', 'vegetable'): 0.03162277660168379, ('vegetable', 'zebra'): 0.03162277660168379, ('zebra', 'vegetable'): 0.03162277660168379, ('vegetable', 'part'): 0.03162277660168379, ('part', 'vegetable'): 0.03162277660168379, ('vegetable', 'state'): 0.03162277660168379, ('state', 'vegetable'): 0.03162277660168379, ('vegetable', 'chicken'): 0.03162277660168379, ('chicken', 'vegetable'): 0.03162277660168379, ('vegetable', 'solid'): 0.03162277660168379, ('solid', 'vegetable'): 0.03162277660168379, ('vegetable', '<UNK>'): 0.03162277660168379, ('<UNK>', 'vegetable'): 0.03162277660168379, ('full', 'full'): 0.03162277660168379, ('full', 'chemistry'): 0.03162277660168379, ('chemistry', 'full'): 0.03162277660168379, ('full', 'physiscs'): 0.03162277660168379, ('physiscs', 'full'): 0.03162277660168379, ('full', 'java'): 0.03162277660168379, ('java', 'full'): 0.03162277660168379, ('full', 'student'): 0.053182958969449884, ('student', 'full'): 0.053182958969449884, ('full', 'giraffe'): 0.03162277660168379, ('giraffe', 'full'): 0.03162277660168379, ('full', 'subject'): 0.03162277660168379, ('subject', 'full'): 0.03162277660168379, ('full', 'liquid'): 0.03162277660168379, ('liquid', 'full'): 0.03162277660168379, ('full', 'car'): 0.03162277660168379, ('car', 'full'): 0.03162277660168379, ('full', 'tennis'): 0.03162277660168379, ('tennis', 'full'): 0.03162277660168379, ('full', 'laptop'): 0.03162277660168379, ('laptop', 'full'): 0.03162277660168379, ('full', 'herbivore'): 0.03162277660168379, ('herbivore', 'full'): 0.03162277660168379, ('full', 'potato'): 0.03162277660168379, ('potato', 'full'): 0.03162277660168379, ('full', 'toyota'): 0.03162277660168379, ('toyota', 'full'): 0.03162277660168379, ('full', 'insect'): 0.03162277660168379, ('insect', 'full'): 0.03162277660168379, ('full', 'zebra'): 0.03162277660168379, ('zebra', 'full'): 0.03162277660168379, ('full', 'part'): 0.053182958969449884, ('part', 'full'): 0.053182958969449884, ('full', 'state'): 0.03162277660168379, ('state', 'full'): 0.03162277660168379, ('full', 'chicken'): 0.03162277660168379, ('chicken', 'full'): 0.03162277660168379, ('full', 'solid'): 0.03162277660168379, ('solid', 'full'): 0.03162277660168379, ('full', '<UNK>'): 0.03162277660168379, ('<UNK>', 'full'): 0.03162277660168379, ('chemistry', 'chemistry'): 0.03162277660168379, ('chemistry', 'physiscs'): 0.03162277660168379, ('physiscs', 'chemistry'): 0.03162277660168379, ('chemistry', 'java'): 0.03162277660168379, ('java', 'chemistry'): 0.03162277660168379, ('chemistry', 'student'): 0.03162277660168379, ('student', 'chemistry'): 0.03162277660168379, ('chemistry', 'giraffe'): 0.03162277660168379, ('giraffe', 'chemistry'): 0.03162277660168379, ('chemistry', 'subject'): 0.03162277660168379, ('subject', 'chemistry'): 0.03162277660168379, ('chemistry', 'liquid'): 0.03162277660168379, ('liquid', 'chemistry'): 0.03162277660168379, ('chemistry', 'car'): 0.03162277660168379, ('car', 'chemistry'): 0.03162277660168379, ('chemistry', 'tennis'): 0.03162277660168379, ('tennis', 'chemistry'): 0.03162277660168379, ('chemistry', 'laptop'): 0.03162277660168379, ('laptop', 'chemistry'): 0.03162277660168379, ('chemistry', 'herbivore'): 0.03162277660168379, ('herbivore', 'chemistry'): 0.03162277660168379, ('chemistry', 'potato'): 0.03162277660168379, ('potato', 'chemistry'): 0.03162277660168379, ('chemistry', 'toyota'): 0.03162277660168379, ('toyota', 'chemistry'): 0.03162277660168379, ('chemistry', 'insect'): 0.03162277660168379, ('insect', 'chemistry'): 0.03162277660168379, ('chemistry', 'zebra'): 0.03162277660168379, ('zebra', 'chemistry'): 0.03162277660168379, ('chemistry', 'part'): 0.03162277660168379, ('part', 'chemistry'): 0.03162277660168379, ('chemistry', 'state'): 0.03162277660168379, ('state', 'chemistry'): 0.03162277660168379, ('chemistry', 'chicken'): 0.03162277660168379, ('chicken', 'chemistry'): 0.03162277660168379, ('chemistry', 'solid'): 0.03162277660168379, ('solid', 'chemistry'): 0.03162277660168379, ('chemistry', '<UNK>'): 0.03162277660168379, ('<UNK>', 'chemistry'): 0.03162277660168379, ('physiscs', 'physiscs'): 0.03162277660168379, ('physiscs', 'java'): 0.03162277660168379, ('java', 'physiscs'): 0.03162277660168379, ('physiscs', 'student'): 0.03162277660168379, ('student', 'physiscs'): 0.03162277660168379, ('physiscs', 'giraffe'): 0.03162277660168379, ('giraffe', 'physiscs'): 0.03162277660168379, ('physiscs', 'subject'): 0.03162277660168379, ('subject', 'physiscs'): 0.03162277660168379, ('physiscs', 'liquid'): 0.03162277660168379, ('liquid', 'physiscs'): 0.03162277660168379, ('physiscs', 'car'): 0.03162277660168379, ('car', 'physiscs'): 0.03162277660168379, ('physiscs', 'tennis'): 0.03162277660168379, ('tennis', 'physiscs'): 0.03162277660168379, ('physiscs', 'laptop'): 0.03162277660168379, ('laptop', 'physiscs'): 0.03162277660168379, ('physiscs', 'herbivore'): 0.03162277660168379, ('herbivore', 'physiscs'): 0.03162277660168379, ('physiscs', 'potato'): 0.03162277660168379, ('potato', 'physiscs'): 0.03162277660168379, ('physiscs', 'toyota'): 0.03162277660168379, ('toyota', 'physiscs'): 0.03162277660168379, ('physiscs', 'insect'): 0.03162277660168379, ('insect', 'physiscs'): 0.03162277660168379, ('physiscs', 'zebra'): 0.03162277660168379, ('zebra', 'physiscs'): 0.03162277660168379, ('physiscs', 'part'): 0.03162277660168379, ('part', 'physiscs'): 0.03162277660168379, ('physiscs', 'state'): 0.03162277660168379, ('state', 'physiscs'): 0.03162277660168379, ('physiscs', 'chicken'): 0.03162277660168379, ('chicken', 'physiscs'): 0.03162277660168379, ('physiscs', 'solid'): 0.03162277660168379, ('solid', 'physiscs'): 0.03162277660168379, ('physiscs', '<UNK>'): 0.03162277660168379, ('<UNK>', 'physiscs'): 0.03162277660168379, ('java', 'java'): 0.03162277660168379, ('java', 'student'): 0.03162277660168379, ('student', 'java'): 0.03162277660168379, ('java', 'giraffe'): 0.03162277660168379, ('giraffe', 'java'): 0.03162277660168379, ('java', 'subject'): 0.03162277660168379, ('subject', 'java'): 0.03162277660168379, ('java', 'liquid'): 0.03162277660168379, ('liquid', 'java'): 0.03162277660168379, ('java', 'car'): 0.03162277660168379, ('car', 'java'): 0.03162277660168379, ('java', 'tennis'): 0.03162277660168379, ('tennis', 'java'): 0.03162277660168379, ('java', 'laptop'): 0.03162277660168379, ('laptop', 'java'): 0.03162277660168379, ('java', 'herbivore'): 0.03162277660168379, ('herbivore', 'java'): 0.03162277660168379, ('java', 'potato'): 0.03162277660168379, ('potato', 'java'): 0.03162277660168379, ('java', 'toyota'): 0.03162277660168379, ('toyota', 'java'): 0.03162277660168379, ('java', 'insect'): 0.03162277660168379, ('insect', 'java'): 0.03162277660168379, ('java', 'zebra'): 0.03162277660168379, ('zebra', 'java'): 0.03162277660168379, ('java', 'part'): 0.03162277660168379, ('part', 'java'): 0.03162277660168379, ('java', 'state'): 0.03162277660168379, ('state', 'java'): 0.03162277660168379, ('java', 'chicken'): 0.03162277660168379, ('chicken', 'java'): 0.03162277660168379, ('java', 'solid'): 0.03162277660168379, ('solid', 'java'): 0.03162277660168379, ('java', '<UNK>'): 0.03162277660168379, ('<UNK>', 'java'): 0.03162277660168379, ('student', 'student'): 0.03162277660168379, ('student', 'giraffe'): 0.03162277660168379, ('giraffe', 'student'): 0.03162277660168379, ('student', 'subject'): 0.03162277660168379, ('subject', 'student'): 0.03162277660168379, ('student', 'liquid'): 0.03162277660168379, ('liquid', 'student'): 0.03162277660168379, ('student', 'car'): 0.03162277660168379, ('car', 'student'): 0.03162277660168379, ('student', 'tennis'): 0.03162277660168379, ('tennis', 'student'): 0.03162277660168379, ('student', 'laptop'): 0.03162277660168379, ('laptop', 'student'): 0.03162277660168379, ('student', 'herbivore'): 0.03162277660168379, ('herbivore', 'student'): 0.03162277660168379, ('student', 'potato'): 0.03162277660168379, ('potato', 'student'): 0.03162277660168379, ('student', 'toyota'): 0.03162277660168379, ('toyota', 'student'): 0.03162277660168379, ('student', 'insect'): 0.03162277660168379, ('insect', 'student'): 0.03162277660168379, ('student', 'zebra'): 0.03162277660168379, ('zebra', 'student'): 0.03162277660168379, ('student', 'part'): 0.03162277660168379, ('part', 'student'): 0.03162277660168379, ('student', 'state'): 0.03162277660168379, ('state', 'student'): 0.03162277660168379, ('student', 'chicken'): 0.03162277660168379, ('chicken', 'student'): 0.03162277660168379, ('student', 'solid'): 0.03162277660168379, ('solid', 'student'): 0.03162277660168379, ('student', '<UNK>'): 0.03162277660168379, ('<UNK>', 'student'): 0.03162277660168379, ('giraffe', 'giraffe'): 0.03162277660168379, ('giraffe', 'subject'): 0.03162277660168379, ('subject', 'giraffe'): 0.03162277660168379, ('giraffe', 'liquid'): 0.03162277660168379, ('liquid', 'giraffe'): 0.03162277660168379, ('giraffe', 'car'): 0.03162277660168379, ('car', 'giraffe'): 0.03162277660168379, ('giraffe', 'tennis'): 0.03162277660168379, ('tennis', 'giraffe'): 0.03162277660168379, ('giraffe', 'laptop'): 0.03162277660168379, ('laptop', 'giraffe'): 0.03162277660168379, ('giraffe', 'herbivore'): 0.03162277660168379, ('herbivore', 'giraffe'): 0.03162277660168379, ('giraffe', 'potato'): 0.03162277660168379, ('potato', 'giraffe'): 0.03162277660168379, ('giraffe', 'toyota'): 0.03162277660168379, ('toyota', 'giraffe'): 0.03162277660168379, ('giraffe', 'insect'): 0.03162277660168379, ('insect', 'giraffe'): 0.03162277660168379, ('giraffe', 'zebra'): 0.03162277660168379, ('zebra', 'giraffe'): 0.03162277660168379, ('giraffe', 'part'): 0.03162277660168379, ('part', 'giraffe'): 0.03162277660168379, ('giraffe', 'state'): 0.03162277660168379, ('state', 'giraffe'): 0.03162277660168379, ('giraffe', 'chicken'): 0.03162277660168379, ('chicken', 'giraffe'): 0.03162277660168379, ('giraffe', 'solid'): 0.03162277660168379, ('solid', 'giraffe'): 0.03162277660168379, ('giraffe', '<UNK>'): 0.03162277660168379, ('<UNK>', 'giraffe'): 0.03162277660168379, ('subject', 'subject'): 0.03162277660168379, ('subject', 'liquid'): 0.03162277660168379, ('liquid', 'subject'): 0.03162277660168379, ('subject', 'car'): 0.03162277660168379, ('car', 'subject'): 0.03162277660168379, ('subject', 'tennis'): 0.03162277660168379, ('tennis', 'subject'): 0.03162277660168379, ('subject', 'laptop'): 0.03162277660168379, ('laptop', 'subject'): 0.03162277660168379, ('subject', 'herbivore'): 0.03162277660168379, ('herbivore', 'subject'): 0.03162277660168379, ('subject', 'potato'): 0.03162277660168379, ('potato', 'subject'): 0.03162277660168379, ('subject', 'toyota'): 0.03162277660168379, ('toyota', 'subject'): 0.03162277660168379, ('subject', 'insect'): 0.03162277660168379, ('insect', 'subject'): 0.03162277660168379, ('subject', 'zebra'): 0.03162277660168379, ('zebra', 'subject'): 0.03162277660168379, ('subject', 'part'): 0.03162277660168379, ('part', 'subject'): 0.03162277660168379, ('subject', 'state'): 0.03162277660168379, ('state', 'subject'): 0.03162277660168379, ('subject', 'chicken'): 0.03162277660168379, ('chicken', 'subject'): 0.03162277660168379, ('subject', 'solid'): 0.03162277660168379, ('solid', 'subject'): 0.03162277660168379, ('subject', '<UNK>'): 0.03162277660168379, ('<UNK>', 'subject'): 0.03162277660168379, ('liquid', 'liquid'): 0.03162277660168379, ('liquid', 'car'): 0.03162277660168379, ('car', 'liquid'): 0.03162277660168379, ('liquid', 'tennis'): 0.03162277660168379, ('tennis', 'liquid'): 0.03162277660168379, ('liquid', 'laptop'): 0.03162277660168379, ('laptop', 'liquid'): 0.03162277660168379, ('liquid', 'herbivore'): 0.03162277660168379, ('herbivore', 'liquid'): 0.03162277660168379, ('liquid', 'potato'): 0.03162277660168379, ('potato', 'liquid'): 0.03162277660168379, ('liquid', 'toyota'): 0.03162277660168379, ('toyota', 'liquid'): 0.03162277660168379, ('liquid', 'insect'): 0.03162277660168379, ('insect', 'liquid'): 0.03162277660168379, ('liquid', 'zebra'): 0.03162277660168379, ('zebra', 'liquid'): 0.03162277660168379, ('liquid', 'part'): 0.03162277660168379, ('part', 'liquid'): 0.03162277660168379, ('liquid', 'state'): 0.03162277660168379, ('state', 'liquid'): 0.03162277660168379, ('liquid', 'chicken'): 0.03162277660168379, ('chicken', 'liquid'): 0.03162277660168379, ('liquid', 'solid'): 0.03162277660168379, ('solid', 'liquid'): 0.03162277660168379, ('liquid', '<UNK>'): 0.03162277660168379, ('<UNK>', 'liquid'): 0.03162277660168379, ('car', 'car'): 0.03162277660168379, ('car', 'tennis'): 0.03162277660168379, ('tennis', 'car'): 0.03162277660168379, ('car', 'laptop'): 0.03162277660168379, ('laptop', 'car'): 0.03162277660168379, ('car', 'herbivore'): 0.03162277660168379, ('herbivore', 'car'): 0.03162277660168379, ('car', 'potato'): 0.03162277660168379, ('potato', 'car'): 0.03162277660168379, ('car', 'toyota'): 0.03162277660168379, ('toyota', 'car'): 0.03162277660168379, ('car', 'insect'): 0.03162277660168379, ('insect', 'car'): 0.03162277660168379, ('car', 'zebra'): 0.03162277660168379, ('zebra', 'car'): 0.03162277660168379, ('car', 'part'): 0.03162277660168379, ('part', 'car'): 0.03162277660168379, ('car', 'state'): 0.03162277660168379, ('state', 'car'): 0.03162277660168379, ('car', 'chicken'): 0.03162277660168379, ('chicken', 'car'): 0.03162277660168379, ('car', 'solid'): 0.03162277660168379, ('solid', 'car'): 0.03162277660168379, ('car', '<UNK>'): 0.03162277660168379, ('<UNK>', 'car'): 0.03162277660168379, ('tennis', 'tennis'): 0.03162277660168379, ('tennis', 'laptop'): 0.03162277660168379, ('laptop', 'tennis'): 0.03162277660168379, ('tennis', 'herbivore'): 0.03162277660168379, ('herbivore', 'tennis'): 0.03162277660168379, ('tennis', 'potato'): 0.03162277660168379, ('potato', 'tennis'): 0.03162277660168379, ('tennis', 'toyota'): 0.03162277660168379, ('toyota', 'tennis'): 0.03162277660168379, ('tennis', 'insect'): 0.03162277660168379, ('insect', 'tennis'): 0.03162277660168379, ('tennis', 'zebra'): 0.03162277660168379, ('zebra', 'tennis'): 0.03162277660168379, ('tennis', 'part'): 0.03162277660168379, ('part', 'tennis'): 0.03162277660168379, ('tennis', 'state'): 0.03162277660168379, ('state', 'tennis'): 0.03162277660168379, ('tennis', 'chicken'): 0.03162277660168379, ('chicken', 'tennis'): 0.03162277660168379, ('tennis', 'solid'): 0.03162277660168379, ('solid', 'tennis'): 0.03162277660168379, ('tennis', '<UNK>'): 0.03162277660168379, ('<UNK>', 'tennis'): 0.03162277660168379, ('laptop', 'laptop'): 0.03162277660168379, ('laptop', 'herbivore'): 0.03162277660168379, ('herbivore', 'laptop'): 0.03162277660168379, ('laptop', 'potato'): 0.03162277660168379, ('potato', 'laptop'): 0.03162277660168379, ('laptop', 'toyota'): 0.03162277660168379, ('toyota', 'laptop'): 0.03162277660168379, ('laptop', 'insect'): 0.03162277660168379, ('insect', 'laptop'): 0.03162277660168379, ('laptop', 'zebra'): 0.03162277660168379, ('zebra', 'laptop'): 0.03162277660168379, ('laptop', 'part'): 0.03162277660168379, ('part', 'laptop'): 0.03162277660168379, ('laptop', 'state'): 0.03162277660168379, ('state', 'laptop'): 0.03162277660168379, ('laptop', 'chicken'): 0.03162277660168379, ('chicken', 'laptop'): 0.03162277660168379, ('laptop', 'solid'): 0.03162277660168379, ('solid', 'laptop'): 0.03162277660168379, ('laptop', '<UNK>'): 0.03162277660168379, ('<UNK>', 'laptop'): 0.03162277660168379, ('herbivore', 'herbivore'): 0.03162277660168379, ('herbivore', 'potato'): 0.03162277660168379, ('potato', 'herbivore'): 0.03162277660168379, ('herbivore', 'toyota'): 0.03162277660168379, ('toyota', 'herbivore'): 0.03162277660168379, ('herbivore', 'insect'): 0.03162277660168379, ('insect', 'herbivore'): 0.03162277660168379, ('herbivore', 'zebra'): 0.03162277660168379, ('zebra', 'herbivore'): 0.03162277660168379, ('herbivore', 'part'): 0.03162277660168379, ('part', 'herbivore'): 0.03162277660168379, ('herbivore', 'state'): 0.03162277660168379, ('state', 'herbivore'): 0.03162277660168379, ('herbivore', 'chicken'): 0.03162277660168379, ('chicken', 'herbivore'): 0.03162277660168379, ('herbivore', 'solid'): 0.03162277660168379, ('solid', 'herbivore'): 0.03162277660168379, ('herbivore', '<UNK>'): 0.03162277660168379, ('<UNK>', 'herbivore'): 0.03162277660168379, ('potato', 'potato'): 0.03162277660168379, ('potato', 'toyota'): 0.03162277660168379, ('toyota', 'potato'): 0.03162277660168379, ('potato', 'insect'): 0.03162277660168379, ('insect', 'potato'): 0.03162277660168379, ('potato', 'zebra'): 0.03162277660168379, ('zebra', 'potato'): 0.03162277660168379, ('potato', 'part'): 0.03162277660168379, ('part', 'potato'): 0.03162277660168379, ('potato', 'state'): 0.03162277660168379, ('state', 'potato'): 0.03162277660168379, ('potato', 'chicken'): 0.03162277660168379, ('chicken', 'potato'): 0.03162277660168379, ('potato', 'solid'): 0.03162277660168379, ('solid', 'potato'): 0.03162277660168379, ('potato', '<UNK>'): 0.03162277660168379, ('<UNK>', 'potato'): 0.03162277660168379, ('toyota', 'toyota'): 0.03162277660168379, ('toyota', 'insect'): 0.03162277660168379, ('insect', 'toyota'): 0.03162277660168379, ('toyota', 'zebra'): 0.03162277660168379, ('zebra', 'toyota'): 0.03162277660168379, ('toyota', 'part'): 0.03162277660168379, ('part', 'toyota'): 0.03162277660168379, ('toyota', 'state'): 0.03162277660168379, ('state', 'toyota'): 0.03162277660168379, ('toyota', 'chicken'): 0.03162277660168379, ('chicken', 'toyota'): 0.03162277660168379, ('toyota', 'solid'): 0.03162277660168379, ('solid', 'toyota'): 0.03162277660168379, ('toyota', '<UNK>'): 0.03162277660168379, ('<UNK>', 'toyota'): 0.03162277660168379, ('insect', 'insect'): 0.03162277660168379, ('insect', 'zebra'): 0.03162277660168379, ('zebra', 'insect'): 0.03162277660168379, ('insect', 'part'): 0.03162277660168379, ('part', 'insect'): 0.03162277660168379, ('insect', 'state'): 0.03162277660168379, ('state', 'insect'): 0.03162277660168379, ('insect', 'chicken'): 0.03162277660168379, ('chicken', 'insect'): 0.03162277660168379, ('insect', 'solid'): 0.03162277660168379, ('solid', 'insect'): 0.03162277660168379, ('insect', '<UNK>'): 0.03162277660168379, ('<UNK>', 'insect'): 0.03162277660168379, ('zebra', 'zebra'): 0.03162277660168379, ('zebra', 'part'): 0.03162277660168379, ('part', 'zebra'): 0.03162277660168379, ('zebra', 'state'): 0.03162277660168379, ('state', 'zebra'): 0.03162277660168379, ('zebra', 'chicken'): 0.03162277660168379, ('chicken', 'zebra'): 0.03162277660168379, ('zebra', 'solid'): 0.03162277660168379, ('solid', 'zebra'): 0.03162277660168379, ('zebra', '<UNK>'): 0.03162277660168379, ('<UNK>', 'zebra'): 0.03162277660168379, ('part', 'part'): 0.03162277660168379, ('part', 'state'): 0.03162277660168379, ('state', 'part'): 0.03162277660168379, ('part', 'chicken'): 0.03162277660168379, ('chicken', 'part'): 0.03162277660168379, ('part', 'solid'): 0.03162277660168379, ('solid', 'part'): 0.03162277660168379, ('part', '<UNK>'): 0.03162277660168379, ('<UNK>', 'part'): 0.03162277660168379, ('state', 'state'): 0.03162277660168379, ('state', 'chicken'): 0.03162277660168379, ('chicken', 'state'): 0.03162277660168379, ('state', 'solid'): 0.03162277660168379, ('solid', 'state'): 0.03162277660168379, ('state', '<UNK>'): 0.03162277660168379, ('<UNK>', 'state'): 0.03162277660168379, ('chicken', 'chicken'): 0.03162277660168379, ('chicken', 'solid'): 0.03162277660168379, ('solid', 'chicken'): 0.03162277660168379, ('chicken', '<UNK>'): 0.03162277660168379, ('<UNK>', 'chicken'): 0.03162277660168379, ('solid', 'solid'): 0.03162277660168379, ('solid', '<UNK>'): 0.03162277660168379, ('<UNK>', 'solid'): 0.03162277660168379, ('<UNK>', '<UNK>'): 0.03162277660168379}\n"
          ]
        }
      ]
    },
    {
      "cell_type": "markdown",
      "source": [
        "Prepare train data"
      ],
      "metadata": {
        "id": "DR0JYfoyDkUF"
      }
    },
    {
      "cell_type": "code",
      "source": [
        "for c in corpus:\n",
        "    print(c)"
      ],
      "metadata": {
        "colab": {
          "base_uri": "https://localhost:8080/"
        },
        "id": "ODXO9lS3DeSQ",
        "outputId": "44fc7963-e36d-4609-a310-afb0e141595b"
      },
      "execution_count": 18,
      "outputs": [
        {
          "output_type": "stream",
          "name": "stdout",
          "text": [
            "['lion', 'tiger', 'carnivore']\n",
            "['tiger', 'lion', 'carnivore']\n",
            "['tiger', 'carnivore', 'lion', '']\n",
            "['giraffe', 'zebra', 'herbivore']\n",
            "['zebra', 'giraffe', 'herbivore']\n",
            "['giraffe', 'herbivore', 'zebra']\n",
            "['honda', 'toyota', 'car']\n",
            "['toyota', 'honda', 'car']\n",
            "['', 'honda', 'car', 'toyota']\n",
            "['chicken', 'beef', 'meat']\n",
            "['beef', 'chicken', 'meat']\n",
            "['chicken', 'meat', 'beef']\n",
            "['potato', 'cucumber', 'vegetable']\n",
            "['cucumber', 'potato', 'vegetable', '']\n",
            "['potato', 'vegetable', 'cucumber']\n",
            "['bee', 'ant', 'insect']\n",
            "['ant', 'bee', 'insect']\n",
            "['bee', 'insect', 'ant']\n",
            "['tennis', 'cricket', 'game']\n",
            "['cricket', 'tennis', 'game']\n",
            "['tennis', 'game', 'cricket']\n",
            "['python', 'java', 'program']\n",
            "['java', 'python', 'program']\n",
            "['python', 'program', 'java']\n",
            "['english', 'hindi', 'language']\n",
            "['hindi', 'english', 'language']\n",
            "['english', 'language', 'hindi']\n",
            "['full', 'time', 'part', 'time', 'student']\n",
            "['part', 'time', 'full', 'time', 'student']\n",
            "['full', 'time', 'student', 'part', 'time']\n",
            "['cocacola', 'pepsi', 'soda']\n",
            "['pepsi', 'cocacola', 'soda']\n",
            "['cocacola', 'soda', 'pepsi']\n",
            "['asus', 'macbook', 'laptop']\n",
            "['macbook', 'asus', 'laptop']\n",
            "['asus', 'laptop', 'macbook']\n",
            "['india', 'brazil', 'country']\n",
            "['brazil', 'india', 'country']\n",
            "['india', 'country', 'brazil']\n",
            "['shirt', 'pant', 'dress']\n",
            "['pant', 'shirt', 'dress']\n",
            "['shirt', 'dress', 'pant']\n",
            "['summer', 'autumn', 'season']\n",
            "['autumn', 'summer', 'season']\n",
            "['summer', 'season', 'autumn']\n",
            "['solid', 'liquid', 'state']\n",
            "['liquid', 'solid', 'state']\n",
            "['solid', 'state', 'liquid']\n",
            "['physics', 'chemistry', 'subject']\n",
            "['chemistry', 'physics', 'subject']\n",
            "['physiscs', 'subject', 'chemistry']\n"
          ]
        }
      ]
    },
    {
      "cell_type": "code",
      "source": [
        "import math\n",
        "\n",
        "def random_batch(batch_size, word_sequence, skip_grams, X_ik, weighting_dic):\n",
        "    \n",
        "    #convert to id since our skip_grams is word, not yet id\n",
        "    skip_grams_id = [(word2index[skip_gram[0]], word2index[skip_gram[1]]) for skip_gram in skip_grams]\n",
        "    \n",
        "    random_inputs = []\n",
        "    random_labels = []\n",
        "    random_coocs  = []\n",
        "    random_weightings = []\n",
        "    random_index = np.random.choice(range(len(skip_grams_id)), batch_size, replace=False) #randomly pick without replacement\n",
        "        \n",
        "    for i in random_index:\n",
        "        random_inputs.append([skip_grams_id[i][0]])  # target, e.g., 2\n",
        "        random_labels.append([skip_grams_id[i][1]])  # context word, e.g., 3\n",
        "        \n",
        "        #get cooc\n",
        "        pair = skip_grams[i]\n",
        "        try:\n",
        "            cooc = X_ik[pair]\n",
        "        except:\n",
        "            cooc = 1\n",
        "        random_coocs.append([math.log(cooc)])\n",
        "        \n",
        "        #get weighting\n",
        "        weighting = weighting_dic[pair]\n",
        "        random_weightings.append([weighting])\n",
        "                    \n",
        "    return np.array(random_inputs), np.array(random_labels), np.array(random_coocs), np.array(random_weightings)"
      ],
      "metadata": {
        "id": "i09obKGPDp9Q"
      },
      "execution_count": 19,
      "outputs": []
    },
    {
      "cell_type": "markdown",
      "source": [
        "Testing the method"
      ],
      "metadata": {
        "id": "l-EaHv8CDx5S"
      }
    },
    {
      "cell_type": "code",
      "source": [
        "#testing the method\n",
        "batch_size = 2 # mini-batch size\n",
        "input_batch, target_batch, cooc_batch, weighting_batch = random_batch(batch_size, corpus, skip_grams, X_ik, weighting_dic)\n",
        "\n",
        "print(\"Input: \", input_batch)\n",
        "print(\"Target: \", target_batch)\n",
        "print(\"Cooc: \", cooc_batch)\n",
        "print(\"Weighting: \", weighting_batch)"
      ],
      "metadata": {
        "colab": {
          "base_uri": "https://localhost:8080/"
        },
        "id": "XVmWaLxzDu3D",
        "outputId": "250e7864-41b6-4e13-ee93-3206dc9873a7"
      },
      "execution_count": 20,
      "outputs": [
        {
          "output_type": "stream",
          "name": "stdout",
          "text": [
            "Input:  [[34]\n",
            " [50]]\n",
            "Target:  [[50]\n",
            " [38]]\n",
            "Cooc:  [[0.69314718]\n",
            " [0.        ]]\n",
            "Weighting:  [[0.05318296]\n",
            " [0.03162278]]\n"
          ]
        }
      ]
    },
    {
      "cell_type": "markdown",
      "source": [
        "Model"
      ],
      "metadata": {
        "id": "vWiD_nSHD-R8"
      }
    },
    {
      "cell_type": "code",
      "source": [
        "class GloVe(nn.Module):\n",
        "    \n",
        "    def __init__(self, vocab_size,embed_size):\n",
        "        super(GloVe,self).__init__()\n",
        "        self.embedding_v = nn.Embedding(vocab_size, embed_size) # center embedding\n",
        "        self.embedding_u = nn.Embedding(vocab_size, embed_size) # out embedding\n",
        "        \n",
        "        self.v_bias = nn.Embedding(vocab_size, 1)\n",
        "        self.u_bias = nn.Embedding(vocab_size, 1)\n",
        "        \n",
        "    def forward(self, center_words, target_words, coocs, weighting):\n",
        "        center_embeds = self.embedding_v(center_words) # [batch_size, 1, emb_size]\n",
        "        target_embeds = self.embedding_u(target_words) # [batch_size, 1, emb_size]\n",
        "        \n",
        "        center_bias = self.v_bias(center_words).squeeze(1)\n",
        "        target_bias = self.u_bias(target_words).squeeze(1)\n",
        "        \n",
        "        inner_product = target_embeds.bmm(center_embeds.transpose(1, 2)).squeeze(2)\n",
        "        #[batch_size, 1, emb_size] @ [batch_size, emb_size, 1] = [batch_size, 1, 1] = [batch_size, 1]\n",
        "        \n",
        "        #note that coocs already got log\n",
        "        loss = weighting*torch.pow(inner_product +center_bias + target_bias - coocs, 2)\n",
        "        \n",
        "        return torch.sum(loss)"
      ],
      "metadata": {
        "id": "yhyZbEkCD3i4"
      },
      "execution_count": 21,
      "outputs": []
    },
    {
      "cell_type": "markdown",
      "source": [
        "Training the model"
      ],
      "metadata": {
        "id": "AivgiEXNEGRF"
      }
    },
    {
      "cell_type": "code",
      "source": [
        "batch_size     = 10 # mini-batch size\n",
        "embedding_size = 2 #so we can later plot\n",
        "model          = GloVe(voc_size, embedding_size)\n",
        "\n",
        "criterion = nn.CrossEntropyLoss()\n",
        "optimizer = optim.Adam(model.parameters(), lr=0.001)"
      ],
      "metadata": {
        "id": "xKXFe6HpEDJq"
      },
      "execution_count": 22,
      "outputs": []
    },
    {
      "cell_type": "code",
      "source": [
        "def epoch_time(start_time, end_time):\n",
        "    elapsed_time = end_time - start_time\n",
        "    elapsed_mins = int(elapsed_time / 60)\n",
        "    elapsed_secs = int(elapsed_time - (elapsed_mins * 60))\n",
        "    return elapsed_mins, elapsed_secs"
      ],
      "metadata": {
        "id": "qICqXXwsEO6p"
      },
      "execution_count": 23,
      "outputs": []
    },
    {
      "cell_type": "code",
      "source": [
        "import time\n",
        "\n",
        "# Training\n",
        "num_epochs = 20\n",
        "for epoch in range(num_epochs):\n",
        "    \n",
        "    start = time.time()\n",
        "    \n",
        "    input_batch, target_batch, cooc_batch, weighting_batch = random_batch(batch_size, corpus, skip_grams, X_ik, weighting_dic)\n",
        "    input_batch  = torch.LongTensor(input_batch)         #[batch_size, 1]\n",
        "    target_batch = torch.LongTensor(target_batch)        #[batch_size, 1]\n",
        "    cooc_batch   = torch.FloatTensor(cooc_batch)         #[batch_size, 1]\n",
        "    weighting_batch = torch.FloatTensor(weighting_batch) #[batch_size, 1]\n",
        "    \n",
        "    optimizer.zero_grad()\n",
        "    loss = model(input_batch, target_batch, cooc_batch, weighting_batch)\n",
        "    \n",
        "    loss.backward()\n",
        "    optimizer.step()\n",
        "    \n",
        "    end = time.time()\n",
        "    \n",
        "    epoch_mins, epoch_secs = epoch_time(start, end)\n",
        "\n",
        "    if (epoch + 1) % 1000 == 0:\n",
        "        print(f\"Epoch: {epoch + 1} | cost: {loss:.6f} | time: {epoch_mins}m {epoch_secs}s\")"
      ],
      "metadata": {
        "colab": {
          "base_uri": "https://localhost:8080/",
          "height": 391
        },
        "id": "k03Y6GmqER_c",
        "outputId": "fa9b772d-2c5c-4f11-8715-0967a6238caf"
      },
      "execution_count": 26,
      "outputs": [
        {
          "output_type": "error",
          "ename": "ValueError",
          "evalue": "ignored",
          "traceback": [
            "\u001b[0;31m---------------------------------------------------------------------------\u001b[0m",
            "\u001b[0;31mValueError\u001b[0m                                Traceback (most recent call last)",
            "\u001b[0;32m<ipython-input-26-bed61125444b>\u001b[0m in \u001b[0;36m<module>\u001b[0;34m\u001b[0m\n\u001b[1;32m      7\u001b[0m     \u001b[0mstart\u001b[0m \u001b[0;34m=\u001b[0m \u001b[0mtime\u001b[0m\u001b[0;34m.\u001b[0m\u001b[0mtime\u001b[0m\u001b[0;34m(\u001b[0m\u001b[0;34m)\u001b[0m\u001b[0;34m\u001b[0m\u001b[0;34m\u001b[0m\u001b[0m\n\u001b[1;32m      8\u001b[0m \u001b[0;34m\u001b[0m\u001b[0m\n\u001b[0;32m----> 9\u001b[0;31m     \u001b[0minput_batch\u001b[0m\u001b[0;34m,\u001b[0m \u001b[0mtarget_batch\u001b[0m\u001b[0;34m,\u001b[0m \u001b[0mcooc_batch\u001b[0m\u001b[0;34m,\u001b[0m \u001b[0mweighting_batch\u001b[0m \u001b[0;34m=\u001b[0m \u001b[0mrandom_batch\u001b[0m\u001b[0;34m(\u001b[0m\u001b[0mbatch_size\u001b[0m\u001b[0;34m,\u001b[0m \u001b[0mcorpus\u001b[0m\u001b[0;34m,\u001b[0m \u001b[0mskip_grams\u001b[0m\u001b[0;34m,\u001b[0m \u001b[0mX_ik\u001b[0m\u001b[0;34m,\u001b[0m \u001b[0mweighting_dic\u001b[0m\u001b[0;34m)\u001b[0m\u001b[0;34m\u001b[0m\u001b[0;34m\u001b[0m\u001b[0m\n\u001b[0m\u001b[1;32m     10\u001b[0m     \u001b[0minput_batch\u001b[0m  \u001b[0;34m=\u001b[0m \u001b[0mtorch\u001b[0m\u001b[0;34m.\u001b[0m\u001b[0mLongTensor\u001b[0m\u001b[0;34m(\u001b[0m\u001b[0minput_batch\u001b[0m\u001b[0;34m)\u001b[0m         \u001b[0;31m#[batch_size, 1]\u001b[0m\u001b[0;34m\u001b[0m\u001b[0;34m\u001b[0m\u001b[0m\n\u001b[1;32m     11\u001b[0m     \u001b[0mtarget_batch\u001b[0m \u001b[0;34m=\u001b[0m \u001b[0mtorch\u001b[0m\u001b[0;34m.\u001b[0m\u001b[0mLongTensor\u001b[0m\u001b[0;34m(\u001b[0m\u001b[0mtarget_batch\u001b[0m\u001b[0;34m)\u001b[0m        \u001b[0;31m#[batch_size, 1]\u001b[0m\u001b[0;34m\u001b[0m\u001b[0;34m\u001b[0m\u001b[0m\n",
            "\u001b[0;32m<ipython-input-19-f2ae4338b975>\u001b[0m in \u001b[0;36mrandom_batch\u001b[0;34m(batch_size, word_sequence, skip_grams, X_ik, weighting_dic)\u001b[0m\n\u001b[1;32m     10\u001b[0m     \u001b[0mrandom_coocs\u001b[0m  \u001b[0;34m=\u001b[0m \u001b[0;34m[\u001b[0m\u001b[0;34m]\u001b[0m\u001b[0;34m\u001b[0m\u001b[0;34m\u001b[0m\u001b[0m\n\u001b[1;32m     11\u001b[0m     \u001b[0mrandom_weightings\u001b[0m \u001b[0;34m=\u001b[0m \u001b[0;34m[\u001b[0m\u001b[0;34m]\u001b[0m\u001b[0;34m\u001b[0m\u001b[0;34m\u001b[0m\u001b[0m\n\u001b[0;32m---> 12\u001b[0;31m     \u001b[0mrandom_index\u001b[0m \u001b[0;34m=\u001b[0m \u001b[0mnp\u001b[0m\u001b[0;34m.\u001b[0m\u001b[0mrandom\u001b[0m\u001b[0;34m.\u001b[0m\u001b[0mchoice\u001b[0m\u001b[0;34m(\u001b[0m\u001b[0mrange\u001b[0m\u001b[0;34m(\u001b[0m\u001b[0mlen\u001b[0m\u001b[0;34m(\u001b[0m\u001b[0mskip_grams_id\u001b[0m\u001b[0;34m)\u001b[0m\u001b[0;34m)\u001b[0m\u001b[0;34m,\u001b[0m \u001b[0mbatch_size\u001b[0m\u001b[0;34m,\u001b[0m \u001b[0mreplace\u001b[0m\u001b[0;34m=\u001b[0m\u001b[0;32mFalse\u001b[0m\u001b[0;34m)\u001b[0m \u001b[0;31m#randomly pick without replacement\u001b[0m\u001b[0;34m\u001b[0m\u001b[0;34m\u001b[0m\u001b[0m\n\u001b[0m\u001b[1;32m     13\u001b[0m \u001b[0;34m\u001b[0m\u001b[0m\n\u001b[1;32m     14\u001b[0m     \u001b[0;32mfor\u001b[0m \u001b[0mi\u001b[0m \u001b[0;32min\u001b[0m \u001b[0mrandom_index\u001b[0m\u001b[0;34m:\u001b[0m\u001b[0;34m\u001b[0m\u001b[0;34m\u001b[0m\u001b[0m\n",
            "\u001b[0;32mmtrand.pyx\u001b[0m in \u001b[0;36mnumpy.random.mtrand.RandomState.choice\u001b[0;34m()\u001b[0m\n",
            "\u001b[0;31mValueError\u001b[0m: Cannot take a larger sample than population when 'replace=False'"
          ]
        }
      ]
    },
    {
      "cell_type": "markdown",
      "source": [
        "Evaluating syntactic and semantic embeddings"
      ],
      "metadata": {
        "id": "XeBOjiQaFezd"
      }
    },
    {
      "cell_type": "code",
      "source": [
        "def get_embed(word, model):\n",
        "    word = torch.LongTensor([index])\n",
        "    embed_center = model.embedding_embed_center_word(word)\n",
        "    embed_outside = model.embedding_embed_outside_word(word)\n",
        "    embed = (embed_center+ embed_outside)/2\n",
        "    return embed\n"
      ],
      "metadata": {
        "id": "qM_xWhLoE185"
      },
      "execution_count": 27,
      "outputs": []
    },
    {
      "cell_type": "code",
      "source": [
        "def glove_embed(word, model):\n",
        "    id_tensor = torch.LongTensor([word2index[word]])\n",
        "    v_embed = model.embedding_v(id_tensor)\n",
        "    u_embed = model.embedding_u(id_tensor) \n",
        "    word_embed = (v_embed + u_embed) / 2 \n",
        "    return word_embed"
      ],
      "metadata": {
        "id": "hJ9gOIcyGQtJ"
      },
      "execution_count": 28,
      "outputs": []
    },
    {
      "cell_type": "markdown",
      "source": [],
      "metadata": {
        "id": "tgx86eabHljf"
      }
    },
    {
      "cell_type": "code",
      "source": [],
      "metadata": {
        "id": "b66TvrKOHkmP"
      },
      "execution_count": 36,
      "outputs": []
    }
  ]
}
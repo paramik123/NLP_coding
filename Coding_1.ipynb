{
  "nbformat": 4,
  "nbformat_minor": 0,
  "metadata": {
    "colab": {
      "provenance": [],
      "toc_visible": true
    },
    "kernelspec": {
      "name": "python3",
      "display_name": "Python 3"
    },
    "language_info": {
      "name": "python"
    }
  },
  "cells": [
    {
      "cell_type": "code",
      "execution_count": 2,
      "metadata": {
        "id": "pMtyn2uVqY3c"
      },
      "outputs": [],
      "source": []
    },
    {
      "cell_type": "markdown",
      "source": [
        "Normal version of skipgram"
      ],
      "metadata": {
        "id": "ALCz051LsXj8"
      }
    },
    {
      "cell_type": "code",
      "source": [
        "import numpy as np\n",
        "import torch\n",
        "import torch.nn as nn\n",
        "import torch.optim as optim\n",
        "import matplotlib.pyplot as plt"
      ],
      "metadata": {
        "id": "PfnLFVujrv19"
      },
      "execution_count": 1,
      "outputs": []
    },
    {
      "cell_type": "markdown",
      "source": [
        "Load data"
      ],
      "metadata": {
        "id": "j3ddighIslRU"
      }
    },
    {
      "cell_type": "code",
      "source": [
        "corpus=[\"lion tiger carnivore\", \"tiger lion carnivore\", \"tiger carnivore lion \", \"giraffe zebra herbivore\", \"zebra giraffe herbivore\", \"giraffe herbivore zebra\", \"honda toyota car\", \"toyota honda car\",\" honda car toyota\",\"chicken beef meat\",\"beef chicken meat\",\"chicken meat beef\", \"potato cucumber vegetable\",\"cucumber potato vegetable \", \"potato vegetable cucumber\", \"bee ant insect\",\"ant bee insect\",\"bee insect ant\",\"tennis cricket game\",\"cricket tennis game\",\"tennis game cricket\",\"python java program\",\"java python program\",\"python program java\",\"english hindi language\",\"hindi english language\",\"english language hindi\",\"full time part time student\",\"part time full time student\",\"full time student part time\",\"cocacola pepsi soda\",\"pepsi cocacola soda\",\"cocacola soda pepsi\",\"asus macbook laptop\",\"macbook asus laptop\",\"asus laptop macbook\",\"india brazil country\",\"brazil india country\",\"india country brazil\",\"shirt pant dress\",\"pant shirt dress\",\"shirt dress pant\",\"summer autumn season\",\"autumn summer season\",\"summer season autumn\",\"solid liquid state\",\"liquid solid state\",\"solid state liquid\",\"physics chemistry subject\",\"chemistry physics subject\",\"physiscs subject chemistry\"]"
      ],
      "metadata": {
        "id": "_UU7FERSsJjS"
      },
      "execution_count": 74,
      "outputs": []
    },
    {
      "cell_type": "code",
      "source": [],
      "metadata": {
        "id": "vBzPlANII24O"
      },
      "execution_count": 113,
      "outputs": []
    },
    {
      "cell_type": "code",
      "source": [],
      "metadata": {
        "id": "yh_gO4rAI9E7"
      },
      "execution_count": 115,
      "outputs": []
    },
    {
      "cell_type": "code",
      "source": [
        "corpus = [sent.split(\" \") for sent in corpus]\n",
        "corpus"
      ],
      "metadata": {
        "colab": {
          "base_uri": "https://localhost:8080/"
        },
        "id": "JPp1lnsTuzut",
        "outputId": "37385d9f-c5e5-4d7d-f486-3bddc9051046"
      },
      "execution_count": 75,
      "outputs": [
        {
          "output_type": "execute_result",
          "data": {
            "text/plain": [
              "[['lion', 'tiger', 'carnivore'],\n",
              " ['tiger', 'lion', 'carnivore'],\n",
              " ['tiger', 'carnivore', 'lion', ''],\n",
              " ['giraffe', 'zebra', 'herbivore'],\n",
              " ['zebra', 'giraffe', 'herbivore'],\n",
              " ['giraffe', 'herbivore', 'zebra'],\n",
              " ['honda', 'toyota', 'car'],\n",
              " ['toyota', 'honda', 'car'],\n",
              " ['', 'honda', 'car', 'toyota'],\n",
              " ['chicken', 'beef', 'meat'],\n",
              " ['beef', 'chicken', 'meat'],\n",
              " ['chicken', 'meat', 'beef'],\n",
              " ['potato', 'cucumber', 'vegetable'],\n",
              " ['cucumber', 'potato', 'vegetable', ''],\n",
              " ['potato', 'vegetable', 'cucumber'],\n",
              " ['bee', 'ant', 'insect'],\n",
              " ['ant', 'bee', 'insect'],\n",
              " ['bee', 'insect', 'ant'],\n",
              " ['tennis', 'cricket', 'game'],\n",
              " ['cricket', 'tennis', 'game'],\n",
              " ['tennis', 'game', 'cricket'],\n",
              " ['python', 'java', 'program'],\n",
              " ['java', 'python', 'program'],\n",
              " ['python', 'program', 'java'],\n",
              " ['english', 'hindi', 'language'],\n",
              " ['hindi', 'english', 'language'],\n",
              " ['english', 'language', 'hindi'],\n",
              " ['full', 'time', 'part', 'time', 'student'],\n",
              " ['part', 'time', 'full', 'time', 'student'],\n",
              " ['full', 'time', 'student', 'part', 'time'],\n",
              " ['cocacola', 'pepsi', 'soda'],\n",
              " ['pepsi', 'cocacola', 'soda'],\n",
              " ['cocacola', 'soda', 'pepsi'],\n",
              " ['asus', 'macbook', 'laptop'],\n",
              " ['macbook', 'asus', 'laptop'],\n",
              " ['asus', 'laptop', 'macbook'],\n",
              " ['india', 'brazil', 'country'],\n",
              " ['brazil', 'india', 'country'],\n",
              " ['india', 'country', 'brazil'],\n",
              " ['shirt', 'pant', 'dress'],\n",
              " ['pant', 'shirt', 'dress'],\n",
              " ['shirt', 'dress', 'pant'],\n",
              " ['summer', 'autumn', 'season'],\n",
              " ['autumn', 'summer', 'season'],\n",
              " ['summer', 'season', 'autumn'],\n",
              " ['solid', 'liquid', 'state'],\n",
              " ['liquid', 'solid', 'state'],\n",
              " ['solid', 'state', 'liquid'],\n",
              " ['physics', 'chemistry', 'subject'],\n",
              " ['chemistry', 'physics', 'subject'],\n",
              " ['physiscs', 'subject', 'chemistry']]"
            ]
          },
          "metadata": {},
          "execution_count": 75
        }
      ]
    },
    {
      "cell_type": "code",
      "source": [
        "flatten = lambda l: [item for sublist in l for item in sublist]\n",
        "vocab = list(set(flatten(corpus)))\n",
        "vocab"
      ],
      "metadata": {
        "colab": {
          "base_uri": "https://localhost:8080/"
        },
        "id": "tG3FnIiYu4yM",
        "outputId": "5e831502-0c9e-4d3e-a002-2e58398abc1f"
      },
      "execution_count": 76,
      "outputs": [
        {
          "output_type": "execute_result",
          "data": {
            "text/plain": [
              "['',\n",
              " 'ant',\n",
              " 'cucumber',\n",
              " 'herbivore',\n",
              " 'meat',\n",
              " 'english',\n",
              " 'vegetable',\n",
              " 'physiscs',\n",
              " 'tennis',\n",
              " 'carnivore',\n",
              " 'country',\n",
              " 'solid',\n",
              " 'hindi',\n",
              " 'toyota',\n",
              " 'bee',\n",
              " 'summer',\n",
              " 'soda',\n",
              " 'insect',\n",
              " 'autumn',\n",
              " 'honda',\n",
              " 'python',\n",
              " 'student',\n",
              " 'asus',\n",
              " 'giraffe',\n",
              " 'physics',\n",
              " 'laptop',\n",
              " 'season',\n",
              " 'shirt',\n",
              " 'dress',\n",
              " 'pant',\n",
              " 'java',\n",
              " 'beef',\n",
              " 'state',\n",
              " 'language',\n",
              " 'brazil',\n",
              " 'lion',\n",
              " 'full',\n",
              " 'pepsi',\n",
              " 'chicken',\n",
              " 'time',\n",
              " 'liquid',\n",
              " 'subject',\n",
              " 'part',\n",
              " 'tiger',\n",
              " 'macbook',\n",
              " 'cocacola',\n",
              " 'chemistry',\n",
              " 'game',\n",
              " 'car',\n",
              " 'zebra',\n",
              " 'cricket',\n",
              " 'program',\n",
              " 'india',\n",
              " 'potato']"
            ]
          },
          "metadata": {},
          "execution_count": 76
        }
      ]
    },
    {
      "cell_type": "markdown",
      "source": [
        "Numericalization"
      ],
      "metadata": {
        "id": "LTXEtkfDwi-y"
      }
    },
    {
      "cell_type": "code",
      "source": [
        "word2index = {w: i for i, w in enumerate(vocab)}\n",
        "print(word2index)"
      ],
      "metadata": {
        "colab": {
          "base_uri": "https://localhost:8080/"
        },
        "id": "-ikvtsNZwfTZ",
        "outputId": "7360a205-de47-4a37-817d-e42edf43a22a"
      },
      "execution_count": 77,
      "outputs": [
        {
          "output_type": "stream",
          "name": "stdout",
          "text": [
            "{'': 0, 'ant': 1, 'cucumber': 2, 'herbivore': 3, 'meat': 4, 'english': 5, 'vegetable': 6, 'physiscs': 7, 'tennis': 8, 'carnivore': 9, 'country': 10, 'solid': 11, 'hindi': 12, 'toyota': 13, 'bee': 14, 'summer': 15, 'soda': 16, 'insect': 17, 'autumn': 18, 'honda': 19, 'python': 20, 'student': 21, 'asus': 22, 'giraffe': 23, 'physics': 24, 'laptop': 25, 'season': 26, 'shirt': 27, 'dress': 28, 'pant': 29, 'java': 30, 'beef': 31, 'state': 32, 'language': 33, 'brazil': 34, 'lion': 35, 'full': 36, 'pepsi': 37, 'chicken': 38, 'time': 39, 'liquid': 40, 'subject': 41, 'part': 42, 'tiger': 43, 'macbook': 44, 'cocacola': 45, 'chemistry': 46, 'game': 47, 'car': 48, 'zebra': 49, 'cricket': 50, 'program': 51, 'india': 52, 'potato': 53}\n"
          ]
        }
      ]
    },
    {
      "cell_type": "markdown",
      "source": [
        "Lets check vocab size"
      ],
      "metadata": {
        "id": "qXT-mNv3w08k"
      }
    },
    {
      "cell_type": "code",
      "source": [
        "voc_size = len(vocab)\n",
        "print(voc_size)"
      ],
      "metadata": {
        "colab": {
          "base_uri": "https://localhost:8080/"
        },
        "id": "9VvCdMAhwxi6",
        "outputId": "1664f6a1-a37b-4950-ccc7-c17b3b18bd94"
      },
      "execution_count": 78,
      "outputs": [
        {
          "output_type": "stream",
          "name": "stdout",
          "text": [
            "54\n"
          ]
        }
      ]
    },
    {
      "cell_type": "code",
      "source": [
        "vocab.append('<UNK>')\n",
        "vocab"
      ],
      "metadata": {
        "colab": {
          "base_uri": "https://localhost:8080/"
        },
        "id": "jy9j922aw8E4",
        "outputId": "41c14d9a-63cd-43c0-a085-3f10bbf5b9cf"
      },
      "execution_count": 79,
      "outputs": [
        {
          "output_type": "execute_result",
          "data": {
            "text/plain": [
              "['',\n",
              " 'ant',\n",
              " 'cucumber',\n",
              " 'herbivore',\n",
              " 'meat',\n",
              " 'english',\n",
              " 'vegetable',\n",
              " 'physiscs',\n",
              " 'tennis',\n",
              " 'carnivore',\n",
              " 'country',\n",
              " 'solid',\n",
              " 'hindi',\n",
              " 'toyota',\n",
              " 'bee',\n",
              " 'summer',\n",
              " 'soda',\n",
              " 'insect',\n",
              " 'autumn',\n",
              " 'honda',\n",
              " 'python',\n",
              " 'student',\n",
              " 'asus',\n",
              " 'giraffe',\n",
              " 'physics',\n",
              " 'laptop',\n",
              " 'season',\n",
              " 'shirt',\n",
              " 'dress',\n",
              " 'pant',\n",
              " 'java',\n",
              " 'beef',\n",
              " 'state',\n",
              " 'language',\n",
              " 'brazil',\n",
              " 'lion',\n",
              " 'full',\n",
              " 'pepsi',\n",
              " 'chicken',\n",
              " 'time',\n",
              " 'liquid',\n",
              " 'subject',\n",
              " 'part',\n",
              " 'tiger',\n",
              " 'macbook',\n",
              " 'cocacola',\n",
              " 'chemistry',\n",
              " 'game',\n",
              " 'car',\n",
              " 'zebra',\n",
              " 'cricket',\n",
              " 'program',\n",
              " 'india',\n",
              " 'potato',\n",
              " '<UNK>']"
            ]
          },
          "metadata": {},
          "execution_count": 79
        }
      ]
    },
    {
      "cell_type": "code",
      "source": [
        "word2index['<UNK>'] = 0\n",
        "index2word = {v:k for k, v in word2index.items()} \n"
      ],
      "metadata": {
        "id": "PHLvEywCxGRE"
      },
      "execution_count": 80,
      "outputs": []
    },
    {
      "cell_type": "markdown",
      "source": [
        "Prepare training data"
      ],
      "metadata": {
        "id": "UK0Xj76OxRaQ"
      }
    },
    {
      "cell_type": "code",
      "source": [
        "for c in corpus:\n",
        "    print(c)"
      ],
      "metadata": {
        "colab": {
          "base_uri": "https://localhost:8080/"
        },
        "id": "x3UMrsUrxMUz",
        "outputId": "c9ed6bcf-1994-4c1f-e315-d51ef68dee72"
      },
      "execution_count": 81,
      "outputs": [
        {
          "output_type": "stream",
          "name": "stdout",
          "text": [
            "['lion', 'tiger', 'carnivore']\n",
            "['tiger', 'lion', 'carnivore']\n",
            "['tiger', 'carnivore', 'lion', '']\n",
            "['giraffe', 'zebra', 'herbivore']\n",
            "['zebra', 'giraffe', 'herbivore']\n",
            "['giraffe', 'herbivore', 'zebra']\n",
            "['honda', 'toyota', 'car']\n",
            "['toyota', 'honda', 'car']\n",
            "['', 'honda', 'car', 'toyota']\n",
            "['chicken', 'beef', 'meat']\n",
            "['beef', 'chicken', 'meat']\n",
            "['chicken', 'meat', 'beef']\n",
            "['potato', 'cucumber', 'vegetable']\n",
            "['cucumber', 'potato', 'vegetable', '']\n",
            "['potato', 'vegetable', 'cucumber']\n",
            "['bee', 'ant', 'insect']\n",
            "['ant', 'bee', 'insect']\n",
            "['bee', 'insect', 'ant']\n",
            "['tennis', 'cricket', 'game']\n",
            "['cricket', 'tennis', 'game']\n",
            "['tennis', 'game', 'cricket']\n",
            "['python', 'java', 'program']\n",
            "['java', 'python', 'program']\n",
            "['python', 'program', 'java']\n",
            "['english', 'hindi', 'language']\n",
            "['hindi', 'english', 'language']\n",
            "['english', 'language', 'hindi']\n",
            "['full', 'time', 'part', 'time', 'student']\n",
            "['part', 'time', 'full', 'time', 'student']\n",
            "['full', 'time', 'student', 'part', 'time']\n",
            "['cocacola', 'pepsi', 'soda']\n",
            "['pepsi', 'cocacola', 'soda']\n",
            "['cocacola', 'soda', 'pepsi']\n",
            "['asus', 'macbook', 'laptop']\n",
            "['macbook', 'asus', 'laptop']\n",
            "['asus', 'laptop', 'macbook']\n",
            "['india', 'brazil', 'country']\n",
            "['brazil', 'india', 'country']\n",
            "['india', 'country', 'brazil']\n",
            "['shirt', 'pant', 'dress']\n",
            "['pant', 'shirt', 'dress']\n",
            "['shirt', 'dress', 'pant']\n",
            "['summer', 'autumn', 'season']\n",
            "['autumn', 'summer', 'season']\n",
            "['summer', 'season', 'autumn']\n",
            "['solid', 'liquid', 'state']\n",
            "['liquid', 'solid', 'state']\n",
            "['solid', 'state', 'liquid']\n",
            "['physics', 'chemistry', 'subject']\n",
            "['chemistry', 'physics', 'subject']\n",
            "['physiscs', 'subject', 'chemistry']\n"
          ]
        }
      ]
    },
    {
      "cell_type": "markdown",
      "source": [
        "Lets have a window size of 2"
      ],
      "metadata": {
        "id": "iXddNOLCxkNu"
      }
    },
    {
      "cell_type": "code",
      "source": [
        "def random_batch(batch_size, word_sequence):\n",
        "    \n",
        "    # Make skip gram of one size window\n",
        "    skip_grams = []\n",
        "    # loop each word sequence\n",
        "    # we starts from 1 because 0 has no context\n",
        "    # we stop at second last for the same reason\n",
        "    for sent in corpus:\n",
        "        for i in range(1, len(sent) - 2):\n",
        "            target = word2index[sent[i]]\n",
        "            context = [word2index[sent[i - 2]], word2index[sent[i + 2]]]\n",
        "            for w in context:\n",
        "                skip_grams.append([target, w])\n",
        "    \n",
        "    random_inputs = []\n",
        "    random_labels = []\n",
        "    random_index = np.random.choice(range(len(skip_grams)), batch_size, replace=False) #randomly pick without replacement\n",
        "        \n",
        "    for i in random_index:\n",
        "        random_inputs.append([skip_grams[i][0]])  # target, e.g., 2\n",
        "        random_labels.append([skip_grams[i][1]])  # context word, e.g., 3\n",
        "            \n",
        "    return np.array(random_inputs), np.array(random_labels)"
      ],
      "metadata": {
        "id": "9GvjjbqcxfVV"
      },
      "execution_count": 82,
      "outputs": []
    },
    {
      "cell_type": "markdown",
      "source": [
        "Testing the method"
      ],
      "metadata": {
        "id": "6BRWNa-cxenY"
      }
    },
    {
      "cell_type": "code",
      "source": [
        "batch_size = 2 # mini-batch size\n",
        "input_batch, target_batch = random_batch(batch_size, corpus)\n",
        "\n",
        "print(\"Input: \", input_batch)\n",
        "print(\"Target: \", target_batch)\n"
      ],
      "metadata": {
        "colab": {
          "base_uri": "https://localhost:8080/"
        },
        "id": "_GzcTO4pxag2",
        "outputId": "506d65d9-37f8-4375-c602-f7e04a994fe6"
      },
      "execution_count": 83,
      "outputs": [
        {
          "output_type": "stream",
          "name": "stdout",
          "text": [
            "Input:  [[ 9]\n",
            " [39]]\n",
            "Target:  [[ 0]\n",
            " [39]]\n"
          ]
        }
      ]
    },
    {
      "cell_type": "markdown",
      "source": [
        "Model"
      ],
      "metadata": {
        "id": "IqnkrkgRyCbN"
      }
    },
    {
      "cell_type": "code",
      "source": [
        "class Skipgram(nn.Module):\n",
        "    \n",
        "    def __init__(self, vocab_size, emb_size):\n",
        "        super(Skipgram,self).__init__()\n",
        "        self.embedding_v = nn.Embedding(vocab_size, emb_size)\n",
        "        self.embedding_u = nn.Embedding(vocab_size, emb_size)\n",
        "    \n",
        "    def forward(self, center_words, target_words, all_vocabs):\n",
        "        center_embeds = self.embedding_v(center_words) \n",
        "        target_embeds = self.embedding_u(target_words) \n",
        "        all_embeds    = self.embedding_u(all_vocabs) \n",
        "        \n",
        "        scores      = target_embeds.bmm(center_embeds.transpose(1, 2)).squeeze(2)\n",
        "        norm_scores = all_embeds.bmm(center_embeds.transpose(1, 2)).squeeze(2)\n",
        "        nll = -torch.mean(torch.log(torch.exp(scores)/torch.sum(torch.exp(norm_scores), 1).unsqueeze(1))) # log-softmax   \n",
        "        return nll"
      ],
      "metadata": {
        "id": "kUo2SHVxyAbm"
      },
      "execution_count": 84,
      "outputs": []
    },
    {
      "cell_type": "markdown",
      "source": [
        "Training"
      ],
      "metadata": {
        "id": "hJtoonesyjMG"
      }
    },
    {
      "cell_type": "code",
      "source": [
        "batch_size     = 2 # mini-batch size\n",
        "embedding_size = 2 #so we can later plot\n",
        "model          = Skipgram(voc_size, embedding_size)\n",
        "\n",
        "optimizer = optim.Adam(model.parameters(), lr=0.001)"
      ],
      "metadata": {
        "id": "t07MBzUByXjG"
      },
      "execution_count": 85,
      "outputs": []
    },
    {
      "cell_type": "code",
      "source": [
        "def prepare_sequence(seq, word2index):\n",
        "    idxs = list(map(lambda w: word2index[w] if word2index.get(w) is not None else word2index[\"<UNK>\"], seq))\n",
        "    return torch.LongTensor(idxs)\n",
        "\n",
        "#use for the normalized term in the probability calculation\n",
        "all_vocabs = prepare_sequence(list(vocab), word2index).expand(batch_size, len(vocab))  # [batch_size, voc_size]\n",
        "all_vocabs.shape"
      ],
      "metadata": {
        "colab": {
          "base_uri": "https://localhost:8080/"
        },
        "id": "YMdwJAjtysmT",
        "outputId": "18d9b297-97a0-496a-a6be-bf1cf7551fb8"
      },
      "execution_count": 86,
      "outputs": [
        {
          "output_type": "execute_result",
          "data": {
            "text/plain": [
              "torch.Size([2, 55])"
            ]
          },
          "metadata": {},
          "execution_count": 86
        }
      ]
    },
    {
      "cell_type": "code",
      "source": [
        "def epoch_time(start_time, end_time):\n",
        "    elapsed_time = end_time - start_time\n",
        "    elapsed_mins = int(elapsed_time / 60)\n",
        "    elapsed_secs = int(elapsed_time - (elapsed_mins * 60))\n",
        "    return elapsed_mins, elapsed_secs"
      ],
      "metadata": {
        "id": "s5jqiEbjy0eQ"
      },
      "execution_count": 87,
      "outputs": []
    },
    {
      "cell_type": "code",
      "source": [
        "import time\n",
        "\n",
        "# Training\n",
        "num_epochs = 5000\n",
        "for epoch in range(num_epochs):\n",
        "    \n",
        "    start = time.time()\n",
        "    \n",
        "    input_batch, target_batch = random_batch(batch_size, corpus)\n",
        "    input_batch  = torch.LongTensor(input_batch)  #[batch_size, 1]\n",
        "    target_batch = torch.LongTensor(target_batch) #[batch_size, 1]\n",
        "\n",
        "    optimizer.zero_grad()\n",
        "    loss = model(input_batch, target_batch, all_vocabs)\n",
        "    \n",
        "    loss.backward()\n",
        "    optimizer.step()\n",
        "    \n",
        "    end = time.time()\n",
        "    \n",
        "    epoch_mins, epoch_secs = epoch_time(start, end)\n",
        "\n",
        "    if (epoch + 1) % 1000 == 0:\n",
        "        print(f\"Epoch: {epoch + 1} | cost: {loss:.6f} | time: {epoch_mins}m {epoch_secs}s\")"
      ],
      "metadata": {
        "colab": {
          "base_uri": "https://localhost:8080/"
        },
        "id": "wLNZcELey6SP",
        "outputId": "ceb54ad4-1829-4d8e-b39e-5f4998f6dc0c"
      },
      "execution_count": 88,
      "outputs": [
        {
          "output_type": "stream",
          "name": "stdout",
          "text": [
            "Epoch: 1000 | cost: 3.865739 | time: 0m 0s\n",
            "Epoch: 2000 | cost: 3.343431 | time: 0m 0s\n",
            "Epoch: 3000 | cost: 1.969951 | time: 0m 0s\n",
            "Epoch: 4000 | cost: 1.476329 | time: 0m 0s\n",
            "Epoch: 5000 | cost: 1.756588 | time: 0m 0s\n"
          ]
        }
      ]
    },
    {
      "cell_type": "markdown",
      "source": [
        "Plot embeddings"
      ],
      "metadata": {
        "id": "JYSG0FY2zGUx"
      }
    },
    {
      "cell_type": "code",
      "source": [
        "vocab[:10]\n",
        "word = vocab[0]\n",
        "id = word2index[word]\n",
        "id"
      ],
      "metadata": {
        "colab": {
          "base_uri": "https://localhost:8080/"
        },
        "id": "KfzugQdyy_zq",
        "outputId": "34f3ba6c-6a35-4f27-b29e-23e5563ebec5"
      },
      "execution_count": 89,
      "outputs": [
        {
          "output_type": "execute_result",
          "data": {
            "text/plain": [
              "0"
            ]
          },
          "metadata": {},
          "execution_count": 89
        }
      ]
    },
    {
      "cell_type": "code",
      "source": [
        "id_tensor = torch.LongTensor([id])\n",
        "id_tensor"
      ],
      "metadata": {
        "colab": {
          "base_uri": "https://localhost:8080/"
        },
        "id": "GgHpZlSfzR02",
        "outputId": "13d48fad-351d-4afe-fb25-8d2bb9cdc053"
      },
      "execution_count": 90,
      "outputs": [
        {
          "output_type": "execute_result",
          "data": {
            "text/plain": [
              "tensor([0])"
            ]
          },
          "metadata": {},
          "execution_count": 90
        }
      ]
    },
    {
      "cell_type": "code",
      "source": [
        "v_embed = model.embedding_v(id_tensor)\n",
        "u_embed = model.embedding_u(id_tensor)\n",
        "\n",
        "v_embed, u_embed"
      ],
      "metadata": {
        "colab": {
          "base_uri": "https://localhost:8080/"
        },
        "id": "rT_LtYBkzVtl",
        "outputId": "647a0a8b-fa1e-4d12-c32c-c290b87c1657"
      },
      "execution_count": 91,
      "outputs": [
        {
          "output_type": "execute_result",
          "data": {
            "text/plain": [
              "(tensor([[1.1646, 0.0173]], grad_fn=<EmbeddingBackward0>),\n",
              " tensor([[-0.2259,  2.1730]], grad_fn=<EmbeddingBackward0>))"
            ]
          },
          "metadata": {},
          "execution_count": 91
        }
      ]
    },
    {
      "cell_type": "code",
      "source": [
        "word_embed = (v_embed + u_embed) / 2\n",
        "word_embed[0][1]"
      ],
      "metadata": {
        "colab": {
          "base_uri": "https://localhost:8080/"
        },
        "id": "E9oL1zrEzboY",
        "outputId": "43edc96b-7db0-4de2-acfe-b3518e3e9bd9"
      },
      "execution_count": 92,
      "outputs": [
        {
          "output_type": "execute_result",
          "data": {
            "text/plain": [
              "tensor(1.0952, grad_fn=<SelectBackward0>)"
            ]
          },
          "metadata": {},
          "execution_count": 92
        }
      ]
    },
    {
      "cell_type": "markdown",
      "source": [
        "Get embedding of a given word"
      ],
      "metadata": {
        "id": "LGg0bEZlzlAH"
      }
    },
    {
      "cell_type": "code",
      "source": [
        "def get_embed(word):\n",
        "    id_tensor = torch.LongTensor([word2index[word]])\n",
        "    v_embed = model.embedding_v(id_tensor)\n",
        "    u_embed = model.embedding_u(id_tensor) \n",
        "    word_embed = (v_embed + u_embed) / 2 \n",
        "    x, y = word_embed[0][0].item(), word_embed[0][1].item()\n",
        "\n",
        "    return x, y"
      ],
      "metadata": {
        "id": "7dvBiVndzgdV"
      },
      "execution_count": 93,
      "outputs": []
    },
    {
      "cell_type": "code",
      "source": [
        "plt.figure(figsize=(6,3))\n",
        "for i, word in enumerate(vocab[:20]): #loop each unique vocab\n",
        "    x, y = get_embed(word)\n",
        "    plt.scatter(x, y)\n",
        "    plt.annotate(word, xy=(x, y), xytext=(40, 20), textcoords='offset points')\n",
        "plt.show()"
      ],
      "metadata": {
        "colab": {
          "base_uri": "https://localhost:8080/",
          "height": 211
        },
        "id": "EhDwc_WjzrTg",
        "outputId": "6a96a5da-8a4e-4e96-8986-1ea156dc004b"
      },
      "execution_count": 96,
      "outputs": [
        {
          "output_type": "display_data",
          "data": {
            "text/plain": [
              "<Figure size 432x216 with 1 Axes>"
            ],
            "image/png": "[encoded data removed]"
          },
          "metadata": {
            "needs_background": "light"
          }
        }
      ]
    },
    {
      "cell_type": "code",
      "source": [],
      "metadata": {
        "id": "_9IZYCQkAuRA"
      },
      "execution_count": null,
      "outputs": []
    },
    {
      "cell_type": "markdown",
      "source": [
        "Skipgram with random sampling"
      ],
      "metadata": {
        "id": "Ogv6eH4tAu7I"
      }
    },
    {
      "cell_type": "markdown",
      "source": [
        "Negative Sampling"
      ],
      "metadata": {
        "id": "vcW4W7xsA_f3"
      }
    },
    {
      "cell_type": "code",
      "source": [
        "Z = 0.001\n"
      ],
      "metadata": {
        "id": "6TCetIQlCHDq"
      },
      "execution_count": 97,
      "outputs": []
    },
    {
      "cell_type": "code",
      "source": [
        "from collections import Counter\n",
        "\n",
        "word_count = Counter(flatten(corpus))\n",
        "num_total_words = sum([c for w, c in word_count.items()])"
      ],
      "metadata": {
        "id": "VIbnOkRSCUc-"
      },
      "execution_count": 98,
      "outputs": []
    },
    {
      "cell_type": "code",
      "source": [
        "num_total_words\n"
      ],
      "metadata": {
        "colab": {
          "base_uri": "https://localhost:8080/"
        },
        "id": "0bDxC2lDCYAj",
        "outputId": "55b9ddfd-86fe-4062-a0af-1dab7ca07dfb"
      },
      "execution_count": 99,
      "outputs": [
        {
          "output_type": "execute_result",
          "data": {
            "text/plain": [
              "162"
            ]
          },
          "metadata": {},
          "execution_count": 99
        }
      ]
    },
    {
      "cell_type": "code",
      "source": [
        "unigram_table = []\n",
        "\n",
        "for vo in vocab:\n",
        "    unigram_table.extend([vo] * int(((word_count[vo]/num_total_words)**0.75)/Z))"
      ],
      "metadata": {
        "id": "pRN9gmGvCbZV"
      },
      "execution_count": 100,
      "outputs": []
    },
    {
      "cell_type": "code",
      "source": [
        "Counter(unigram_table)\n"
      ],
      "metadata": {
        "colab": {
          "base_uri": "https://localhost:8080/"
        },
        "id": "oxuFgBf3CfYW",
        "outputId": "604edf31-5088-40f5-b4e9-5956af17a7f9"
      },
      "execution_count": 101,
      "outputs": [
        {
          "output_type": "execute_result",
          "data": {
            "text/plain": [
              "Counter({'': 50,\n",
              "         'ant': 50,\n",
              "         'cucumber': 50,\n",
              "         'herbivore': 50,\n",
              "         'meat': 50,\n",
              "         'english': 50,\n",
              "         'vegetable': 50,\n",
              "         'physiscs': 22,\n",
              "         'tennis': 50,\n",
              "         'carnivore': 50,\n",
              "         'country': 50,\n",
              "         'solid': 50,\n",
              "         'hindi': 50,\n",
              "         'toyota': 50,\n",
              "         'bee': 50,\n",
              "         'summer': 50,\n",
              "         'soda': 50,\n",
              "         'insect': 50,\n",
              "         'autumn': 50,\n",
              "         'honda': 50,\n",
              "         'python': 50,\n",
              "         'student': 50,\n",
              "         'asus': 50,\n",
              "         'giraffe': 50,\n",
              "         'physics': 37,\n",
              "         'laptop': 50,\n",
              "         'season': 50,\n",
              "         'shirt': 50,\n",
              "         'dress': 50,\n",
              "         'pant': 50,\n",
              "         'java': 50,\n",
              "         'beef': 50,\n",
              "         'state': 50,\n",
              "         'language': 50,\n",
              "         'brazil': 50,\n",
              "         'lion': 50,\n",
              "         'full': 50,\n",
              "         'pepsi': 50,\n",
              "         'chicken': 50,\n",
              "         'time': 84,\n",
              "         'liquid': 50,\n",
              "         'subject': 50,\n",
              "         'part': 50,\n",
              "         'tiger': 50,\n",
              "         'macbook': 50,\n",
              "         'cocacola': 50,\n",
              "         'chemistry': 50,\n",
              "         'game': 50,\n",
              "         'car': 50,\n",
              "         'zebra': 50,\n",
              "         'cricket': 50,\n",
              "         'program': 50,\n",
              "         'india': 50,\n",
              "         'potato': 50})"
            ]
          },
          "metadata": {},
          "execution_count": 101
        }
      ]
    },
    {
      "cell_type": "code",
      "source": [
        "import random\n",
        "\n",
        "def prepare_sequence(seq, word2index):\n",
        "    idxs = list(map(lambda w: word2index[w] if word2index.get(w) is not None else word2index[\"<UNK>\"], seq))\n",
        "    return torch.LongTensor(idxs)\n",
        "\n",
        "def negative_sampling(targets, unigram_table, k):\n",
        "    batch_size = targets.size(0)\n",
        "    neg_samples = []\n",
        "    for i in range(batch_size):\n",
        "        nsample = []\n",
        "        target_index = targets[i].item()\n",
        "        while len(nsample) < k: # num of sampling\n",
        "            neg = random.choice(unigram_table)\n",
        "            if word2index[neg] == target_index:\n",
        "                continue\n",
        "            nsample.append(neg)\n",
        "        neg_samples.append(prepare_sequence(nsample, word2index).view(1, -1))\n",
        "    \n",
        "    return torch.cat(neg_samples)"
      ],
      "metadata": {
        "id": "NxjsNu6AAzqj"
      },
      "execution_count": 102,
      "outputs": []
    },
    {
      "cell_type": "code",
      "source": [
        "input_batch  = torch.Tensor(input_batch)\n",
        "target_batch = torch.LongTensor(target_batch)"
      ],
      "metadata": {
        "id": "oFE9K68SBQZS"
      },
      "execution_count": 103,
      "outputs": []
    },
    {
      "cell_type": "code",
      "source": [
        "target_batch.shape\n"
      ],
      "metadata": {
        "colab": {
          "base_uri": "https://localhost:8080/"
        },
        "id": "Qf2akSmHBVTA",
        "outputId": "7ee14a1b-91d8-4dae-bd1d-ca5531e4dab3"
      },
      "execution_count": 104,
      "outputs": [
        {
          "output_type": "execute_result",
          "data": {
            "text/plain": [
              "torch.Size([2, 1])"
            ]
          },
          "metadata": {},
          "execution_count": 104
        }
      ]
    },
    {
      "cell_type": "code",
      "source": [
        "class SkipgramNegSampling(nn.Module):\n",
        "    \n",
        "    def __init__(self, vocab_size, emb_size):\n",
        "        super(SkipgramNegSampling, self).__init__()\n",
        "        self.embedding_v = nn.Embedding(vocab_size, emb_size) # center embedding\n",
        "        self.embedding_u = nn.Embedding(vocab_size, emb_size) # out embedding\n",
        "        self.logsigmoid = nn.LogSigmoid()\n",
        "                    \n",
        "    def forward(self, center_words, target_words, negative_words):\n",
        "        center_embeds = self.embedding_v(center_words) # [batch_size, 1, emb_size]\n",
        "        target_embeds = self.embedding_u(target_words) # [batch_size, 1, emb_size]\n",
        "        neg_embeds    = -self.embedding_u(negative_words) # [batch_size, num_neg, emb_size]\n",
        "        \n",
        "        positive_score = target_embeds.bmm(center_embeds.transpose(1, 2)).squeeze(2)\n",
        "        #[batch_size, 1, emb_size] @ [batch_size, emb_size, 1] = [batch_size, 1, 1] = [batch_size, 1]\n",
        "        \n",
        "        negative_score = neg_embeds.bmm(center_embeds.transpose(1, 2))\n",
        "        #[batch_size, k, emb_size] @ [batch_size, emb_size, 1] = [batch_size, k, 1]\n",
        "        \n",
        "        loss = self.logsigmoid(positive_score) + torch.sum(self.logsigmoid(negative_score), 1)\n",
        "                \n",
        "        return -torch.mean(loss)\n",
        "    \n",
        "    def prediction(self, inputs):\n",
        "        embeds = self.embedding_v(inputs)\n",
        "        \n",
        "        return embeds"
      ],
      "metadata": {
        "id": "bgMUlJKGBYgG"
      },
      "execution_count": 105,
      "outputs": []
    },
    {
      "cell_type": "code",
      "source": [
        "batch_size     = 2 # mini-batch size\n",
        "embedding_size = 2 #so we can later plot\n",
        "model          = SkipgramNegSampling(voc_size, embedding_size)\n",
        "num_neg        = 10 # num of negative sampling\n",
        "\n",
        "optimizer = optim.Adam(model.parameters(), lr=0.001)"
      ],
      "metadata": {
        "id": "TwF0rVJ2BmNT"
      },
      "execution_count": 106,
      "outputs": []
    },
    {
      "cell_type": "code",
      "source": [
        "def epoch_time(start_time, end_time):\n",
        "    elapsed_time = end_time - start_time\n",
        "    elapsed_mins = int(elapsed_time / 60)\n",
        "    elapsed_secs = int(elapsed_time - (elapsed_mins * 60))\n",
        "    return elapsed_mins, elapsed_secs"
      ],
      "metadata": {
        "id": "JKB3_JBbBsRt"
      },
      "execution_count": 107,
      "outputs": []
    },
    {
      "cell_type": "code",
      "source": [
        "import time\n",
        "\n",
        "# Training\n",
        "num_epochs = 5000\n",
        "for epoch in range(num_epochs):\n",
        "    \n",
        "    start = time.time()\n",
        "    \n",
        "    input_batch, target_batch = random_batch(batch_size, corpus)\n",
        "    \n",
        "    #input_batch: [batch_size, 1]\n",
        "    input_batch = torch.LongTensor(input_batch)\n",
        "    \n",
        "    #target_batch: [batch_size, 1]\n",
        "    target_batch = torch.LongTensor(target_batch)\n",
        "    \n",
        "    #negs_batch:   [batch_size, num_neg]\n",
        "    negs_batch = negative_sampling(target_batch, unigram_table, num_neg)\n",
        "    \n",
        "    optimizer.zero_grad()\n",
        "        \n",
        "    loss = model(input_batch, target_batch, negs_batch)\n",
        "    \n",
        "    end = time.time()\n",
        "    \n",
        "    epoch_mins, epoch_secs = epoch_time(start, end)\n",
        "    \n",
        "    loss.backward()\n",
        "    optimizer.step()\n",
        "\n",
        "    if (epoch + 1) % 1000 == 0:\n",
        "        print(f\"Epoch: {epoch + 1} | cost: {loss:.6f} | time: {epoch_mins}m {epoch_secs}s\")"
      ],
      "metadata": {
        "colab": {
          "base_uri": "https://localhost:8080/"
        },
        "id": "dxv8NfC9B_-C",
        "outputId": "77bd4866-cac2-4011-ac0b-f2df6d8c5039"
      },
      "execution_count": 108,
      "outputs": [
        {
          "output_type": "stream",
          "name": "stdout",
          "text": [
            "Epoch: 1000 | cost: 9.767031 | time: 0m 0s\n",
            "Epoch: 2000 | cost: 8.161299 | time: 0m 0s\n",
            "Epoch: 3000 | cost: 6.261340 | time: 0m 0s\n",
            "Epoch: 4000 | cost: 3.926090 | time: 0m 0s\n",
            "Epoch: 5000 | cost: 2.393404 | time: 0m 0s\n"
          ]
        }
      ]
    },
    {
      "cell_type": "markdown",
      "source": [
        "Get embedding by averaging"
      ],
      "metadata": {
        "id": "wh9NCUxjDI2v"
      }
    },
    {
      "cell_type": "code",
      "source": [
        " v_embed = model.embedding_v(id_tensor)\n",
        "u_embed = model.embedding_u(id_tensor)\n",
        "\n",
        "v_embed, u_embed\n",
        "\n",
        "\n",
        "    \n",
        "    \n",
        "    "
      ],
      "metadata": {
        "colab": {
          "base_uri": "https://localhost:8080/"
        },
        "id": "DLZEwlpHBw7l",
        "outputId": "26e7913d-9507-4715-fa82-87f03a76088c"
      },
      "execution_count": 109,
      "outputs": [
        {
          "output_type": "execute_result",
          "data": {
            "text/plain": [
              "(tensor([[-0.7484, -0.4158]], grad_fn=<EmbeddingBackward0>),\n",
              " tensor([[-0.0351,  0.0781]], grad_fn=<EmbeddingBackward0>))"
            ]
          },
          "metadata": {},
          "execution_count": 109
        }
      ]
    },
    {
      "cell_type": "code",
      "source": [
        "word_embed = (v_embed + u_embed) / 2\n",
        "word_embed[0][1]"
      ],
      "metadata": {
        "colab": {
          "base_uri": "https://localhost:8080/"
        },
        "id": "BLmYVSTADPpH",
        "outputId": "a4df1eaf-8202-4d32-9232-2240d736b110"
      },
      "execution_count": 110,
      "outputs": [
        {
          "output_type": "execute_result",
          "data": {
            "text/plain": [
              "tensor(-0.1689, grad_fn=<SelectBackward0>)"
            ]
          },
          "metadata": {},
          "execution_count": 110
        }
      ]
    },
    {
      "cell_type": "code",
      "source": [
        "def get_embed(word):\n",
        "    id_tensor = torch.LongTensor([word2index[word]])\n",
        "    v_embed = model.embedding_v(id_tensor)\n",
        "    u_embed = model.embedding_u(id_tensor) \n",
        "    word_embed = (v_embed + u_embed) / 2 \n",
        "    x, y = word_embed[0][0].item(), word_embed[0][1].item()\n",
        "\n",
        "    return x, y"
      ],
      "metadata": {
        "id": "k6tslFiuDTtE"
      },
      "execution_count": 111,
      "outputs": []
    },
    {
      "cell_type": "code",
      "source": [
        "plt.figure(figsize=(6,3))\n",
        "for i, word in enumerate(vocab[:20]): #loop each unique vocab\n",
        "    x, y = get_embed(word)\n",
        "    plt.scatter(x, y)\n",
        "    plt.annotate(word, xy=(x, y), xytext=(40, 20), textcoords='offset points')\n",
        "plt.show()"
      ],
      "metadata": {
        "colab": {
          "base_uri": "https://localhost:8080/",
          "height": 232
        },
        "id": "uvsdrLB9DYlu",
        "outputId": "2ba020b8-bd9c-4f6a-e0cc-0f3f885ef3f9"
      },
      "execution_count": 112,
      "outputs": [
        {
          "output_type": "display_data",
          "data": {
            "text/plain": [
              "<Figure size 432x216 with 1 Axes>"
            ],
            "image/png": "[encoded data removed]"
          },
          "metadata": {
            "needs_background": "light"
          }
        }
      ]
    },
    {
      "cell_type": "markdown",
      "source": [],
      "metadata": {
        "id": "LwYlPMqFDkeY"
      }
    },
    {
      "cell_type": "code",
      "source": [],
      "metadata": {
        "id": "ixg1hIGRLvP1"
      },
      "execution_count": null,
      "outputs": []
    },
    {
      "cell_type": "markdown",
      "source": [
        "CBOW"
      ],
      "metadata": {
        "id": "XTlEy3RRLr3D"
      }
    },
    {
      "cell_type": "code",
      "source": [
        "corpus=[\"lion tiger carnivore\", \"tiger lion carnivore\", \"tiger carnivore lion \", \"giraffe zebra herbivore\", \"zebra giraffe herbivore\", \"giraffe herbivore zebra\", \"honda toyota car\", \"toyota honda car\",\" honda car toyota\",\"chicken beef meat\",\"beef chicken meat\",\"chicken meat beef\", \"potato cucumber vegetable\",\"cucumber potato vegetable \", \"potato vegetable cucumber\", \"bee ant insect\",\"ant bee insect\",\"bee insect ant\",\"tennis cricket game\",\"cricket tennis game\",\"tennis game cricket\",\"python java program\",\"java python program\",\"python program java\",\"english hindi language\",\"hindi english language\",\"english language hindi\",\"full time part time student\",\"part time full time student\",\"full time student part time\",\"cocacola pepsi soda\",\"pepsi cocacola soda\",\"cocacola soda pepsi\",\"asus macbook laptop\",\"macbook asus laptop\",\"asus laptop macbook\",\"india brazil country\",\"brazil india country\",\"india country brazil\",\"shirt pant dress\",\"pant shirt dress\",\"shirt dress pant\",\"summer autumn season\",\"autumn summer season\",\"summer season autumn\",\"solid liquid state\",\"liquid solid state\",\"solid state liquid\",\"physics chemistry subject\",\"chemistry physics subject\",\"physiscs subject chemistry\"]"
      ],
      "metadata": {
        "id": "JflJRuV5LwZ5"
      },
      "execution_count": 1,
      "outputs": []
    },
    {
      "cell_type": "markdown",
      "source": [
        "Preparing data for training"
      ],
      "metadata": {
        "id": "cInreBKgMeRV"
      }
    },
    {
      "cell_type": "code",
      "source": [
        "corpus = [sent.split(\" \") for sent in corpus]\n",
        "corpus"
      ],
      "metadata": {
        "colab": {
          "base_uri": "https://localhost:8080/"
        },
        "id": "uU1H1pq4L_6w",
        "outputId": "eaddea61-27c4-4b97-ca4d-5a6a6ab7b589"
      },
      "execution_count": 2,
      "outputs": [
        {
          "output_type": "execute_result",
          "data": {
            "text/plain": [
              "[['lion', 'tiger', 'carnivore'],\n",
              " ['tiger', 'lion', 'carnivore'],\n",
              " ['tiger', 'carnivore', 'lion', ''],\n",
              " ['giraffe', 'zebra', 'herbivore'],\n",
              " ['zebra', 'giraffe', 'herbivore'],\n",
              " ['giraffe', 'herbivore', 'zebra'],\n",
              " ['honda', 'toyota', 'car'],\n",
              " ['toyota', 'honda', 'car'],\n",
              " ['', 'honda', 'car', 'toyota'],\n",
              " ['chicken', 'beef', 'meat'],\n",
              " ['beef', 'chicken', 'meat'],\n",
              " ['chicken', 'meat', 'beef'],\n",
              " ['potato', 'cucumber', 'vegetable'],\n",
              " ['cucumber', 'potato', 'vegetable', ''],\n",
              " ['potato', 'vegetable', 'cucumber'],\n",
              " ['bee', 'ant', 'insect'],\n",
              " ['ant', 'bee', 'insect'],\n",
              " ['bee', 'insect', 'ant'],\n",
              " ['tennis', 'cricket', 'game'],\n",
              " ['cricket', 'tennis', 'game'],\n",
              " ['tennis', 'game', 'cricket'],\n",
              " ['python', 'java', 'program'],\n",
              " ['java', 'python', 'program'],\n",
              " ['python', 'program', 'java'],\n",
              " ['english', 'hindi', 'language'],\n",
              " ['hindi', 'english', 'language'],\n",
              " ['english', 'language', 'hindi'],\n",
              " ['full', 'time', 'part', 'time', 'student'],\n",
              " ['part', 'time', 'full', 'time', 'student'],\n",
              " ['full', 'time', 'student', 'part', 'time'],\n",
              " ['cocacola', 'pepsi', 'soda'],\n",
              " ['pepsi', 'cocacola', 'soda'],\n",
              " ['cocacola', 'soda', 'pepsi'],\n",
              " ['asus', 'macbook', 'laptop'],\n",
              " ['macbook', 'asus', 'laptop'],\n",
              " ['asus', 'laptop', 'macbook'],\n",
              " ['india', 'brazil', 'country'],\n",
              " ['brazil', 'india', 'country'],\n",
              " ['india', 'country', 'brazil'],\n",
              " ['shirt', 'pant', 'dress'],\n",
              " ['pant', 'shirt', 'dress'],\n",
              " ['shirt', 'dress', 'pant'],\n",
              " ['summer', 'autumn', 'season'],\n",
              " ['autumn', 'summer', 'season'],\n",
              " ['summer', 'season', 'autumn'],\n",
              " ['solid', 'liquid', 'state'],\n",
              " ['liquid', 'solid', 'state'],\n",
              " ['solid', 'state', 'liquid'],\n",
              " ['physics', 'chemistry', 'subject'],\n",
              " ['chemistry', 'physics', 'subject'],\n",
              " ['physiscs', 'subject', 'chemistry']]"
            ]
          },
          "metadata": {},
          "execution_count": 2
        }
      ]
    },
    {
      "cell_type": "code",
      "source": [
        "flatten = lambda l: [item for sublist in l for item in sublist]\n",
        "vocab = list(set(flatten(corpus)))\n",
        "vocab"
      ],
      "metadata": {
        "colab": {
          "base_uri": "https://localhost:8080/"
        },
        "id": "6bDYtG_PMoSt",
        "outputId": "4abc3ede-9e8e-44c8-c501-6b3eb1df257d"
      },
      "execution_count": 3,
      "outputs": [
        {
          "output_type": "execute_result",
          "data": {
            "text/plain": [
              "['',\n",
              " 'season',\n",
              " 'carnivore',\n",
              " 'time',\n",
              " 'potato',\n",
              " 'giraffe',\n",
              " 'country',\n",
              " 'dress',\n",
              " 'physiscs',\n",
              " 'python',\n",
              " 'autumn',\n",
              " 'toyota',\n",
              " 'macbook',\n",
              " 'chemistry',\n",
              " 'pepsi',\n",
              " 'cucumber',\n",
              " 'vegetable',\n",
              " 'full',\n",
              " 'beef',\n",
              " 'tennis',\n",
              " 'pant',\n",
              " 'india',\n",
              " 'summer',\n",
              " 'solid',\n",
              " 'honda',\n",
              " 'cocacola',\n",
              " 'meat',\n",
              " 'chicken',\n",
              " 'liquid',\n",
              " 'physics',\n",
              " 'brazil',\n",
              " 'zebra',\n",
              " 'state',\n",
              " 'shirt',\n",
              " 'lion',\n",
              " 'asus',\n",
              " 'tiger',\n",
              " 'student',\n",
              " 'laptop',\n",
              " 'insect',\n",
              " 'car',\n",
              " 'soda',\n",
              " 'bee',\n",
              " 'hindi',\n",
              " 'language',\n",
              " 'cricket',\n",
              " 'game',\n",
              " 'java',\n",
              " 'part',\n",
              " 'subject',\n",
              " 'herbivore',\n",
              " 'program',\n",
              " 'ant',\n",
              " 'english']"
            ]
          },
          "metadata": {},
          "execution_count": 3
        }
      ]
    },
    {
      "cell_type": "code",
      "source": [
        "for c in corpus:\n",
        "    print(c)"
      ],
      "metadata": {
        "colab": {
          "base_uri": "https://localhost:8080/"
        },
        "id": "0iFxkxPKMqQD",
        "outputId": "52a66765-a075-4a81-eb9d-3b9869880807"
      },
      "execution_count": 4,
      "outputs": [
        {
          "output_type": "stream",
          "name": "stdout",
          "text": [
            "['lion', 'tiger', 'carnivore']\n",
            "['tiger', 'lion', 'carnivore']\n",
            "['tiger', 'carnivore', 'lion', '']\n",
            "['giraffe', 'zebra', 'herbivore']\n",
            "['zebra', 'giraffe', 'herbivore']\n",
            "['giraffe', 'herbivore', 'zebra']\n",
            "['honda', 'toyota', 'car']\n",
            "['toyota', 'honda', 'car']\n",
            "['', 'honda', 'car', 'toyota']\n",
            "['chicken', 'beef', 'meat']\n",
            "['beef', 'chicken', 'meat']\n",
            "['chicken', 'meat', 'beef']\n",
            "['potato', 'cucumber', 'vegetable']\n",
            "['cucumber', 'potato', 'vegetable', '']\n",
            "['potato', 'vegetable', 'cucumber']\n",
            "['bee', 'ant', 'insect']\n",
            "['ant', 'bee', 'insect']\n",
            "['bee', 'insect', 'ant']\n",
            "['tennis', 'cricket', 'game']\n",
            "['cricket', 'tennis', 'game']\n",
            "['tennis', 'game', 'cricket']\n",
            "['python', 'java', 'program']\n",
            "['java', 'python', 'program']\n",
            "['python', 'program', 'java']\n",
            "['english', 'hindi', 'language']\n",
            "['hindi', 'english', 'language']\n",
            "['english', 'language', 'hindi']\n",
            "['full', 'time', 'part', 'time', 'student']\n",
            "['part', 'time', 'full', 'time', 'student']\n",
            "['full', 'time', 'student', 'part', 'time']\n",
            "['cocacola', 'pepsi', 'soda']\n",
            "['pepsi', 'cocacola', 'soda']\n",
            "['cocacola', 'soda', 'pepsi']\n",
            "['asus', 'macbook', 'laptop']\n",
            "['macbook', 'asus', 'laptop']\n",
            "['asus', 'laptop', 'macbook']\n",
            "['india', 'brazil', 'country']\n",
            "['brazil', 'india', 'country']\n",
            "['india', 'country', 'brazil']\n",
            "['shirt', 'pant', 'dress']\n",
            "['pant', 'shirt', 'dress']\n",
            "['shirt', 'dress', 'pant']\n",
            "['summer', 'autumn', 'season']\n",
            "['autumn', 'summer', 'season']\n",
            "['summer', 'season', 'autumn']\n",
            "['solid', 'liquid', 'state']\n",
            "['liquid', 'solid', 'state']\n",
            "['solid', 'state', 'liquid']\n",
            "['physics', 'chemistry', 'subject']\n",
            "['chemistry', 'physics', 'subject']\n",
            "['physiscs', 'subject', 'chemistry']\n"
          ]
        }
      ]
    },
    {
      "cell_type": "markdown",
      "source": [
        "Lets have a window size of 2"
      ],
      "metadata": {
        "id": "bqeFzaSHNJ5M"
      }
    },
    {
      "cell_type": "code",
      "source": [
        "def random_batch(batch_size, word_sequence):\n",
        "    \n",
        "    # Make skip gram of one size window\n",
        "    skip_grams_cbow = []\n",
        "    # loop each word sequence\n",
        "    # we starts from 1 because 0 has no context\n",
        "    # we stop at second last for the same reason\n",
        "    for sent in corpus:\n",
        "        for i in range(2, len(sent) - 2):\n",
        "            target = word2index[sent[i]]\n",
        "            context = [word2index[sent[i - 2]], word2index[sent[i + 2]]]\n",
        "            for w in context:\n",
        "                skip_grams_cbow.append([target, w])\n",
        "    \n",
        "    random_inputs = []\n",
        "    random_labels = []\n",
        "    random_index = np.random.choice(range(len(skip_grams_cbow)), batch_size, replace=False) #randomly pick without replacement\n",
        "        \n",
        "    for i in random_index:\n",
        "        random_inputs.append([skip_grams_cbow[i][0]])  # target, e.g., 2\n",
        "        random_labels.append([skip_grams_cbow[i][1]])  # context word, e.g., 3\n",
        "            \n",
        "    return np.array(random_inputs), np.array(random_labels)"
      ],
      "metadata": {
        "id": "SjUtzY0lNMqL"
      },
      "execution_count": 5,
      "outputs": []
    },
    {
      "cell_type": "markdown",
      "source": [
        "Model"
      ],
      "metadata": {
        "id": "uVsxSqAEN4bF"
      }
    },
    {
      "cell_type": "code",
      "source": [
        "class Skipgram(nn.Module):\n",
        "    \n",
        "    def __init__(self, vocab_size, emb_size):\n",
        "        super(Skipgram,self).__init__()\n",
        "        self.embedding_v = nn.Embedding(vocab_size, emb_size)\n",
        "        self.embedding_u = nn.Embedding(vocab_size, emb_size)\n",
        "    \n",
        "    def forward(self, center_words, target_words, all_vocabs):\n",
        "        center_embeds = self.embedding_v(center_words) \n",
        "        target_embeds = self.embedding_u(target_words) \n",
        "        all_embeds    = self.embedding_u(all_vocabs) \n",
        "        \n",
        "        scores      = target_embeds.bmm(center_embeds.transpose(1, 2)).squeeze(2)\n",
        "        norm_scores = all_embeds.bmm(center_embeds.transpose(1, 2)).squeeze(2)\n",
        "        nll = -torch.mean(torch.log(torch.exp(scores)/torch.sum(torch.exp(norm_scores), 1).unsqueeze(1))) # log-softmax   \n",
        "        return nll\n"
      ],
      "metadata": {
        "colab": {
          "base_uri": "https://localhost:8080/",
          "height": 235
        },
        "id": "aZsDLuRENnt4",
        "outputId": "9cbd9658-9609-47c4-d283-c7c500f1db59"
      },
      "execution_count": 8,
      "outputs": [
        {
          "output_type": "error",
          "ename": "NameError",
          "evalue": "ignored",
          "traceback": [
            "\u001b[0;31m---------------------------------------------------------------------------\u001b[0m",
            "\u001b[0;31mNameError\u001b[0m                                 Traceback (most recent call last)",
            "\u001b[0;32m<ipython-input-8-6d0c2812d538>\u001b[0m in \u001b[0;36m<module>\u001b[0;34m\u001b[0m\n\u001b[0;32m----> 1\u001b[0;31m \u001b[0;32mclass\u001b[0m \u001b[0mSkipgram\u001b[0m\u001b[0;34m(\u001b[0m\u001b[0mnn\u001b[0m\u001b[0;34m.\u001b[0m\u001b[0mModule\u001b[0m\u001b[0;34m)\u001b[0m\u001b[0;34m:\u001b[0m\u001b[0;34m\u001b[0m\u001b[0;34m\u001b[0m\u001b[0m\n\u001b[0m\u001b[1;32m      2\u001b[0m \u001b[0;34m\u001b[0m\u001b[0m\n\u001b[1;32m      3\u001b[0m     \u001b[0;32mdef\u001b[0m \u001b[0m__init__\u001b[0m\u001b[0;34m(\u001b[0m\u001b[0mself\u001b[0m\u001b[0;34m,\u001b[0m \u001b[0mvocab_size\u001b[0m\u001b[0;34m,\u001b[0m \u001b[0memb_size\u001b[0m\u001b[0;34m)\u001b[0m\u001b[0;34m:\u001b[0m\u001b[0;34m\u001b[0m\u001b[0;34m\u001b[0m\u001b[0m\n\u001b[1;32m      4\u001b[0m         \u001b[0msuper\u001b[0m\u001b[0;34m(\u001b[0m\u001b[0mSkipgram\u001b[0m\u001b[0;34m,\u001b[0m\u001b[0mself\u001b[0m\u001b[0;34m)\u001b[0m\u001b[0;34m.\u001b[0m\u001b[0m__init__\u001b[0m\u001b[0;34m(\u001b[0m\u001b[0;34m)\u001b[0m\u001b[0;34m\u001b[0m\u001b[0;34m\u001b[0m\u001b[0m\n\u001b[1;32m      5\u001b[0m         \u001b[0mself\u001b[0m\u001b[0;34m.\u001b[0m\u001b[0membedding_v\u001b[0m \u001b[0;34m=\u001b[0m \u001b[0mnn\u001b[0m\u001b[0;34m.\u001b[0m\u001b[0mEmbedding\u001b[0m\u001b[0;34m(\u001b[0m\u001b[0mvocab_size\u001b[0m\u001b[0;34m,\u001b[0m \u001b[0memb_size\u001b[0m\u001b[0;34m)\u001b[0m\u001b[0;34m\u001b[0m\u001b[0;34m\u001b[0m\u001b[0m\n",
            "\u001b[0;31mNameError\u001b[0m: name 'nn' is not defined"
          ]
        }
      ]
    }
  ]
}